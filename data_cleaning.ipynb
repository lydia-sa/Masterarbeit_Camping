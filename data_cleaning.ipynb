{
 "cells": [
  {
   "cell_type": "code",
   "execution_count": 30,
   "metadata": {
    "collapsed": true
   },
   "outputs": [],
   "source": [
    "import pandas as pd"
   ]
  },
  {
   "cell_type": "markdown",
   "source": [
    "# Daten camping.ch\n",
    "## Import"
   ],
   "metadata": {
    "collapsed": false
   }
  },
  {
   "cell_type": "code",
   "execution_count": 81,
   "outputs": [
    {
     "data": {
      "text/plain": "                                                 url  \\\n0  https://camping.ch/de/campingplatz/tessin/meri...   \n1  https://camping.ch/de/campingplatz/wallis/fies...   \n2  https://camping.ch/de/campingplatz/wallis/les-...   \n3  https://camping.ch/de/campingplatz/berner-ober...   \n4  https://camping.ch/de/campingplatz/tessin/mont...   \n\n                        name                  locality website  star category  \\\n0  Camping Monte San Giorgio          6866 Meride (TI)     NaN              4   \n1                  Eggishorn          3984 Fiesch (VS)     NaN              4   \n2                La Médettaz  1923 Les Marécottes (VS)     NaN              2   \n3                     Gadmen          3863 Gadmen (BE)     NaN              2   \n4          Bosco della Bella       6998 Monteggio (TI)     NaN              0   \n\n   activities  tourist pitches         open (seasons 1) open (seasons 2)  \\\n0           8             64.0  19.04.2024 − 29.09.2024              NaN   \n1           6            127.0  01.01.2024 − 31.12.2024              NaN   \n2           5             30.0  01.05.2024 − 30.09.2024              NaN   \n3          11             50.0  01.05.2024 − 31.10.2024              NaN   \n4           2              NaN  01.01.2024 − 31.12.2024              NaN   \n\n  open (seasons 3)  ... laundry dryer / tumble dryer hiking  \\\n0              NaN  ...                            0      1   \n1              NaN  ...                            0      1   \n2              NaN  ...                            1      1   \n3              NaN  ...                            0      0   \n4              NaN  ...                            0      0   \n\n  lake with sandy beach  lake with stony beach  river  train station  bus  \\\n0                     0                      0      1              0    1   \n1                     0                      0      1              1    1   \n2                     0                      0      0              1    1   \n3                     0                      0      0              0    0   \n4                     0                      0      1              0    0   \n\n   VSC membership  TCS membership  SCCV membership  \n0               1               1                0  \n1               1               0                0  \n2               0               0                0  \n3               1               0                0  \n4               0               0                0  \n\n[5 rows x 48 columns]",
      "text/html": "<div>\n<style scoped>\n    .dataframe tbody tr th:only-of-type {\n        vertical-align: middle;\n    }\n\n    .dataframe tbody tr th {\n        vertical-align: top;\n    }\n\n    .dataframe thead th {\n        text-align: right;\n    }\n</style>\n<table border=\"1\" class=\"dataframe\">\n  <thead>\n    <tr style=\"text-align: right;\">\n      <th></th>\n      <th>url</th>\n      <th>name</th>\n      <th>locality</th>\n      <th>website</th>\n      <th>star category</th>\n      <th>activities</th>\n      <th>tourist pitches</th>\n      <th>open (seasons 1)</th>\n      <th>open (seasons 2)</th>\n      <th>open (seasons 3)</th>\n      <th>...</th>\n      <th>laundry dryer / tumble dryer</th>\n      <th>hiking</th>\n      <th>lake with sandy beach</th>\n      <th>lake with stony beach</th>\n      <th>river</th>\n      <th>train station</th>\n      <th>bus</th>\n      <th>VSC membership</th>\n      <th>TCS membership</th>\n      <th>SCCV membership</th>\n    </tr>\n  </thead>\n  <tbody>\n    <tr>\n      <th>0</th>\n      <td>https://camping.ch/de/campingplatz/tessin/meri...</td>\n      <td>Camping Monte San Giorgio</td>\n      <td>6866 Meride (TI)</td>\n      <td>NaN</td>\n      <td>4</td>\n      <td>8</td>\n      <td>64.0</td>\n      <td>19.04.2024 − 29.09.2024</td>\n      <td>NaN</td>\n      <td>NaN</td>\n      <td>...</td>\n      <td>0</td>\n      <td>1</td>\n      <td>0</td>\n      <td>0</td>\n      <td>1</td>\n      <td>0</td>\n      <td>1</td>\n      <td>1</td>\n      <td>1</td>\n      <td>0</td>\n    </tr>\n    <tr>\n      <th>1</th>\n      <td>https://camping.ch/de/campingplatz/wallis/fies...</td>\n      <td>Eggishorn</td>\n      <td>3984 Fiesch (VS)</td>\n      <td>NaN</td>\n      <td>4</td>\n      <td>6</td>\n      <td>127.0</td>\n      <td>01.01.2024 − 31.12.2024</td>\n      <td>NaN</td>\n      <td>NaN</td>\n      <td>...</td>\n      <td>0</td>\n      <td>1</td>\n      <td>0</td>\n      <td>0</td>\n      <td>1</td>\n      <td>1</td>\n      <td>1</td>\n      <td>1</td>\n      <td>0</td>\n      <td>0</td>\n    </tr>\n    <tr>\n      <th>2</th>\n      <td>https://camping.ch/de/campingplatz/wallis/les-...</td>\n      <td>La Médettaz</td>\n      <td>1923 Les Marécottes (VS)</td>\n      <td>NaN</td>\n      <td>2</td>\n      <td>5</td>\n      <td>30.0</td>\n      <td>01.05.2024 − 30.09.2024</td>\n      <td>NaN</td>\n      <td>NaN</td>\n      <td>...</td>\n      <td>1</td>\n      <td>1</td>\n      <td>0</td>\n      <td>0</td>\n      <td>0</td>\n      <td>1</td>\n      <td>1</td>\n      <td>0</td>\n      <td>0</td>\n      <td>0</td>\n    </tr>\n    <tr>\n      <th>3</th>\n      <td>https://camping.ch/de/campingplatz/berner-ober...</td>\n      <td>Gadmen</td>\n      <td>3863 Gadmen (BE)</td>\n      <td>NaN</td>\n      <td>2</td>\n      <td>11</td>\n      <td>50.0</td>\n      <td>01.05.2024 − 31.10.2024</td>\n      <td>NaN</td>\n      <td>NaN</td>\n      <td>...</td>\n      <td>0</td>\n      <td>0</td>\n      <td>0</td>\n      <td>0</td>\n      <td>0</td>\n      <td>0</td>\n      <td>0</td>\n      <td>1</td>\n      <td>0</td>\n      <td>0</td>\n    </tr>\n    <tr>\n      <th>4</th>\n      <td>https://camping.ch/de/campingplatz/tessin/mont...</td>\n      <td>Bosco della Bella</td>\n      <td>6998 Monteggio (TI)</td>\n      <td>NaN</td>\n      <td>0</td>\n      <td>2</td>\n      <td>NaN</td>\n      <td>01.01.2024 − 31.12.2024</td>\n      <td>NaN</td>\n      <td>NaN</td>\n      <td>...</td>\n      <td>0</td>\n      <td>0</td>\n      <td>0</td>\n      <td>0</td>\n      <td>1</td>\n      <td>0</td>\n      <td>0</td>\n      <td>0</td>\n      <td>0</td>\n      <td>0</td>\n    </tr>\n  </tbody>\n</table>\n<p>5 rows × 48 columns</p>\n</div>"
     },
     "execution_count": 81,
     "metadata": {},
     "output_type": "execute_result"
    }
   ],
   "source": [
    "df_camping = pd.read_csv('campingspider/camping.csv', encoding='utf-8')\n",
    "df_camping.head()"
   ],
   "metadata": {
    "collapsed": false
   }
  },
  {
   "cell_type": "markdown",
   "source": [
    "## Ersetzen von falschen Werten"
   ],
   "metadata": {
    "collapsed": false
   }
  },
  {
   "cell_type": "code",
   "execution_count": 82,
   "outputs": [],
   "source": [
    "# Folgende drei Saisondaten waren falsch hinterlegt (mit null Tagen) und wurden deshalb manuell nachgeschaut. Die restlichen Saisondaten wurden nicht nachgeprüft.\n",
    "corrections_date = {\n",
    "    'Camping Bellavista': '12.04.2024 - 13.10.2024',\n",
    "    'Camping Schaffhausen - Freizeitanlage Rheinwiese': '27.03.2024 - 20.10.2024',\n",
    "    'Nufenenpark': '01.06.2024 - 30.09.2024'\n",
    "}\n",
    "\n",
    "# Funktion zur Korrektur der Datumsangaben\n",
    "def correct_dates(row):\n",
    "    if row['name'] in corrections_date:\n",
    "        return corrections_date[row['name']]\n",
    "    return row['open (seasons 1)']\n",
    "\n",
    "# Datumsangaben im DataFrame korrigieren\n",
    "df_camping['open (seasons 1)'] = df_camping.apply(correct_dates, axis=1)"
   ],
   "metadata": {
    "collapsed": false
   }
  },
  {
   "cell_type": "code",
   "execution_count": 83,
   "outputs": [],
   "source": [
    "# Quelle: Internetseite der Campingplätze. Es wurden nur die Campingplätze mit Anzahl Touristenplätze < 10 und 'nan' geprüft.\n",
    "corrections_pitches = {\n",
    "    'https://camping.ch/de/campingplatz/ostschweiz/weesen/camping-gaesi?l=true': 70,\n",
    "    'https://camping.ch/de/campingplatz/waadt-genfersee/forel/camping-de-forel?l=true': 43,\n",
    "    'https://camping.ch/de/campingplatz/ostschweiz/Altst%25C3%25A4tten/allmend_rheintal?l=true': 150,\n",
    "    'https://camping.ch/de/campingplatz/wallis/ritzingen/camping-brigga?l=true': 127,\n",
    "    'https://camping.ch/de/campingplatz/ostschweiz/mammern/seewiese?l=true': 95,\n",
    "    'https://camping.ch/de/campingplatz/zentralschweiz/seelisberg/naturcamping_seelisberg?l=true': 60,\n",
    "    'https://camping.ch/de/campingplatz/tessin/monteggio/boscodellabella?l=true': 10,\n",
    "    'https://camping.ch/de/campingplatz/freiburg-neuenburg-jura/le-noirmont/camping-du-creux-des-biches?l=true': 40,\n",
    "    'https://camping.ch/de/campingplatz/zentralschweiz/sisikon/camping_bucheli?l=true': 50,\n",
    "    'https://camping.ch/de/campingplatz/wallis/sembrancher/la-prairie?l=true': 48,\n",
    "    'https://camping.ch/de/campingplatz/berner-mitelland/rueschegg-heubach/camping-rueschegg-heubach?l=true': 20,\n",
    "    'https://camping.ch/de/campingplatz/zentralschweiz/morgarten/camping_neselen?l=true': 40,\n",
    "    'https://camping.ch/de/campingplatz/berner-oberland/boenigen/seeruhe?l=true': 88,\n",
    "    'https://camping.ch/de/campingplatz/ostschweiz/stein-a-rhein/grenzstein?l=true': 64,\n",
    "    'https://camping.ch/de/campingplatz/berner-oberland/saanen/beim-kappeli?l=true': 27,\n",
    "    'https://camping.ch/de/campingplatz/freiburg-neuenburg-jura/rebeuvilier/du-raimeux?l=true': 31,\n",
    "    'https://camping.ch/de/campingplatz/berner-oberland/gsteig-b-gstaad/bergcamping-gsteig?l=true': 16,\n",
    "    'https://camping.ch/de/campingplatz/berner-oberland/schwenden-im-diemtigtal/camping-eggmatte-diemtigtal?l=true': 16,\n",
    "    'https://camping.ch/de/campingplatz/freiburg-neuenburg-jura/le-landeron/bellerive-le-landeron?l=true': 50,\n",
    "}\n",
    "\n",
    "# Funktion zur Korrektur der Datumsangaben\n",
    "def correct_dates(row):\n",
    "    if row['url'] in corrections_pitches:\n",
    "        return corrections_pitches[row['url']]\n",
    "    return row['tourist pitches']\n",
    "\n",
    "# Datumsangaben im DataFrame korrigieren\n",
    "df_camping['tourist pitches'] = df_camping.apply(correct_dates, axis=1)"
   ],
   "metadata": {
    "collapsed": false
   }
  },
  {
   "cell_type": "markdown",
   "source": [
    "## Berechnung prozentuale Öffnungszeiten\n",
    "Tage Jahr: 365 (Vereinfachung)"
   ],
   "metadata": {
    "collapsed": false
   }
  },
  {
   "cell_type": "code",
   "execution_count": 84,
   "outputs": [],
   "source": [
    "from datetime import datetime\n",
    "# Tage von Öffnung bis Schliessung der Saison\n",
    "def process_column_value(value):\n",
    "    # leere Zellen:\n",
    "    if pd.isna(value) or value == \"\":\n",
    "        return 0\n",
    "    try:\n",
    "        # wenn ein Text vor dem Datum steht, sollen die Zeichen nach dem Doppelpunkt für das Datum verwendet werden\n",
    "        if ':' in value:\n",
    "            middle_value = value[value.find(':') + 2: value.find(':') + 12].strip()\n",
    "            open_date = datetime.strptime(middle_value, '%d.%m.%Y')\n",
    "            end_date = datetime.strptime(value[-10:].strip(), '%d.%m.%Y')\n",
    "            return  (end_date - open_date).days\n",
    "        end_date = datetime.strptime(value[-10:].strip(), '%d.%m.%Y')\n",
    "        open_date = datetime.strptime(value[:10].strip(), '%d.%m.%Y')\n",
    "        return (end_date - open_date).days\n",
    "    except:\n",
    "        print(f\"Fehler bei der Verarbeitung von Wert {value}\")\n",
    "        return 0\n",
    "\n",
    "# für alle Saison die Tage berechnen (falls mehrere) und zusammenzählen\n",
    "def calculate_row(row):\n",
    "    columns = ['open (seasons 1)', 'open (seasons 2)', 'open (seasons 3)', 'open (seasons 4)', 'open (seasons 5)', 'open (seasons 6)', 'open (seasons 7)']\n",
    "    total = 0\n",
    "    for col in columns:\n",
    "        total += process_column_value(row[col])\n",
    "    return total\n",
    "\n",
    "# Neue Spalte mit Tagen erstellen, indem die Berechnung auf jede Zeile angewandt wird\n",
    "df_camping['open[day]'] = df_camping.apply(calculate_row, axis=1)"
   ],
   "metadata": {
    "collapsed": false
   }
  },
  {
   "cell_type": "code",
   "execution_count": 85,
   "outputs": [],
   "source": [
    "# prozentualer Anteil der offenen Tage am Gesamtjahr\n",
    "df_camping['open[%]'] = df_camping['open[day]']/365"
   ],
   "metadata": {
    "collapsed": false
   }
  },
  {
   "cell_type": "code",
   "execution_count": 86,
   "outputs": [
    {
     "data": {
      "text/plain": "                                                   url  \\\n0    https://camping.ch/de/campingplatz/tessin/meri...   \n1    https://camping.ch/de/campingplatz/wallis/fies...   \n2    https://camping.ch/de/campingplatz/wallis/les-...   \n3    https://camping.ch/de/campingplatz/berner-ober...   \n4    https://camping.ch/de/campingplatz/tessin/mont...   \n..                                                 ...   \n372  https://camping.ch/de/campingplatz/graubuenden...   \n373  https://camping.ch/de/campingplatz/wallis/sust...   \n374  https://camping.ch/de/campingplatz/waadt-genfe...   \n375  https://camping.ch/de/campingplatz/nordwestsch...   \n376  https://camping.ch/de/campingplatz/tessin/gord...   \n\n                                    name                  locality  \\\n0              Camping Monte San Giorgio          6866 Meride (TI)   \n1                              Eggishorn          3984 Fiesch (VS)   \n2                            La Médettaz  1923 Les Marécottes (VS)   \n3                                 Gadmen          3863 Gadmen (BE)   \n4                      Bosco della Bella       6998 Monteggio (TI)   \n..                                   ...                       ...   \n372                        Camping Rania          7432 Zillis (GR)   \n373                     Camping Monument          3952 Susten (VS)   \n374                          Bois-du-Fey           1430 Orges (VD)   \n375                 Campingplatz Talhaus       4416 Bubendorf (BL)   \n376  TCS Camping Gordevio – Valle Maggia        6672 Gordevio (TI)   \n\n                    website  star category  activities  tourist pitches  \\\n0                       NaN              4           8             64.0   \n1                       NaN              4           6            127.0   \n2                       NaN              2           5             30.0   \n3                       NaN              2          11             50.0   \n4                       NaN              0           2             10.0   \n..                      ...            ...         ...              ...   \n372                     NaN              3           6             35.0   \n373  www.campingmonument.ch              3           6            170.0   \n374                     NaN              2           6             12.0   \n375                     NaN              0           4             10.0   \n376                     NaN              4          11            127.0   \n\n            open (seasons 1) open (seasons 2) open (seasons 3)  ...  \\\n0    19.04.2024 − 29.09.2024              NaN              NaN  ...   \n1    01.01.2024 − 31.12.2024              NaN              NaN  ...   \n2    01.05.2024 − 30.09.2024              NaN              NaN  ...   \n3    01.05.2024 − 31.10.2024              NaN              NaN  ...   \n4    01.01.2024 − 31.12.2024              NaN              NaN  ...   \n..                       ...              ...              ...  ...   \n372  01.01.2024 − 31.12.2024              NaN              NaN  ...   \n373  01.05.2024 − 24.09.2024              NaN              NaN  ...   \n374  01.03.2024 − 31.10.2024              NaN              NaN  ...   \n375  01.01.2024 − 31.12.2024              NaN              NaN  ...   \n376  01.04.2024 − 24.10.2024              NaN              NaN  ...   \n\n    lake with sandy beach lake with stony beach river  train station  bus  \\\n0                       0                     0     1              0    1   \n1                       0                     0     1              1    1   \n2                       0                     0     0              1    1   \n3                       0                     0     0              0    0   \n4                       0                     0     1              0    0   \n..                    ...                   ...   ...            ...  ...   \n372                     0                     0     1              0    1   \n373                     0                     0     1              1    1   \n374                     0                     0     0              1    0   \n375                     0                     0     1              1    0   \n376                     0                     0     1              0    0   \n\n     VSC membership  TCS membership  SCCV membership  open[day]   open[%]  \n0                 1               1                0        163  0.446575  \n1                 1               0                0        365  1.000000  \n2                 0               0                0        152  0.416438  \n3                 1               0                0        183  0.501370  \n4                 0               0                0        365  1.000000  \n..              ...             ...              ...        ...       ...  \n372               0               0                0        365  1.000000  \n373               0               0                0        146  0.400000  \n374               0               0                1        244  0.668493  \n375               0               0                0        365  1.000000  \n376               1               1                0        206  0.564384  \n\n[377 rows x 50 columns]",
      "text/html": "<div>\n<style scoped>\n    .dataframe tbody tr th:only-of-type {\n        vertical-align: middle;\n    }\n\n    .dataframe tbody tr th {\n        vertical-align: top;\n    }\n\n    .dataframe thead th {\n        text-align: right;\n    }\n</style>\n<table border=\"1\" class=\"dataframe\">\n  <thead>\n    <tr style=\"text-align: right;\">\n      <th></th>\n      <th>url</th>\n      <th>name</th>\n      <th>locality</th>\n      <th>website</th>\n      <th>star category</th>\n      <th>activities</th>\n      <th>tourist pitches</th>\n      <th>open (seasons 1)</th>\n      <th>open (seasons 2)</th>\n      <th>open (seasons 3)</th>\n      <th>...</th>\n      <th>lake with sandy beach</th>\n      <th>lake with stony beach</th>\n      <th>river</th>\n      <th>train station</th>\n      <th>bus</th>\n      <th>VSC membership</th>\n      <th>TCS membership</th>\n      <th>SCCV membership</th>\n      <th>open[day]</th>\n      <th>open[%]</th>\n    </tr>\n  </thead>\n  <tbody>\n    <tr>\n      <th>0</th>\n      <td>https://camping.ch/de/campingplatz/tessin/meri...</td>\n      <td>Camping Monte San Giorgio</td>\n      <td>6866 Meride (TI)</td>\n      <td>NaN</td>\n      <td>4</td>\n      <td>8</td>\n      <td>64.0</td>\n      <td>19.04.2024 − 29.09.2024</td>\n      <td>NaN</td>\n      <td>NaN</td>\n      <td>...</td>\n      <td>0</td>\n      <td>0</td>\n      <td>1</td>\n      <td>0</td>\n      <td>1</td>\n      <td>1</td>\n      <td>1</td>\n      <td>0</td>\n      <td>163</td>\n      <td>0.446575</td>\n    </tr>\n    <tr>\n      <th>1</th>\n      <td>https://camping.ch/de/campingplatz/wallis/fies...</td>\n      <td>Eggishorn</td>\n      <td>3984 Fiesch (VS)</td>\n      <td>NaN</td>\n      <td>4</td>\n      <td>6</td>\n      <td>127.0</td>\n      <td>01.01.2024 − 31.12.2024</td>\n      <td>NaN</td>\n      <td>NaN</td>\n      <td>...</td>\n      <td>0</td>\n      <td>0</td>\n      <td>1</td>\n      <td>1</td>\n      <td>1</td>\n      <td>1</td>\n      <td>0</td>\n      <td>0</td>\n      <td>365</td>\n      <td>1.000000</td>\n    </tr>\n    <tr>\n      <th>2</th>\n      <td>https://camping.ch/de/campingplatz/wallis/les-...</td>\n      <td>La Médettaz</td>\n      <td>1923 Les Marécottes (VS)</td>\n      <td>NaN</td>\n      <td>2</td>\n      <td>5</td>\n      <td>30.0</td>\n      <td>01.05.2024 − 30.09.2024</td>\n      <td>NaN</td>\n      <td>NaN</td>\n      <td>...</td>\n      <td>0</td>\n      <td>0</td>\n      <td>0</td>\n      <td>1</td>\n      <td>1</td>\n      <td>0</td>\n      <td>0</td>\n      <td>0</td>\n      <td>152</td>\n      <td>0.416438</td>\n    </tr>\n    <tr>\n      <th>3</th>\n      <td>https://camping.ch/de/campingplatz/berner-ober...</td>\n      <td>Gadmen</td>\n      <td>3863 Gadmen (BE)</td>\n      <td>NaN</td>\n      <td>2</td>\n      <td>11</td>\n      <td>50.0</td>\n      <td>01.05.2024 − 31.10.2024</td>\n      <td>NaN</td>\n      <td>NaN</td>\n      <td>...</td>\n      <td>0</td>\n      <td>0</td>\n      <td>0</td>\n      <td>0</td>\n      <td>0</td>\n      <td>1</td>\n      <td>0</td>\n      <td>0</td>\n      <td>183</td>\n      <td>0.501370</td>\n    </tr>\n    <tr>\n      <th>4</th>\n      <td>https://camping.ch/de/campingplatz/tessin/mont...</td>\n      <td>Bosco della Bella</td>\n      <td>6998 Monteggio (TI)</td>\n      <td>NaN</td>\n      <td>0</td>\n      <td>2</td>\n      <td>10.0</td>\n      <td>01.01.2024 − 31.12.2024</td>\n      <td>NaN</td>\n      <td>NaN</td>\n      <td>...</td>\n      <td>0</td>\n      <td>0</td>\n      <td>1</td>\n      <td>0</td>\n      <td>0</td>\n      <td>0</td>\n      <td>0</td>\n      <td>0</td>\n      <td>365</td>\n      <td>1.000000</td>\n    </tr>\n    <tr>\n      <th>...</th>\n      <td>...</td>\n      <td>...</td>\n      <td>...</td>\n      <td>...</td>\n      <td>...</td>\n      <td>...</td>\n      <td>...</td>\n      <td>...</td>\n      <td>...</td>\n      <td>...</td>\n      <td>...</td>\n      <td>...</td>\n      <td>...</td>\n      <td>...</td>\n      <td>...</td>\n      <td>...</td>\n      <td>...</td>\n      <td>...</td>\n      <td>...</td>\n      <td>...</td>\n      <td>...</td>\n    </tr>\n    <tr>\n      <th>372</th>\n      <td>https://camping.ch/de/campingplatz/graubuenden...</td>\n      <td>Camping Rania</td>\n      <td>7432 Zillis (GR)</td>\n      <td>NaN</td>\n      <td>3</td>\n      <td>6</td>\n      <td>35.0</td>\n      <td>01.01.2024 − 31.12.2024</td>\n      <td>NaN</td>\n      <td>NaN</td>\n      <td>...</td>\n      <td>0</td>\n      <td>0</td>\n      <td>1</td>\n      <td>0</td>\n      <td>1</td>\n      <td>0</td>\n      <td>0</td>\n      <td>0</td>\n      <td>365</td>\n      <td>1.000000</td>\n    </tr>\n    <tr>\n      <th>373</th>\n      <td>https://camping.ch/de/campingplatz/wallis/sust...</td>\n      <td>Camping Monument</td>\n      <td>3952 Susten (VS)</td>\n      <td>www.campingmonument.ch</td>\n      <td>3</td>\n      <td>6</td>\n      <td>170.0</td>\n      <td>01.05.2024 − 24.09.2024</td>\n      <td>NaN</td>\n      <td>NaN</td>\n      <td>...</td>\n      <td>0</td>\n      <td>0</td>\n      <td>1</td>\n      <td>1</td>\n      <td>1</td>\n      <td>0</td>\n      <td>0</td>\n      <td>0</td>\n      <td>146</td>\n      <td>0.400000</td>\n    </tr>\n    <tr>\n      <th>374</th>\n      <td>https://camping.ch/de/campingplatz/waadt-genfe...</td>\n      <td>Bois-du-Fey</td>\n      <td>1430 Orges (VD)</td>\n      <td>NaN</td>\n      <td>2</td>\n      <td>6</td>\n      <td>12.0</td>\n      <td>01.03.2024 − 31.10.2024</td>\n      <td>NaN</td>\n      <td>NaN</td>\n      <td>...</td>\n      <td>0</td>\n      <td>0</td>\n      <td>0</td>\n      <td>1</td>\n      <td>0</td>\n      <td>0</td>\n      <td>0</td>\n      <td>1</td>\n      <td>244</td>\n      <td>0.668493</td>\n    </tr>\n    <tr>\n      <th>375</th>\n      <td>https://camping.ch/de/campingplatz/nordwestsch...</td>\n      <td>Campingplatz Talhaus</td>\n      <td>4416 Bubendorf (BL)</td>\n      <td>NaN</td>\n      <td>0</td>\n      <td>4</td>\n      <td>10.0</td>\n      <td>01.01.2024 − 31.12.2024</td>\n      <td>NaN</td>\n      <td>NaN</td>\n      <td>...</td>\n      <td>0</td>\n      <td>0</td>\n      <td>1</td>\n      <td>1</td>\n      <td>0</td>\n      <td>0</td>\n      <td>0</td>\n      <td>0</td>\n      <td>365</td>\n      <td>1.000000</td>\n    </tr>\n    <tr>\n      <th>376</th>\n      <td>https://camping.ch/de/campingplatz/tessin/gord...</td>\n      <td>TCS Camping Gordevio – Valle Maggia</td>\n      <td>6672 Gordevio (TI)</td>\n      <td>NaN</td>\n      <td>4</td>\n      <td>11</td>\n      <td>127.0</td>\n      <td>01.04.2024 − 24.10.2024</td>\n      <td>NaN</td>\n      <td>NaN</td>\n      <td>...</td>\n      <td>0</td>\n      <td>0</td>\n      <td>1</td>\n      <td>0</td>\n      <td>0</td>\n      <td>1</td>\n      <td>1</td>\n      <td>0</td>\n      <td>206</td>\n      <td>0.564384</td>\n    </tr>\n  </tbody>\n</table>\n<p>377 rows × 50 columns</p>\n</div>"
     },
     "execution_count": 86,
     "metadata": {},
     "output_type": "execute_result"
    }
   ],
   "source": [
    "df_camping"
   ],
   "metadata": {
    "collapsed": false
   }
  },
  {
   "cell_type": "markdown",
   "source": [
    "## Zusammenfassung der Attribute/Faktoren\n",
    "z.B. Wassersportanlage ist vorhanden, wenn es entweder einen indoor swimming pool, unheated pool oder bathing facilities gibt. Dazu werden die Werte dieser Spalten zusammengezählt und wenn der Wert null ist, bleibt er null, ansonsten wird eine Eins in eine neue Spalte geschrieben."
   ],
   "metadata": {
    "collapsed": false
   }
  },
  {
   "cell_type": "code",
   "execution_count": 87,
   "outputs": [],
   "source": [
    "# Sport Fields\n",
    "# Summe bilden und wenn nicht null, dann eins\n",
    "def calculate_result(row):\n",
    "    total = row['sport field'] + row['golf'] + row['tennis']\n",
    "    return 0 if total == 0 else 1\n",
    "\n",
    "# Ergebnis in neue Spalte speichern\n",
    "df_camping['sport_fields_result'] = df_camping.apply(calculate_result, axis=1)"
   ],
   "metadata": {
    "collapsed": false
   }
  },
  {
   "cell_type": "code",
   "execution_count": 88,
   "outputs": [],
   "source": [
    "# Watersports Facilities\n",
    "# Summe bilden und wenn nicht null, dann eins\n",
    "def calculate_result(row):\n",
    "    total = row['indoor swimming pool'] + row['unheated pool'] + row['bathing facilities']\n",
    "    return 0 if total == 0 else 1\n",
    "\n",
    "# Ergebnis in neue Spalte speichern\n",
    "df_camping['watersports_facilities_result'] = df_camping.apply(calculate_result, axis=1)"
   ],
   "metadata": {
    "collapsed": false
   }
  },
  {
   "cell_type": "code",
   "execution_count": 89,
   "outputs": [],
   "source": [
    "# Rentals\n",
    "# Summe bilden und wenn nicht null, dann eins\n",
    "def calculate_result(row):\n",
    "    total = row['boat rental'] + row['bike rental']\n",
    "    return 0 if total == 0 else 1\n",
    "\n",
    "# Ergebnis in neue Spalte speichern\n",
    "df_camping['rentals_sporting_goods_result'] = df_camping.apply(calculate_result, axis=1)"
   ],
   "metadata": {
    "collapsed": false
   }
  },
  {
   "cell_type": "code",
   "execution_count": 90,
   "outputs": [],
   "source": [
    "# Restaurants, Bars\n",
    "# Summe bilden und wenn nicht null, dann eins\n",
    "def calculate_result(row):\n",
    "    total = row['restaurant'] + row['take away']\n",
    "    return 0 if total == 0 else 1\n",
    "\n",
    "# Ergebnis in neue Spalte speichern\n",
    "df_camping['restaurant_bars_result'] = df_camping.apply(calculate_result, axis=1)"
   ],
   "metadata": {
    "collapsed": false
   }
  },
  {
   "cell_type": "code",
   "execution_count": 91,
   "outputs": [],
   "source": [
    "# shopping\n",
    "# Summe bilden und wenn nicht null, dann eins\n",
    "def calculate_result(row):\n",
    "    total = row['shop with limited range'] + row['kiosk'] + row['shopping centre'] + row['shop with rich range']\n",
    "    return 0 if total == 0 else 1\n",
    "\n",
    "# Ergebnis in neue Spalte speichern\n",
    "df_camping['shopping_result'] = df_camping.apply(calculate_result, axis=1)"
   ],
   "metadata": {
    "collapsed": false
   }
  },
  {
   "cell_type": "code",
   "execution_count": 92,
   "outputs": [],
   "source": [
    "# washing\n",
    "# Summe bilden und wenn nicht null, dann eins\n",
    "def calculate_result(row):\n",
    "    total = row['washing machine'] + row['laundry dryer / tumble dryer']\n",
    "    return 0 if total == 0 else 1\n",
    "\n",
    "# Ergebnis in neue Spalte speichern\n",
    "df_camping['washing_result'] = df_camping.apply(calculate_result, axis=1)"
   ],
   "metadata": {
    "collapsed": false
   }
  },
  {
   "cell_type": "code",
   "execution_count": 93,
   "outputs": [],
   "source": [
    "# water side\n",
    "# Summe bilden und wenn nicht null, dann eins\n",
    "def calculate_result(row):\n",
    "    total = row['lake with sandy beach'] + row['lake with stony beach'] + row['river']\n",
    "    return 0 if total == 0 else 1\n",
    "\n",
    "# Ergebnis in neue Spalte speichern\n",
    "df_camping['water_side_result'] = df_camping.apply(calculate_result, axis=1)"
   ],
   "metadata": {
    "collapsed": false
   }
  },
  {
   "cell_type": "code",
   "execution_count": 94,
   "outputs": [],
   "source": [
    "# public transport\n",
    "# Summe bilden und wenn nicht null, dann eins\n",
    "def calculate_result(row):\n",
    "    total = row['train station'] + row['bus']\n",
    "    return 0 if total == 0 else 1\n",
    "\n",
    "# Ergebnis in neue Spalte speichern\n",
    "df_camping['public_transport_result'] = df_camping.apply(calculate_result, axis=1)"
   ],
   "metadata": {
    "collapsed": false
   }
  },
  {
   "cell_type": "code",
   "execution_count": 95,
   "outputs": [],
   "source": [
    "# membership\n",
    "# Summe bilden und wenn nicht null, dann eins\n",
    "def calculate_result(row):\n",
    "    total = row['VSC membership'] + row['TCS membership'] + row['SCCV membership']\n",
    "    return 0 if total == 0 else 1\n",
    "\n",
    "# Ergebnis in neue Spalte speichern\n",
    "df_camping['membership_result'] = df_camping.apply(calculate_result, axis=1)"
   ],
   "metadata": {
    "collapsed": false
   }
  },
  {
   "cell_type": "markdown",
   "source": [
    "## Aufbau verkürzter Tabelle"
   ],
   "metadata": {
    "collapsed": false
   }
  },
  {
   "cell_type": "code",
   "execution_count": 96,
   "outputs": [],
   "source": [
    "df_camping_clean =df_camping[['url', 'name', 'locality', 'website', 'sport_fields_result', 'watersports_facilities_result', 'rentals_sporting_goods_result', 'entertainment', 'playground', 'disco', 'wifi', 'TV lounge', 'tourist pitches', 'easy access for disabled people', 'animals allowed', 'kitchen', 'BBQ area', 'open[%]', 'restaurant_bars_result', 'shopping_result', 'washing_result', 'star category', 'membership_result', 'hiking', 'water_side_result', 'activities', 'public_transport_result' ]]"
   ],
   "metadata": {
    "collapsed": false
   }
  },
  {
   "cell_type": "code",
   "execution_count": 97,
   "outputs": [
    {
     "data": {
      "text/plain": "                                                   url  \\\n0    https://camping.ch/de/campingplatz/tessin/meri...   \n1    https://camping.ch/de/campingplatz/wallis/fies...   \n2    https://camping.ch/de/campingplatz/wallis/les-...   \n3    https://camping.ch/de/campingplatz/berner-ober...   \n4    https://camping.ch/de/campingplatz/tessin/mont...   \n..                                                 ...   \n372  https://camping.ch/de/campingplatz/graubuenden...   \n373  https://camping.ch/de/campingplatz/wallis/sust...   \n374  https://camping.ch/de/campingplatz/waadt-genfe...   \n375  https://camping.ch/de/campingplatz/nordwestsch...   \n376  https://camping.ch/de/campingplatz/tessin/gord...   \n\n                                    name                  locality  \\\n0              Camping Monte San Giorgio          6866 Meride (TI)   \n1                              Eggishorn          3984 Fiesch (VS)   \n2                            La Médettaz  1923 Les Marécottes (VS)   \n3                                 Gadmen          3863 Gadmen (BE)   \n4                      Bosco della Bella       6998 Monteggio (TI)   \n..                                   ...                       ...   \n372                        Camping Rania          7432 Zillis (GR)   \n373                     Camping Monument          3952 Susten (VS)   \n374                          Bois-du-Fey           1430 Orges (VD)   \n375                 Campingplatz Talhaus       4416 Bubendorf (BL)   \n376  TCS Camping Gordevio – Valle Maggia        6672 Gordevio (TI)   \n\n                    website  sport_fields_result  \\\n0                       NaN                    0   \n1                       NaN                    0   \n2                       NaN                    0   \n3                       NaN                    0   \n4                       NaN                    0   \n..                      ...                  ...   \n372                     NaN                    0   \n373  www.campingmonument.ch                    0   \n374                     NaN                    0   \n375                     NaN                    0   \n376                     NaN                    0   \n\n     watersports_facilities_result  rentals_sporting_goods_result  \\\n0                                0                              1   \n1                                1                              0   \n2                                0                              1   \n3                                0                              0   \n4                                0                              0   \n..                             ...                            ...   \n372                              1                              0   \n373                              1                              1   \n374                              0                              0   \n375                              0                              0   \n376                              0                              1   \n\n     entertainment  playground  disco  ...   open[%]  restaurant_bars_result  \\\n0                0           0      0  ...  0.446575                       0   \n1                0           1      0  ...  1.000000                       1   \n2                0           0      0  ...  0.416438                       1   \n3                0           0      0  ...  0.501370                       0   \n4                0           0      0  ...  1.000000                       0   \n..             ...         ...    ...  ...       ...                     ...   \n372              0           0      0  ...  1.000000                       1   \n373              0           1      0  ...  0.400000                       1   \n374              0           1      0  ...  0.668493                       0   \n375              0           0      0  ...  1.000000                       1   \n376              0           0      0  ...  0.564384                       0   \n\n     shopping_result  washing_result  star category  membership_result  \\\n0                  0               1              4                  1   \n1                  1               1              4                  1   \n2                  1               1              2                  0   \n3                  0               0              2                  1   \n4                  0               0              0                  0   \n..               ...             ...            ...                ...   \n372                0               1              3                  0   \n373                1               1              3                  0   \n374                0               1              2                  1   \n375                0               1              0                  0   \n376                0               0              4                  1   \n\n     hiking  water_side_result  activities  public_transport_result  \n0         1                  1           8                        1  \n1         1                  1           6                        1  \n2         1                  0           5                        1  \n3         0                  0          11                        0  \n4         0                  1           2                        0  \n..      ...                ...         ...                      ...  \n372       1                  1           6                        1  \n373       1                  1           6                        1  \n374       1                  0           6                        1  \n375       1                  1           4                        1  \n376       1                  1          11                        0  \n\n[377 rows x 27 columns]",
      "text/html": "<div>\n<style scoped>\n    .dataframe tbody tr th:only-of-type {\n        vertical-align: middle;\n    }\n\n    .dataframe tbody tr th {\n        vertical-align: top;\n    }\n\n    .dataframe thead th {\n        text-align: right;\n    }\n</style>\n<table border=\"1\" class=\"dataframe\">\n  <thead>\n    <tr style=\"text-align: right;\">\n      <th></th>\n      <th>url</th>\n      <th>name</th>\n      <th>locality</th>\n      <th>website</th>\n      <th>sport_fields_result</th>\n      <th>watersports_facilities_result</th>\n      <th>rentals_sporting_goods_result</th>\n      <th>entertainment</th>\n      <th>playground</th>\n      <th>disco</th>\n      <th>...</th>\n      <th>open[%]</th>\n      <th>restaurant_bars_result</th>\n      <th>shopping_result</th>\n      <th>washing_result</th>\n      <th>star category</th>\n      <th>membership_result</th>\n      <th>hiking</th>\n      <th>water_side_result</th>\n      <th>activities</th>\n      <th>public_transport_result</th>\n    </tr>\n  </thead>\n  <tbody>\n    <tr>\n      <th>0</th>\n      <td>https://camping.ch/de/campingplatz/tessin/meri...</td>\n      <td>Camping Monte San Giorgio</td>\n      <td>6866 Meride (TI)</td>\n      <td>NaN</td>\n      <td>0</td>\n      <td>0</td>\n      <td>1</td>\n      <td>0</td>\n      <td>0</td>\n      <td>0</td>\n      <td>...</td>\n      <td>0.446575</td>\n      <td>0</td>\n      <td>0</td>\n      <td>1</td>\n      <td>4</td>\n      <td>1</td>\n      <td>1</td>\n      <td>1</td>\n      <td>8</td>\n      <td>1</td>\n    </tr>\n    <tr>\n      <th>1</th>\n      <td>https://camping.ch/de/campingplatz/wallis/fies...</td>\n      <td>Eggishorn</td>\n      <td>3984 Fiesch (VS)</td>\n      <td>NaN</td>\n      <td>0</td>\n      <td>1</td>\n      <td>0</td>\n      <td>0</td>\n      <td>1</td>\n      <td>0</td>\n      <td>...</td>\n      <td>1.000000</td>\n      <td>1</td>\n      <td>1</td>\n      <td>1</td>\n      <td>4</td>\n      <td>1</td>\n      <td>1</td>\n      <td>1</td>\n      <td>6</td>\n      <td>1</td>\n    </tr>\n    <tr>\n      <th>2</th>\n      <td>https://camping.ch/de/campingplatz/wallis/les-...</td>\n      <td>La Médettaz</td>\n      <td>1923 Les Marécottes (VS)</td>\n      <td>NaN</td>\n      <td>0</td>\n      <td>0</td>\n      <td>1</td>\n      <td>0</td>\n      <td>0</td>\n      <td>0</td>\n      <td>...</td>\n      <td>0.416438</td>\n      <td>1</td>\n      <td>1</td>\n      <td>1</td>\n      <td>2</td>\n      <td>0</td>\n      <td>1</td>\n      <td>0</td>\n      <td>5</td>\n      <td>1</td>\n    </tr>\n    <tr>\n      <th>3</th>\n      <td>https://camping.ch/de/campingplatz/berner-ober...</td>\n      <td>Gadmen</td>\n      <td>3863 Gadmen (BE)</td>\n      <td>NaN</td>\n      <td>0</td>\n      <td>0</td>\n      <td>0</td>\n      <td>0</td>\n      <td>0</td>\n      <td>0</td>\n      <td>...</td>\n      <td>0.501370</td>\n      <td>0</td>\n      <td>0</td>\n      <td>0</td>\n      <td>2</td>\n      <td>1</td>\n      <td>0</td>\n      <td>0</td>\n      <td>11</td>\n      <td>0</td>\n    </tr>\n    <tr>\n      <th>4</th>\n      <td>https://camping.ch/de/campingplatz/tessin/mont...</td>\n      <td>Bosco della Bella</td>\n      <td>6998 Monteggio (TI)</td>\n      <td>NaN</td>\n      <td>0</td>\n      <td>0</td>\n      <td>0</td>\n      <td>0</td>\n      <td>0</td>\n      <td>0</td>\n      <td>...</td>\n      <td>1.000000</td>\n      <td>0</td>\n      <td>0</td>\n      <td>0</td>\n      <td>0</td>\n      <td>0</td>\n      <td>0</td>\n      <td>1</td>\n      <td>2</td>\n      <td>0</td>\n    </tr>\n    <tr>\n      <th>...</th>\n      <td>...</td>\n      <td>...</td>\n      <td>...</td>\n      <td>...</td>\n      <td>...</td>\n      <td>...</td>\n      <td>...</td>\n      <td>...</td>\n      <td>...</td>\n      <td>...</td>\n      <td>...</td>\n      <td>...</td>\n      <td>...</td>\n      <td>...</td>\n      <td>...</td>\n      <td>...</td>\n      <td>...</td>\n      <td>...</td>\n      <td>...</td>\n      <td>...</td>\n      <td>...</td>\n    </tr>\n    <tr>\n      <th>372</th>\n      <td>https://camping.ch/de/campingplatz/graubuenden...</td>\n      <td>Camping Rania</td>\n      <td>7432 Zillis (GR)</td>\n      <td>NaN</td>\n      <td>0</td>\n      <td>1</td>\n      <td>0</td>\n      <td>0</td>\n      <td>0</td>\n      <td>0</td>\n      <td>...</td>\n      <td>1.000000</td>\n      <td>1</td>\n      <td>0</td>\n      <td>1</td>\n      <td>3</td>\n      <td>0</td>\n      <td>1</td>\n      <td>1</td>\n      <td>6</td>\n      <td>1</td>\n    </tr>\n    <tr>\n      <th>373</th>\n      <td>https://camping.ch/de/campingplatz/wallis/sust...</td>\n      <td>Camping Monument</td>\n      <td>3952 Susten (VS)</td>\n      <td>www.campingmonument.ch</td>\n      <td>0</td>\n      <td>1</td>\n      <td>1</td>\n      <td>0</td>\n      <td>1</td>\n      <td>0</td>\n      <td>...</td>\n      <td>0.400000</td>\n      <td>1</td>\n      <td>1</td>\n      <td>1</td>\n      <td>3</td>\n      <td>0</td>\n      <td>1</td>\n      <td>1</td>\n      <td>6</td>\n      <td>1</td>\n    </tr>\n    <tr>\n      <th>374</th>\n      <td>https://camping.ch/de/campingplatz/waadt-genfe...</td>\n      <td>Bois-du-Fey</td>\n      <td>1430 Orges (VD)</td>\n      <td>NaN</td>\n      <td>0</td>\n      <td>0</td>\n      <td>0</td>\n      <td>0</td>\n      <td>1</td>\n      <td>0</td>\n      <td>...</td>\n      <td>0.668493</td>\n      <td>0</td>\n      <td>0</td>\n      <td>1</td>\n      <td>2</td>\n      <td>1</td>\n      <td>1</td>\n      <td>0</td>\n      <td>6</td>\n      <td>1</td>\n    </tr>\n    <tr>\n      <th>375</th>\n      <td>https://camping.ch/de/campingplatz/nordwestsch...</td>\n      <td>Campingplatz Talhaus</td>\n      <td>4416 Bubendorf (BL)</td>\n      <td>NaN</td>\n      <td>0</td>\n      <td>0</td>\n      <td>0</td>\n      <td>0</td>\n      <td>0</td>\n      <td>0</td>\n      <td>...</td>\n      <td>1.000000</td>\n      <td>1</td>\n      <td>0</td>\n      <td>1</td>\n      <td>0</td>\n      <td>0</td>\n      <td>1</td>\n      <td>1</td>\n      <td>4</td>\n      <td>1</td>\n    </tr>\n    <tr>\n      <th>376</th>\n      <td>https://camping.ch/de/campingplatz/tessin/gord...</td>\n      <td>TCS Camping Gordevio – Valle Maggia</td>\n      <td>6672 Gordevio (TI)</td>\n      <td>NaN</td>\n      <td>0</td>\n      <td>0</td>\n      <td>1</td>\n      <td>0</td>\n      <td>0</td>\n      <td>0</td>\n      <td>...</td>\n      <td>0.564384</td>\n      <td>0</td>\n      <td>0</td>\n      <td>0</td>\n      <td>4</td>\n      <td>1</td>\n      <td>1</td>\n      <td>1</td>\n      <td>11</td>\n      <td>0</td>\n    </tr>\n  </tbody>\n</table>\n<p>377 rows × 27 columns</p>\n</div>"
     },
     "execution_count": 97,
     "metadata": {},
     "output_type": "execute_result"
    }
   ],
   "source": [
    "df_camping_clean"
   ],
   "metadata": {
    "collapsed": false
   }
  },
  {
   "cell_type": "code",
   "execution_count": 98,
   "outputs": [],
   "source": [
    "# Bearbeitete Daten als CSV speichern\n",
    "df_camping_clean.to_csv('camping_clean.csv', encoding='utf-8', index=False)"
   ],
   "metadata": {
    "collapsed": false
   }
  },
  {
   "cell_type": "code",
   "execution_count": null,
   "outputs": [],
   "source": [],
   "metadata": {
    "collapsed": false
   }
  }
 ],
 "metadata": {
  "kernelspec": {
   "display_name": "Python 3",
   "language": "python",
   "name": "python3"
  },
  "language_info": {
   "codemirror_mode": {
    "name": "ipython",
    "version": 2
   },
   "file_extension": ".py",
   "mimetype": "text/x-python",
   "name": "python",
   "nbconvert_exporter": "python",
   "pygments_lexer": "ipython2",
   "version": "2.7.6"
  }
 },
 "nbformat": 4,
 "nbformat_minor": 0
}
