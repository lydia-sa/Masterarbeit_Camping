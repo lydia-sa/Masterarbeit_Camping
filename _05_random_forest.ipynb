{
 "cells": [
  {
   "cell_type": "code",
   "execution_count": 2,
   "metadata": {
    "collapsed": true
   },
   "outputs": [],
   "source": [
    "import pandas as pd\n",
    "from sklearn.model_selection import train_test_split\n",
    "from sklearn.ensemble import RandomForestRegressor\n",
    "from sklearn.metrics import mean_squared_error\n"
   ]
  },
  {
   "cell_type": "code",
   "execution_count": 3,
   "outputs": [],
   "source": [
    "df_camping_analysis = pd.read_csv('df_camping_analysis.csv', encoding='utf-8')\n",
    "df_camping_analysis_no_outl = pd.read_csv('df_camping_analysis_no_outl.csv', encoding='utf-8')"
   ],
   "metadata": {
    "collapsed": false
   }
  },
  {
   "cell_type": "markdown",
   "source": [
    "### Train-Test-Split\n",
    "die Aufteilung von Training- und Testdaten sollte immer vor der Standardisierung oder jeglicher anderen Form der Datenvorverarbeitung durchgeführt werden:\n",
    "Vermeidung von Datenlecks: Wenn du die Standardisierung vor der Aufteilung durchführst, wird die Information aus den Testdaten in die Standardisierungsparameter (Mittelwert und Standardabweichung) einbezogen, was zu Datenlecks führt. Das Modell erhält somit indirekt Informationen über die Testdaten, was zu unrealistisch guten Ergebnissen führt.\n",
    "\n",
    "Replizierbarkeit: Wenn die Standardisierung nach der Aufteilung durchgeführt wird, ist der Prozess besser replizierbar und die Ergebnisse sind realistisch, da die Standardisierung nur auf Basis der Trainingsdaten erfolgt und auf die Testdaten angewendet wird."
   ],
   "metadata": {
    "collapsed": false
   }
  },
  {
   "cell_type": "code",
   "execution_count": 4,
   "outputs": [],
   "source": [
    "X = df_camping_analysis.drop(['Preis'],axis = 1)\n",
    "y = df_camping_analysis['Preis']\n",
    "\n",
    "X_train, X_test, y_train, y_test = train_test_split(X, y, test_size=0.2, random_state=42)"
   ],
   "metadata": {
    "collapsed": false
   }
  },
  {
   "cell_type": "code",
   "execution_count": 5,
   "outputs": [],
   "source": [
    "model_random = RandomForestRegressor(random_state= 42) #n_estimators=10,\n",
    "model_random = model_random.fit(X_train, y_train)"
   ],
   "metadata": {
    "collapsed": false
   }
  },
  {
   "cell_type": "code",
   "execution_count": 10,
   "outputs": [
    {
     "name": "stdout",
     "output_type": "stream",
     "text": [
      "R2 Testdaten: 0.5275759417319055\n",
      "MSE Testdaten: 68.69293112500007\n",
      "R2 Trainingsdaten: 0.9528289926421384\n",
      "MSE Trainingsdaten: 10.65314471948758\n"
     ]
    }
   ],
   "source": [
    "y_test_pred = model_random.predict(X_test)\n",
    "y_tain_pred = model_random.predict(X_train)\n",
    "\n",
    "r2_test = model_random.score(X_test, y_test)\n",
    "print('R2 Testdaten:', r2_test)\n",
    "mse_rf = mean_squared_error(y_test, y_test_pred)\n",
    "print(f'MSE Testdaten: {mse_rf}')\n",
    "\n",
    "r2_train = model_random.score(X_train, y_train)\n",
    "print('R2 Trainingsdaten:', r2_train)\n",
    "mse_rf_train = mean_squared_error(y_train, y_tain_pred)\n",
    "print(f'MSE Trainingsdaten: {mse_rf_train}')"
   ],
   "metadata": {
    "collapsed": false
   }
  },
  {
   "cell_type": "code",
   "execution_count": 6,
   "outputs": [],
   "source": [],
   "metadata": {
    "collapsed": false
   }
  },
  {
   "cell_type": "markdown",
   "source": [
    "# Datensatz exkl. Ausreisser\n",
    "### Train-Test-Split"
   ],
   "metadata": {
    "collapsed": false
   }
  },
  {
   "cell_type": "code",
   "execution_count": 11,
   "outputs": [],
   "source": [
    "X_o = df_camping_analysis_no_outl.drop(['Preis'],axis = 1)\n",
    "y_o = df_camping_analysis_no_outl['Preis']\n",
    "\n",
    "X_train_o, X_test_o, y_train_o, y_test_o = train_test_split(X_o, y_o, test_size=0.2, random_state=42)"
   ],
   "metadata": {
    "collapsed": false
   }
  },
  {
   "cell_type": "code",
   "execution_count": 12,
   "outputs": [],
   "source": [
    "model_random_o = RandomForestRegressor(random_state= 42) #n_estimators=10,\n",
    "model_random_o = model_random_o .fit(X_train_o , y_train_o )"
   ],
   "metadata": {
    "collapsed": false
   }
  },
  {
   "cell_type": "code",
   "execution_count": 13,
   "outputs": [
    {
     "name": "stdout",
     "output_type": "stream",
     "text": [
      "R2 Testdaten: 0.5493890574761922\n",
      "MSE Testdaten: 62.37349614189185\n",
      "R2 Trainingsdaten: 0.9470140316282912\n",
      "MSE Trainingsdaten: 6.437346574970989\n"
     ]
    }
   ],
   "source": [
    "y_test_pred_o = model_random_o.predict(X_test_o)\n",
    "y_tain_pred_o = model_random_o.predict(X_train_o)\n",
    "\n",
    "r2_test_o = model_random_o.score(X_test_o, y_test_o)\n",
    "print('R2 Testdaten:', r2_test_o)\n",
    "mse_rf_o = mean_squared_error(y_test_o, y_test_pred_o)\n",
    "print(f'MSE Testdaten: {mse_rf_o}')\n",
    "\n",
    "r2_train_o = model_random_o.score(X_train_o, y_train_o)\n",
    "print('R2 Trainingsdaten:', r2_train_o)\n",
    "mse_rf_train_o = mean_squared_error(y_train_o, y_tain_pred_o)\n",
    "print(f'MSE Trainingsdaten: {mse_rf_train_o}')"
   ],
   "metadata": {
    "collapsed": false
   }
  },
  {
   "cell_type": "code",
   "execution_count": null,
   "outputs": [],
   "source": [],
   "metadata": {
    "collapsed": false
   }
  },
  {
   "cell_type": "code",
   "execution_count": null,
   "outputs": [],
   "source": [
    "feature_importances = model_random.feature_importances_\n",
    "print('Feature Importance:', feature_importances)"
   ],
   "metadata": {
    "collapsed": false
   }
  },
  {
   "cell_type": "code",
   "execution_count": null,
   "outputs": [],
   "source": [
    "importances = model_random.feature_importances_\n",
    "for i, importance in enumerate(importances):\n",
    "    print(f\"Feature {i}: {importance}\")"
   ],
   "metadata": {
    "collapsed": false
   }
  },
  {
   "cell_type": "code",
   "execution_count": null,
   "outputs": [],
   "source": [
    "feature_names = ['sport_fields_result', 'watersports_facilities_result', 'rentals_sporting_goods_result', 'entertainment', 'playground', 'disco', 'wifi', 'TV lounge', 'tourist pitches', 'other accommodation', 'pitch at the waterfront','small pitch (<80 m2)', 'medium pitch  (~100 m2)', 'large pitch  (>110 m2)', 'easy access for disabled people', 'animals allowed', 'kitchen', 'BBQ area', 'open[%]', 'main season', 'low season', 'restaurant_bars_result', 'shopping_result', 'washing_result', 'star category', 'membership_result', 'hiking', 'water_side_result', 'activities', 'public_transport_result']\n",
    "\n",
    "# Kombiniere Feature-Namen mit deren Wichtigkeiten\n",
    "feature_importance_with_names = list(zip(feature_names, feature_importances))\n",
    "\n",
    "# Sortiere nach Wichtigkeit absteigend\n",
    "feature_importance_with_names_sorted = sorted(feature_importance_with_names, key=lambda x: x[1], reverse=True)\n",
    "\n",
    "# Ausgabe der sortierten Feature-Importance mit Feature-Namen\n",
    "for feature, importance in feature_importance_with_names_sorted:\n",
    "    print(f\"{feature}: {importance}\")"
   ],
   "metadata": {
    "collapsed": false
   }
  }
 ],
 "metadata": {
  "kernelspec": {
   "display_name": "Python 3",
   "language": "python",
   "name": "python3"
  },
  "language_info": {
   "codemirror_mode": {
    "name": "ipython",
    "version": 2
   },
   "file_extension": ".py",
   "mimetype": "text/x-python",
   "name": "python",
   "nbconvert_exporter": "python",
   "pygments_lexer": "ipython2",
   "version": "2.7.6"
  }
 },
 "nbformat": 4,
 "nbformat_minor": 0
}
