{
 "cells": [
  {
   "cell_type": "code",
   "execution_count": 4,
   "outputs": [],
   "source": [
    "import pandas as pd\n",
    "import matplotlib.pyplot as plt"
   ],
   "metadata": {
    "collapsed": false
   }
  },
  {
   "cell_type": "code",
   "execution_count": 5,
   "outputs": [],
   "source": [
    "color_palette = {\n",
    "    'region': ['Region Berner-Mitelland', 'Region Berner-Oberland', 'Region Freiburg-Neuenburg-Jura', 'Region Graubuenden', 'Region Nordwestschweiz', 'Region Ostschweiz', 'Region Tessin', 'Region Waadt-Genfersee', 'Region Wallis', 'Region Zentralschweiz', 'Region Zuerich'],\n",
    "    'color': ['#5188AD', '#E9D797', '#CAA2C0' , '#8B76B4', '#EEA760', '#E26D64', '#B65278', '#A6CAEC', '#619589', '#AC9186', '#809668']\n",
    "}\n"
   ],
   "metadata": {
    "collapsed": false
   }
  },
  {
   "cell_type": "markdown",
   "source": [
    "# Daten camping.ch\n",
    "### Import"
   ],
   "metadata": {
    "collapsed": false
   }
  },
  {
   "cell_type": "code",
   "execution_count": 6,
   "outputs": [
    {
     "data": {
      "text/plain": "                                                   URL  \\\n0    https://camping.ch/de/campingplatz/graubuenden...   \n1    https://camping.ch/de/campingplatz/ostschweiz/...   \n2    https://camping.ch/de/campingplatz/freiburg-ne...   \n3    https://camping.ch/de/campingplatz/graubuenden...   \n4    https://camping.ch/de/campingplatz/wallis/evol...   \n..                                                 ...   \n372  https://camping.ch/de/campingplatz/berner-ober...   \n373  https://camping.ch/de/campingplatz/wallis/fies...   \n374  https://camping.ch/de/campingplatz/berner-ober...   \n375  https://camping.ch/de/campingplatz/tessin/meri...   \n376  https://camping.ch/de/campingplatz/freiburg-ne...   \n\n                            Name                       Ortschaft  \\\n0                          Islas               7477 Filisur (GR)   \n1    Stellplatz Allmend Rheintal            9450 Altstätten (SG)   \n2            Camping de la Forêt                1642 Sorens (FR)   \n3                  Sur En / Sent         7554 Sur En / Sent (GR)   \n4                        Evolène               1983 Evolène (VS)   \n..                           ...                             ...   \n372                 Alpencamping             3860 Meiringen (BE)   \n373                    Eggishorn                3984 Fiesch (VS)   \n374              Camping Hobby 3  3800 Unterseen-Interlaken (BE)   \n375    Camping Monte San Giorgio                6866 Meride (TI)   \n376               Nouvelle Plage      1470 Estavayer-Le-Lac (FR)   \n\n                 Website  Sternebewertung  Aktivitäten  Touristenstellplätze  \\\n0    www.campingislas.ch                3            3                  50.0   \n1                    NaN                0            7                   NaN   \n2                    NaN                4            4                  50.0   \n3                    NaN                4            4                 120.0   \n4                    NaN                3            1                  65.0   \n..                   ...              ...          ...                   ...   \n372  www.alpencamping.ch                4           11                  34.0   \n373                  NaN                4            6                 127.0   \n374                  NaN                4           11                  80.0   \n375                  NaN                4            8                  64.0   \n376                  NaN                3            3                  60.0   \n\n            open (seasons 1) open (seasons 2) open (seasons 3)  ... Trockner  \\\n0    01.04.2024 − 31.10.2024              NaN              NaN  ...        1   \n1    01.01.2024 − 31.12.2024              NaN              NaN  ...        0   \n2    15.04.2024 − 15.10.2024              NaN              NaN  ...        1   \n3    01.01.2024 − 31.12.2024              NaN              NaN  ...        0   \n4    15.05.2024 − 15.10.2024              NaN              NaN  ...        1   \n..                       ...              ...              ...  ...      ...   \n372  01.01.2024 − 31.12.2024              NaN              NaN  ...        1   \n373  01.01.2024 − 31.12.2024              NaN              NaN  ...        0   \n374  01.04.2024 − 04.10.2024              NaN              NaN  ...        1   \n375  19.04.2024 − 29.09.2024              NaN              NaN  ...        0   \n376  25.03.2024 − 20.10.2024              NaN              NaN  ...        1   \n\n    Wandern See mit Kies- oder Sandstrand  See mit Steinstrand  Fluss  \\\n0         1                             0                    0      0   \n1         1                             0                    0      0   \n2         1                             0                    0      0   \n3         1                             0                    0      1   \n4         1                             0                    0      0   \n..      ...                           ...                  ...    ...   \n372       1                             0                    1      1   \n373       1                             0                    0      1   \n374       1                             0                    1      1   \n375       1                             0                    0      1   \n376       1                             0                    0      1   \n\n     Bahnhof  Busstation  VSC membership  TCS membership  SCCV membership  \n0          1           0               1               0                1  \n1          0           0               0               0                0  \n2          0           1               1               0                0  \n3          1           1               1               0                0  \n4          0           1               0               0                0  \n..       ...         ...             ...             ...              ...  \n372        1           1               1               0                0  \n373        1           1               1               0                0  \n374        1           1               1               0                0  \n375        0           1               1               1                0  \n376        1           0               0               0                0  \n\n[377 rows x 50 columns]",
      "text/html": "<div>\n<style scoped>\n    .dataframe tbody tr th:only-of-type {\n        vertical-align: middle;\n    }\n\n    .dataframe tbody tr th {\n        vertical-align: top;\n    }\n\n    .dataframe thead th {\n        text-align: right;\n    }\n</style>\n<table border=\"1\" class=\"dataframe\">\n  <thead>\n    <tr style=\"text-align: right;\">\n      <th></th>\n      <th>URL</th>\n      <th>Name</th>\n      <th>Ortschaft</th>\n      <th>Website</th>\n      <th>Sternebewertung</th>\n      <th>Aktivitäten</th>\n      <th>Touristenstellplätze</th>\n      <th>open (seasons 1)</th>\n      <th>open (seasons 2)</th>\n      <th>open (seasons 3)</th>\n      <th>...</th>\n      <th>Trockner</th>\n      <th>Wandern</th>\n      <th>See mit Kies- oder Sandstrand</th>\n      <th>See mit Steinstrand</th>\n      <th>Fluss</th>\n      <th>Bahnhof</th>\n      <th>Busstation</th>\n      <th>VSC membership</th>\n      <th>TCS membership</th>\n      <th>SCCV membership</th>\n    </tr>\n  </thead>\n  <tbody>\n    <tr>\n      <th>0</th>\n      <td>https://camping.ch/de/campingplatz/graubuenden...</td>\n      <td>Islas</td>\n      <td>7477 Filisur (GR)</td>\n      <td>www.campingislas.ch</td>\n      <td>3</td>\n      <td>3</td>\n      <td>50.0</td>\n      <td>01.04.2024 − 31.10.2024</td>\n      <td>NaN</td>\n      <td>NaN</td>\n      <td>...</td>\n      <td>1</td>\n      <td>1</td>\n      <td>0</td>\n      <td>0</td>\n      <td>0</td>\n      <td>1</td>\n      <td>0</td>\n      <td>1</td>\n      <td>0</td>\n      <td>1</td>\n    </tr>\n    <tr>\n      <th>1</th>\n      <td>https://camping.ch/de/campingplatz/ostschweiz/...</td>\n      <td>Stellplatz Allmend Rheintal</td>\n      <td>9450 Altstätten (SG)</td>\n      <td>NaN</td>\n      <td>0</td>\n      <td>7</td>\n      <td>NaN</td>\n      <td>01.01.2024 − 31.12.2024</td>\n      <td>NaN</td>\n      <td>NaN</td>\n      <td>...</td>\n      <td>0</td>\n      <td>1</td>\n      <td>0</td>\n      <td>0</td>\n      <td>0</td>\n      <td>0</td>\n      <td>0</td>\n      <td>0</td>\n      <td>0</td>\n      <td>0</td>\n    </tr>\n    <tr>\n      <th>2</th>\n      <td>https://camping.ch/de/campingplatz/freiburg-ne...</td>\n      <td>Camping de la Forêt</td>\n      <td>1642 Sorens (FR)</td>\n      <td>NaN</td>\n      <td>4</td>\n      <td>4</td>\n      <td>50.0</td>\n      <td>15.04.2024 − 15.10.2024</td>\n      <td>NaN</td>\n      <td>NaN</td>\n      <td>...</td>\n      <td>1</td>\n      <td>1</td>\n      <td>0</td>\n      <td>0</td>\n      <td>0</td>\n      <td>0</td>\n      <td>1</td>\n      <td>1</td>\n      <td>0</td>\n      <td>0</td>\n    </tr>\n    <tr>\n      <th>3</th>\n      <td>https://camping.ch/de/campingplatz/graubuenden...</td>\n      <td>Sur En / Sent</td>\n      <td>7554 Sur En / Sent (GR)</td>\n      <td>NaN</td>\n      <td>4</td>\n      <td>4</td>\n      <td>120.0</td>\n      <td>01.01.2024 − 31.12.2024</td>\n      <td>NaN</td>\n      <td>NaN</td>\n      <td>...</td>\n      <td>0</td>\n      <td>1</td>\n      <td>0</td>\n      <td>0</td>\n      <td>1</td>\n      <td>1</td>\n      <td>1</td>\n      <td>1</td>\n      <td>0</td>\n      <td>0</td>\n    </tr>\n    <tr>\n      <th>4</th>\n      <td>https://camping.ch/de/campingplatz/wallis/evol...</td>\n      <td>Evolène</td>\n      <td>1983 Evolène (VS)</td>\n      <td>NaN</td>\n      <td>3</td>\n      <td>1</td>\n      <td>65.0</td>\n      <td>15.05.2024 − 15.10.2024</td>\n      <td>NaN</td>\n      <td>NaN</td>\n      <td>...</td>\n      <td>1</td>\n      <td>1</td>\n      <td>0</td>\n      <td>0</td>\n      <td>0</td>\n      <td>0</td>\n      <td>1</td>\n      <td>0</td>\n      <td>0</td>\n      <td>0</td>\n    </tr>\n    <tr>\n      <th>...</th>\n      <td>...</td>\n      <td>...</td>\n      <td>...</td>\n      <td>...</td>\n      <td>...</td>\n      <td>...</td>\n      <td>...</td>\n      <td>...</td>\n      <td>...</td>\n      <td>...</td>\n      <td>...</td>\n      <td>...</td>\n      <td>...</td>\n      <td>...</td>\n      <td>...</td>\n      <td>...</td>\n      <td>...</td>\n      <td>...</td>\n      <td>...</td>\n      <td>...</td>\n      <td>...</td>\n    </tr>\n    <tr>\n      <th>372</th>\n      <td>https://camping.ch/de/campingplatz/berner-ober...</td>\n      <td>Alpencamping</td>\n      <td>3860 Meiringen (BE)</td>\n      <td>www.alpencamping.ch</td>\n      <td>4</td>\n      <td>11</td>\n      <td>34.0</td>\n      <td>01.01.2024 − 31.12.2024</td>\n      <td>NaN</td>\n      <td>NaN</td>\n      <td>...</td>\n      <td>1</td>\n      <td>1</td>\n      <td>0</td>\n      <td>1</td>\n      <td>1</td>\n      <td>1</td>\n      <td>1</td>\n      <td>1</td>\n      <td>0</td>\n      <td>0</td>\n    </tr>\n    <tr>\n      <th>373</th>\n      <td>https://camping.ch/de/campingplatz/wallis/fies...</td>\n      <td>Eggishorn</td>\n      <td>3984 Fiesch (VS)</td>\n      <td>NaN</td>\n      <td>4</td>\n      <td>6</td>\n      <td>127.0</td>\n      <td>01.01.2024 − 31.12.2024</td>\n      <td>NaN</td>\n      <td>NaN</td>\n      <td>...</td>\n      <td>0</td>\n      <td>1</td>\n      <td>0</td>\n      <td>0</td>\n      <td>1</td>\n      <td>1</td>\n      <td>1</td>\n      <td>1</td>\n      <td>0</td>\n      <td>0</td>\n    </tr>\n    <tr>\n      <th>374</th>\n      <td>https://camping.ch/de/campingplatz/berner-ober...</td>\n      <td>Camping Hobby 3</td>\n      <td>3800 Unterseen-Interlaken (BE)</td>\n      <td>NaN</td>\n      <td>4</td>\n      <td>11</td>\n      <td>80.0</td>\n      <td>01.04.2024 − 04.10.2024</td>\n      <td>NaN</td>\n      <td>NaN</td>\n      <td>...</td>\n      <td>1</td>\n      <td>1</td>\n      <td>0</td>\n      <td>1</td>\n      <td>1</td>\n      <td>1</td>\n      <td>1</td>\n      <td>1</td>\n      <td>0</td>\n      <td>0</td>\n    </tr>\n    <tr>\n      <th>375</th>\n      <td>https://camping.ch/de/campingplatz/tessin/meri...</td>\n      <td>Camping Monte San Giorgio</td>\n      <td>6866 Meride (TI)</td>\n      <td>NaN</td>\n      <td>4</td>\n      <td>8</td>\n      <td>64.0</td>\n      <td>19.04.2024 − 29.09.2024</td>\n      <td>NaN</td>\n      <td>NaN</td>\n      <td>...</td>\n      <td>0</td>\n      <td>1</td>\n      <td>0</td>\n      <td>0</td>\n      <td>1</td>\n      <td>0</td>\n      <td>1</td>\n      <td>1</td>\n      <td>1</td>\n      <td>0</td>\n    </tr>\n    <tr>\n      <th>376</th>\n      <td>https://camping.ch/de/campingplatz/freiburg-ne...</td>\n      <td>Nouvelle Plage</td>\n      <td>1470 Estavayer-Le-Lac (FR)</td>\n      <td>NaN</td>\n      <td>3</td>\n      <td>3</td>\n      <td>60.0</td>\n      <td>25.03.2024 − 20.10.2024</td>\n      <td>NaN</td>\n      <td>NaN</td>\n      <td>...</td>\n      <td>1</td>\n      <td>1</td>\n      <td>0</td>\n      <td>0</td>\n      <td>1</td>\n      <td>1</td>\n      <td>0</td>\n      <td>0</td>\n      <td>0</td>\n      <td>0</td>\n    </tr>\n  </tbody>\n</table>\n<p>377 rows × 50 columns</p>\n</div>"
     },
     "execution_count": 6,
     "metadata": {},
     "output_type": "execute_result"
    }
   ],
   "source": [
    "df_camping = pd.read_csv('campingspider/camping.csv', encoding='utf-8')\n",
    "df_camping"
   ],
   "metadata": {
    "collapsed": false
   }
  },
  {
   "cell_type": "markdown",
   "source": [
    "### Ersetzen von falschen Stellplatz-Werten"
   ],
   "metadata": {
    "collapsed": false
   }
  },
  {
   "cell_type": "code",
   "execution_count": 7,
   "outputs": [
    {
     "data": {
      "text/plain": "                                                   URL  Touristenstellplätze\n1    https://camping.ch/de/campingplatz/ostschweiz/...                   NaN\n14   https://camping.ch/de/campingplatz/ostschweiz/...                   3.0\n15   https://camping.ch/de/campingplatz/wallis/semb...                   0.0\n19   https://camping.ch/de/campingplatz/berner-ober...                   7.0\n46   https://camping.ch/de/campingplatz/zentralschw...                   8.0\n47   https://camping.ch/de/campingplatz/zentralschw...                  10.0\n49   https://camping.ch/de/campingplatz/waadt-genfe...                   NaN\n63   https://camping.ch/de/campingplatz/zentralschw...                   NaN\n90   https://camping.ch/de/campingplatz/tessin/mont...                   NaN\n100  https://camping.ch/de/campingplatz/freiburg-ne...                   9.0\n106  https://camping.ch/de/campingplatz/freiburg-ne...                   0.0\n122  https://camping.ch/de/campingplatz/zentralschw...                  10.0\n129  https://camping.ch/de/campingplatz/zentralschw...                  10.0\n131  https://camping.ch/de/campingplatz/berner-ober...                   1.0\n145  https://camping.ch/de/campingplatz/zentralschw...                   5.0\n151  https://camping.ch/de/campingplatz/wallis/ritz...                   NaN\n166  https://camping.ch/de/campingplatz/zentralschw...                   5.0\n170  https://camping.ch/de/campingplatz/ostschweiz/...                   NaN\n176  https://camping.ch/de/campingplatz/zentralschw...                   6.0\n188  https://camping.ch/de/campingplatz/zentralschw...                   NaN\n216  https://camping.ch/de/campingplatz/zuerich/wil...                   7.0\n220  https://camping.ch/de/campingplatz/freiburg-ne...                   8.0\n223  https://camping.ch/de/campingplatz/freiburg-ne...                   5.0\n234  https://camping.ch/de/campingplatz/freiburg-ne...                   0.0\n247  https://camping.ch/de/campingplatz/nordwestsch...                  10.0\n259  https://camping.ch/de/campingplatz/wallis/gran...                   0.0\n271  https://camping.ch/de/campingplatz/ostschweiz/...                  10.0\n276  https://camping.ch/de/campingplatz/zuerich/kle...                  10.0\n288  https://camping.ch/de/campingplatz/berner-ober...                  10.0\n290  https://camping.ch/de/campingplatz/waadt-genfe...                  10.0\n297  https://camping.ch/de/campingplatz/zentralschw...                   NaN\n312  https://camping.ch/de/campingplatz/nordwestsch...                  10.0\n318  https://camping.ch/de/campingplatz/zentralschw...                  10.0\n325  https://camping.ch/de/campingplatz/berner-ober...                  10.0\n329  https://camping.ch/de/campingplatz/berner-ober...                   4.0\n333  https://camping.ch/de/campingplatz/graubuenden...                   6.0\n337  https://camping.ch/de/campingplatz/wallis/morg...                   5.0\n339  https://camping.ch/de/campingplatz/ostschweiz/...                   0.0\n340  https://camping.ch/de/campingplatz/berner-mite...                   0.0\n353  https://camping.ch/de/campingplatz/ostschweiz/...                   0.0\n354  https://camping.ch/de/campingplatz/nordwestsch...                   0.0\n363  https://camping.ch/de/campingplatz/graubuenden...                  10.0\n371  https://camping.ch/de/campingplatz/berner-mite...                   0.0",
      "text/html": "<div>\n<style scoped>\n    .dataframe tbody tr th:only-of-type {\n        vertical-align: middle;\n    }\n\n    .dataframe tbody tr th {\n        vertical-align: top;\n    }\n\n    .dataframe thead th {\n        text-align: right;\n    }\n</style>\n<table border=\"1\" class=\"dataframe\">\n  <thead>\n    <tr style=\"text-align: right;\">\n      <th></th>\n      <th>URL</th>\n      <th>Touristenstellplätze</th>\n    </tr>\n  </thead>\n  <tbody>\n    <tr>\n      <th>1</th>\n      <td>https://camping.ch/de/campingplatz/ostschweiz/...</td>\n      <td>NaN</td>\n    </tr>\n    <tr>\n      <th>14</th>\n      <td>https://camping.ch/de/campingplatz/ostschweiz/...</td>\n      <td>3.0</td>\n    </tr>\n    <tr>\n      <th>15</th>\n      <td>https://camping.ch/de/campingplatz/wallis/semb...</td>\n      <td>0.0</td>\n    </tr>\n    <tr>\n      <th>19</th>\n      <td>https://camping.ch/de/campingplatz/berner-ober...</td>\n      <td>7.0</td>\n    </tr>\n    <tr>\n      <th>46</th>\n      <td>https://camping.ch/de/campingplatz/zentralschw...</td>\n      <td>8.0</td>\n    </tr>\n    <tr>\n      <th>47</th>\n      <td>https://camping.ch/de/campingplatz/zentralschw...</td>\n      <td>10.0</td>\n    </tr>\n    <tr>\n      <th>49</th>\n      <td>https://camping.ch/de/campingplatz/waadt-genfe...</td>\n      <td>NaN</td>\n    </tr>\n    <tr>\n      <th>63</th>\n      <td>https://camping.ch/de/campingplatz/zentralschw...</td>\n      <td>NaN</td>\n    </tr>\n    <tr>\n      <th>90</th>\n      <td>https://camping.ch/de/campingplatz/tessin/mont...</td>\n      <td>NaN</td>\n    </tr>\n    <tr>\n      <th>100</th>\n      <td>https://camping.ch/de/campingplatz/freiburg-ne...</td>\n      <td>9.0</td>\n    </tr>\n    <tr>\n      <th>106</th>\n      <td>https://camping.ch/de/campingplatz/freiburg-ne...</td>\n      <td>0.0</td>\n    </tr>\n    <tr>\n      <th>122</th>\n      <td>https://camping.ch/de/campingplatz/zentralschw...</td>\n      <td>10.0</td>\n    </tr>\n    <tr>\n      <th>129</th>\n      <td>https://camping.ch/de/campingplatz/zentralschw...</td>\n      <td>10.0</td>\n    </tr>\n    <tr>\n      <th>131</th>\n      <td>https://camping.ch/de/campingplatz/berner-ober...</td>\n      <td>1.0</td>\n    </tr>\n    <tr>\n      <th>145</th>\n      <td>https://camping.ch/de/campingplatz/zentralschw...</td>\n      <td>5.0</td>\n    </tr>\n    <tr>\n      <th>151</th>\n      <td>https://camping.ch/de/campingplatz/wallis/ritz...</td>\n      <td>NaN</td>\n    </tr>\n    <tr>\n      <th>166</th>\n      <td>https://camping.ch/de/campingplatz/zentralschw...</td>\n      <td>5.0</td>\n    </tr>\n    <tr>\n      <th>170</th>\n      <td>https://camping.ch/de/campingplatz/ostschweiz/...</td>\n      <td>NaN</td>\n    </tr>\n    <tr>\n      <th>176</th>\n      <td>https://camping.ch/de/campingplatz/zentralschw...</td>\n      <td>6.0</td>\n    </tr>\n    <tr>\n      <th>188</th>\n      <td>https://camping.ch/de/campingplatz/zentralschw...</td>\n      <td>NaN</td>\n    </tr>\n    <tr>\n      <th>216</th>\n      <td>https://camping.ch/de/campingplatz/zuerich/wil...</td>\n      <td>7.0</td>\n    </tr>\n    <tr>\n      <th>220</th>\n      <td>https://camping.ch/de/campingplatz/freiburg-ne...</td>\n      <td>8.0</td>\n    </tr>\n    <tr>\n      <th>223</th>\n      <td>https://camping.ch/de/campingplatz/freiburg-ne...</td>\n      <td>5.0</td>\n    </tr>\n    <tr>\n      <th>234</th>\n      <td>https://camping.ch/de/campingplatz/freiburg-ne...</td>\n      <td>0.0</td>\n    </tr>\n    <tr>\n      <th>247</th>\n      <td>https://camping.ch/de/campingplatz/nordwestsch...</td>\n      <td>10.0</td>\n    </tr>\n    <tr>\n      <th>259</th>\n      <td>https://camping.ch/de/campingplatz/wallis/gran...</td>\n      <td>0.0</td>\n    </tr>\n    <tr>\n      <th>271</th>\n      <td>https://camping.ch/de/campingplatz/ostschweiz/...</td>\n      <td>10.0</td>\n    </tr>\n    <tr>\n      <th>276</th>\n      <td>https://camping.ch/de/campingplatz/zuerich/kle...</td>\n      <td>10.0</td>\n    </tr>\n    <tr>\n      <th>288</th>\n      <td>https://camping.ch/de/campingplatz/berner-ober...</td>\n      <td>10.0</td>\n    </tr>\n    <tr>\n      <th>290</th>\n      <td>https://camping.ch/de/campingplatz/waadt-genfe...</td>\n      <td>10.0</td>\n    </tr>\n    <tr>\n      <th>297</th>\n      <td>https://camping.ch/de/campingplatz/zentralschw...</td>\n      <td>NaN</td>\n    </tr>\n    <tr>\n      <th>312</th>\n      <td>https://camping.ch/de/campingplatz/nordwestsch...</td>\n      <td>10.0</td>\n    </tr>\n    <tr>\n      <th>318</th>\n      <td>https://camping.ch/de/campingplatz/zentralschw...</td>\n      <td>10.0</td>\n    </tr>\n    <tr>\n      <th>325</th>\n      <td>https://camping.ch/de/campingplatz/berner-ober...</td>\n      <td>10.0</td>\n    </tr>\n    <tr>\n      <th>329</th>\n      <td>https://camping.ch/de/campingplatz/berner-ober...</td>\n      <td>4.0</td>\n    </tr>\n    <tr>\n      <th>333</th>\n      <td>https://camping.ch/de/campingplatz/graubuenden...</td>\n      <td>6.0</td>\n    </tr>\n    <tr>\n      <th>337</th>\n      <td>https://camping.ch/de/campingplatz/wallis/morg...</td>\n      <td>5.0</td>\n    </tr>\n    <tr>\n      <th>339</th>\n      <td>https://camping.ch/de/campingplatz/ostschweiz/...</td>\n      <td>0.0</td>\n    </tr>\n    <tr>\n      <th>340</th>\n      <td>https://camping.ch/de/campingplatz/berner-mite...</td>\n      <td>0.0</td>\n    </tr>\n    <tr>\n      <th>353</th>\n      <td>https://camping.ch/de/campingplatz/ostschweiz/...</td>\n      <td>0.0</td>\n    </tr>\n    <tr>\n      <th>354</th>\n      <td>https://camping.ch/de/campingplatz/nordwestsch...</td>\n      <td>0.0</td>\n    </tr>\n    <tr>\n      <th>363</th>\n      <td>https://camping.ch/de/campingplatz/graubuenden...</td>\n      <td>10.0</td>\n    </tr>\n    <tr>\n      <th>371</th>\n      <td>https://camping.ch/de/campingplatz/berner-mite...</td>\n      <td>0.0</td>\n    </tr>\n  </tbody>\n</table>\n</div>"
     },
     "execution_count": 7,
     "metadata": {},
     "output_type": "execute_result"
    }
   ],
   "source": [
    "# welche Campingplätze, haben weniger als 11 Touristenstellplätze angegeben?\n",
    "filtered_touristp_df = df_camping[df_camping['Touristenstellplätze'].isna() | (df_camping['Touristenstellplätze'] < 11)]\n",
    "filtered_touristp_df[['URL', 'Touristenstellplätze']]"
   ],
   "metadata": {
    "collapsed": false
   }
  },
  {
   "cell_type": "code",
   "execution_count": 8,
   "outputs": [],
   "source": [
    "# Es wurden die Campingplätze mit Anzahl Touristenplätze < 11 und 'nan' geprüft.\n",
    "# Quelle: Internetseite der Campingplätze.\n",
    "corrections_pitches = {\n",
    "    'https://camping.ch/de/campingplatz/ostschweiz/weesen/camping-gaesi?l=true': 70,\n",
    "    'https://camping.ch/de/campingplatz/waadt-genfersee/forel/camping-de-forel?l=true': 43,\n",
    "    'https://camping.ch/de/campingplatz/ostschweiz/Altst%25C3%25A4tten/allmend_rheintal?l=true': 150,\n",
    "    'https://camping.ch/de/campingplatz/wallis/ritzingen/camping-brigga?l=true': 127,\n",
    "    'https://camping.ch/de/campingplatz/ostschweiz/mammern/seewiese?l=true': 95,\n",
    "    'https://camping.ch/de/campingplatz/zentralschweiz/seelisberg/naturcamping_seelisberg?l=true': 60,\n",
    "    'https://camping.ch/de/campingplatz/tessin/monteggio/boscodellabella?l=true': 10,\n",
    "    'https://camping.ch/de/campingplatz/freiburg-neuenburg-jura/le-noirmont/camping-du-creux-des-biches?l=true': 40,\n",
    "    'https://camping.ch/de/campingplatz/zentralschweiz/sisikon/camping_bucheli?l=true': 50,\n",
    "    'https://camping.ch/de/campingplatz/wallis/sembrancher/la-prairie?l=true': 48,\n",
    "    'https://camping.ch/de/campingplatz/berner-mitelland/rueschegg-heubach/camping-rueschegg-heubach?l=true': 20,\n",
    "    'https://camping.ch/de/campingplatz/zentralschweiz/morgarten/camping_neselen?l=true': 40,\n",
    "    'https://camping.ch/de/campingplatz/berner-oberland/boenigen/seeruhe?l=true': 88,\n",
    "    'https://camping.ch/de/campingplatz/ostschweiz/stein-a-rhein/grenzstein?l=true': 64,\n",
    "    'https://camping.ch/de/campingplatz/berner-oberland/saanen/beim-kappeli?l=true': 27,\n",
    "    'https://camping.ch/de/campingplatz/freiburg-neuenburg-jura/rebeuvilier/du-raimeux?l=true': 31,\n",
    "    'https://camping.ch/de/campingplatz/berner-oberland/gsteig-b-gstaad/bergcamping-gsteig?l=true': 16,\n",
    "    'https://camping.ch/de/campingplatz/berner-oberland/schwenden-im-diemtigtal/camping-eggmatte-diemtigtal?l=true': 16,\n",
    "    'https://camping.ch/de/campingplatz/freiburg-neuenburg-jura/le-landeron/bellerive-le-landeron?l=true': 50,\n",
    "}\n",
    "\n",
    "# Funktion zur Korrektur der Anzahl Touristenplätze\n",
    "def correct_dates(row):\n",
    "    if row['URL'] in corrections_pitches:\n",
    "        return corrections_pitches[row['URL']]\n",
    "    return row['Touristenstellplätze']\n",
    "\n",
    "# Anzahl Touristenplätze im DataFrame korrigieren\n",
    "df_camping['Touristenstellplätze'] = df_camping.apply(correct_dates, axis=1)"
   ],
   "metadata": {
    "collapsed": false
   }
  },
  {
   "cell_type": "markdown",
   "source": [
    "### Ersetzen von falschen Datums-Werten"
   ],
   "metadata": {
    "collapsed": false
   }
  },
  {
   "cell_type": "code",
   "execution_count": 9,
   "outputs": [],
   "source": [
    "# Folgende drei Saisondaten waren mit null Tagen hinterlegt und wurden deshalb manuell nachgeschaut. Die restlichen Saisondaten wurden nicht nachgeprüft.\n",
    "corrections_date = {\n",
    "    'Camping Bellavista': '12.04.2024 - 13.10.2024',\n",
    "    'Camping Schaffhausen - Freizeitanlage Rheinwiese': '27.03.2024 - 20.10.2024',\n",
    "    'Nufenenpark': '01.06.2024 - 30.09.2024'\n",
    "}\n",
    "\n",
    "# Funktion zur Korrektur der Datumsangaben\n",
    "def correct_dates(row):\n",
    "    if row['Name'] in corrections_date:\n",
    "        return corrections_date[row['Name']]\n",
    "    return row['open (seasons 1)']\n",
    "\n",
    "# Datumsangaben im DataFrame korrigieren\n",
    "df_camping['open (seasons 1)'] = df_camping.apply(correct_dates, axis=1)"
   ],
   "metadata": {
    "collapsed": false
   }
  },
  {
   "cell_type": "markdown",
   "source": [
    "### Berechnung prozentuale Öffnungszeiten\n",
    "Tage Jahr: 365 (Vereinfachung)"
   ],
   "metadata": {
    "collapsed": false
   }
  },
  {
   "cell_type": "code",
   "execution_count": 10,
   "outputs": [],
   "source": [
    "from datetime import datetime\n",
    "# Tage von Öffnung bis Schliessung der Saison\n",
    "def process_column_value(value):\n",
    "    # leere Zellen:\n",
    "    if pd.isna(value) or value == \"\":\n",
    "        return 0\n",
    "    try:\n",
    "        # wenn ein Text vor dem Datum steht, sollen die Zeichen nach dem Doppelpunkt für das Datum verwendet werden\n",
    "        if ':' in value:\n",
    "            middle_value = value[value.find(':') + 2: value.find(':') + 12].strip()\n",
    "            open_date = datetime.strptime(middle_value, '%d.%m.%Y')\n",
    "            end_date = datetime.strptime(value[-10:].strip(), '%d.%m.%Y')\n",
    "            return  (end_date - open_date).days\n",
    "        end_date = datetime.strptime(value[-10:].strip(), '%d.%m.%Y')\n",
    "        open_date = datetime.strptime(value[:10].strip(), '%d.%m.%Y')\n",
    "        return (end_date - open_date).days\n",
    "    except:\n",
    "        print(f\"Fehler bei der Verarbeitung von Wert {value}\")\n",
    "        return 0\n",
    "\n",
    "# für alle Saison die Tage berechnen (falls mehrere) und zusammenzählen\n",
    "def calculate_row(row):\n",
    "    columns = ['open (seasons 1)', 'open (seasons 2)', 'open (seasons 3)', 'open (seasons 4)', 'open (seasons 5)', 'open (seasons 6)', 'open (seasons 7)']\n",
    "    total = 0\n",
    "    for col in columns:\n",
    "        total += process_column_value(row[col])\n",
    "    return total\n",
    "\n",
    "# Neue Spalte mit Tagen erstellen, indem die Berechnung auf jede Zeile angewandt wird\n",
    "df_camping['Öffnungszeit[Tage]'] = df_camping.apply(calculate_row, axis=1)"
   ],
   "metadata": {
    "collapsed": false
   }
  },
  {
   "cell_type": "code",
   "execution_count": 11,
   "outputs": [],
   "source": [
    "# prozentualer Anteil der offenen Tage am Gesamtjahr\n",
    "df_camping['Öffnungszeit[%]'] = df_camping['Öffnungszeit[Tage]'].apply(lambda x: round(x / 365,2) if x <= 365 else 365/365)"
   ],
   "metadata": {
    "collapsed": false
   }
  },
  {
   "cell_type": "code",
   "execution_count": 12,
   "outputs": [
    {
     "data": {
      "text/plain": "                                                   URL  \\\n0    https://camping.ch/de/campingplatz/graubuenden...   \n1    https://camping.ch/de/campingplatz/ostschweiz/...   \n2    https://camping.ch/de/campingplatz/freiburg-ne...   \n3    https://camping.ch/de/campingplatz/graubuenden...   \n4    https://camping.ch/de/campingplatz/wallis/evol...   \n..                                                 ...   \n372  https://camping.ch/de/campingplatz/berner-ober...   \n373  https://camping.ch/de/campingplatz/wallis/fies...   \n374  https://camping.ch/de/campingplatz/berner-ober...   \n375  https://camping.ch/de/campingplatz/tessin/meri...   \n376  https://camping.ch/de/campingplatz/freiburg-ne...   \n\n                            Name                       Ortschaft  \\\n0                          Islas               7477 Filisur (GR)   \n1    Stellplatz Allmend Rheintal            9450 Altstätten (SG)   \n2            Camping de la Forêt                1642 Sorens (FR)   \n3                  Sur En / Sent         7554 Sur En / Sent (GR)   \n4                        Evolène               1983 Evolène (VS)   \n..                           ...                             ...   \n372                 Alpencamping             3860 Meiringen (BE)   \n373                    Eggishorn                3984 Fiesch (VS)   \n374              Camping Hobby 3  3800 Unterseen-Interlaken (BE)   \n375    Camping Monte San Giorgio                6866 Meride (TI)   \n376               Nouvelle Plage      1470 Estavayer-Le-Lac (FR)   \n\n                 Website  Sternebewertung  Aktivitäten  Touristenstellplätze  \\\n0    www.campingislas.ch                3            3                  50.0   \n1                    NaN                0            7                 150.0   \n2                    NaN                4            4                  50.0   \n3                    NaN                4            4                 120.0   \n4                    NaN                3            1                  65.0   \n..                   ...              ...          ...                   ...   \n372  www.alpencamping.ch                4           11                  34.0   \n373                  NaN                4            6                 127.0   \n374                  NaN                4           11                  80.0   \n375                  NaN                4            8                  64.0   \n376                  NaN                3            3                  60.0   \n\n            open (seasons 1) open (seasons 2) open (seasons 3)  ...  \\\n0    01.04.2024 − 31.10.2024              NaN              NaN  ...   \n1    01.01.2024 − 31.12.2024              NaN              NaN  ...   \n2    15.04.2024 − 15.10.2024              NaN              NaN  ...   \n3    01.01.2024 − 31.12.2024              NaN              NaN  ...   \n4    15.05.2024 − 15.10.2024              NaN              NaN  ...   \n..                       ...              ...              ...  ...   \n372  01.01.2024 − 31.12.2024              NaN              NaN  ...   \n373  01.01.2024 − 31.12.2024              NaN              NaN  ...   \n374  01.04.2024 − 04.10.2024              NaN              NaN  ...   \n375  19.04.2024 − 29.09.2024              NaN              NaN  ...   \n376  25.03.2024 − 20.10.2024              NaN              NaN  ...   \n\n    See mit Kies- oder Sandstrand See mit Steinstrand Fluss  Bahnhof  \\\n0                               0                   0     0        1   \n1                               0                   0     0        0   \n2                               0                   0     0        0   \n3                               0                   0     1        1   \n4                               0                   0     0        0   \n..                            ...                 ...   ...      ...   \n372                             0                   1     1        1   \n373                             0                   0     1        1   \n374                             0                   1     1        1   \n375                             0                   0     1        0   \n376                             0                   0     1        1   \n\n     Busstation  VSC membership  TCS membership  SCCV membership  \\\n0             0               1               0                1   \n1             0               0               0                0   \n2             1               1               0                0   \n3             1               1               0                0   \n4             1               0               0                0   \n..          ...             ...             ...              ...   \n372           1               1               0                0   \n373           1               1               0                0   \n374           1               1               0                0   \n375           1               1               1                0   \n376           0               0               0                0   \n\n     Öffnungszeit[Tage]  Öffnungszeit[%]  \n0                   213             0.58  \n1                   365             1.00  \n2                   183             0.50  \n3                   365             1.00  \n4                   153             0.42  \n..                  ...              ...  \n372                 365             1.00  \n373                 365             1.00  \n374                 186             0.51  \n375                 163             0.45  \n376                 209             0.57  \n\n[377 rows x 52 columns]",
      "text/html": "<div>\n<style scoped>\n    .dataframe tbody tr th:only-of-type {\n        vertical-align: middle;\n    }\n\n    .dataframe tbody tr th {\n        vertical-align: top;\n    }\n\n    .dataframe thead th {\n        text-align: right;\n    }\n</style>\n<table border=\"1\" class=\"dataframe\">\n  <thead>\n    <tr style=\"text-align: right;\">\n      <th></th>\n      <th>URL</th>\n      <th>Name</th>\n      <th>Ortschaft</th>\n      <th>Website</th>\n      <th>Sternebewertung</th>\n      <th>Aktivitäten</th>\n      <th>Touristenstellplätze</th>\n      <th>open (seasons 1)</th>\n      <th>open (seasons 2)</th>\n      <th>open (seasons 3)</th>\n      <th>...</th>\n      <th>See mit Kies- oder Sandstrand</th>\n      <th>See mit Steinstrand</th>\n      <th>Fluss</th>\n      <th>Bahnhof</th>\n      <th>Busstation</th>\n      <th>VSC membership</th>\n      <th>TCS membership</th>\n      <th>SCCV membership</th>\n      <th>Öffnungszeit[Tage]</th>\n      <th>Öffnungszeit[%]</th>\n    </tr>\n  </thead>\n  <tbody>\n    <tr>\n      <th>0</th>\n      <td>https://camping.ch/de/campingplatz/graubuenden...</td>\n      <td>Islas</td>\n      <td>7477 Filisur (GR)</td>\n      <td>www.campingislas.ch</td>\n      <td>3</td>\n      <td>3</td>\n      <td>50.0</td>\n      <td>01.04.2024 − 31.10.2024</td>\n      <td>NaN</td>\n      <td>NaN</td>\n      <td>...</td>\n      <td>0</td>\n      <td>0</td>\n      <td>0</td>\n      <td>1</td>\n      <td>0</td>\n      <td>1</td>\n      <td>0</td>\n      <td>1</td>\n      <td>213</td>\n      <td>0.58</td>\n    </tr>\n    <tr>\n      <th>1</th>\n      <td>https://camping.ch/de/campingplatz/ostschweiz/...</td>\n      <td>Stellplatz Allmend Rheintal</td>\n      <td>9450 Altstätten (SG)</td>\n      <td>NaN</td>\n      <td>0</td>\n      <td>7</td>\n      <td>150.0</td>\n      <td>01.01.2024 − 31.12.2024</td>\n      <td>NaN</td>\n      <td>NaN</td>\n      <td>...</td>\n      <td>0</td>\n      <td>0</td>\n      <td>0</td>\n      <td>0</td>\n      <td>0</td>\n      <td>0</td>\n      <td>0</td>\n      <td>0</td>\n      <td>365</td>\n      <td>1.00</td>\n    </tr>\n    <tr>\n      <th>2</th>\n      <td>https://camping.ch/de/campingplatz/freiburg-ne...</td>\n      <td>Camping de la Forêt</td>\n      <td>1642 Sorens (FR)</td>\n      <td>NaN</td>\n      <td>4</td>\n      <td>4</td>\n      <td>50.0</td>\n      <td>15.04.2024 − 15.10.2024</td>\n      <td>NaN</td>\n      <td>NaN</td>\n      <td>...</td>\n      <td>0</td>\n      <td>0</td>\n      <td>0</td>\n      <td>0</td>\n      <td>1</td>\n      <td>1</td>\n      <td>0</td>\n      <td>0</td>\n      <td>183</td>\n      <td>0.50</td>\n    </tr>\n    <tr>\n      <th>3</th>\n      <td>https://camping.ch/de/campingplatz/graubuenden...</td>\n      <td>Sur En / Sent</td>\n      <td>7554 Sur En / Sent (GR)</td>\n      <td>NaN</td>\n      <td>4</td>\n      <td>4</td>\n      <td>120.0</td>\n      <td>01.01.2024 − 31.12.2024</td>\n      <td>NaN</td>\n      <td>NaN</td>\n      <td>...</td>\n      <td>0</td>\n      <td>0</td>\n      <td>1</td>\n      <td>1</td>\n      <td>1</td>\n      <td>1</td>\n      <td>0</td>\n      <td>0</td>\n      <td>365</td>\n      <td>1.00</td>\n    </tr>\n    <tr>\n      <th>4</th>\n      <td>https://camping.ch/de/campingplatz/wallis/evol...</td>\n      <td>Evolène</td>\n      <td>1983 Evolène (VS)</td>\n      <td>NaN</td>\n      <td>3</td>\n      <td>1</td>\n      <td>65.0</td>\n      <td>15.05.2024 − 15.10.2024</td>\n      <td>NaN</td>\n      <td>NaN</td>\n      <td>...</td>\n      <td>0</td>\n      <td>0</td>\n      <td>0</td>\n      <td>0</td>\n      <td>1</td>\n      <td>0</td>\n      <td>0</td>\n      <td>0</td>\n      <td>153</td>\n      <td>0.42</td>\n    </tr>\n    <tr>\n      <th>...</th>\n      <td>...</td>\n      <td>...</td>\n      <td>...</td>\n      <td>...</td>\n      <td>...</td>\n      <td>...</td>\n      <td>...</td>\n      <td>...</td>\n      <td>...</td>\n      <td>...</td>\n      <td>...</td>\n      <td>...</td>\n      <td>...</td>\n      <td>...</td>\n      <td>...</td>\n      <td>...</td>\n      <td>...</td>\n      <td>...</td>\n      <td>...</td>\n      <td>...</td>\n      <td>...</td>\n    </tr>\n    <tr>\n      <th>372</th>\n      <td>https://camping.ch/de/campingplatz/berner-ober...</td>\n      <td>Alpencamping</td>\n      <td>3860 Meiringen (BE)</td>\n      <td>www.alpencamping.ch</td>\n      <td>4</td>\n      <td>11</td>\n      <td>34.0</td>\n      <td>01.01.2024 − 31.12.2024</td>\n      <td>NaN</td>\n      <td>NaN</td>\n      <td>...</td>\n      <td>0</td>\n      <td>1</td>\n      <td>1</td>\n      <td>1</td>\n      <td>1</td>\n      <td>1</td>\n      <td>0</td>\n      <td>0</td>\n      <td>365</td>\n      <td>1.00</td>\n    </tr>\n    <tr>\n      <th>373</th>\n      <td>https://camping.ch/de/campingplatz/wallis/fies...</td>\n      <td>Eggishorn</td>\n      <td>3984 Fiesch (VS)</td>\n      <td>NaN</td>\n      <td>4</td>\n      <td>6</td>\n      <td>127.0</td>\n      <td>01.01.2024 − 31.12.2024</td>\n      <td>NaN</td>\n      <td>NaN</td>\n      <td>...</td>\n      <td>0</td>\n      <td>0</td>\n      <td>1</td>\n      <td>1</td>\n      <td>1</td>\n      <td>1</td>\n      <td>0</td>\n      <td>0</td>\n      <td>365</td>\n      <td>1.00</td>\n    </tr>\n    <tr>\n      <th>374</th>\n      <td>https://camping.ch/de/campingplatz/berner-ober...</td>\n      <td>Camping Hobby 3</td>\n      <td>3800 Unterseen-Interlaken (BE)</td>\n      <td>NaN</td>\n      <td>4</td>\n      <td>11</td>\n      <td>80.0</td>\n      <td>01.04.2024 − 04.10.2024</td>\n      <td>NaN</td>\n      <td>NaN</td>\n      <td>...</td>\n      <td>0</td>\n      <td>1</td>\n      <td>1</td>\n      <td>1</td>\n      <td>1</td>\n      <td>1</td>\n      <td>0</td>\n      <td>0</td>\n      <td>186</td>\n      <td>0.51</td>\n    </tr>\n    <tr>\n      <th>375</th>\n      <td>https://camping.ch/de/campingplatz/tessin/meri...</td>\n      <td>Camping Monte San Giorgio</td>\n      <td>6866 Meride (TI)</td>\n      <td>NaN</td>\n      <td>4</td>\n      <td>8</td>\n      <td>64.0</td>\n      <td>19.04.2024 − 29.09.2024</td>\n      <td>NaN</td>\n      <td>NaN</td>\n      <td>...</td>\n      <td>0</td>\n      <td>0</td>\n      <td>1</td>\n      <td>0</td>\n      <td>1</td>\n      <td>1</td>\n      <td>1</td>\n      <td>0</td>\n      <td>163</td>\n      <td>0.45</td>\n    </tr>\n    <tr>\n      <th>376</th>\n      <td>https://camping.ch/de/campingplatz/freiburg-ne...</td>\n      <td>Nouvelle Plage</td>\n      <td>1470 Estavayer-Le-Lac (FR)</td>\n      <td>NaN</td>\n      <td>3</td>\n      <td>3</td>\n      <td>60.0</td>\n      <td>25.03.2024 − 20.10.2024</td>\n      <td>NaN</td>\n      <td>NaN</td>\n      <td>...</td>\n      <td>0</td>\n      <td>0</td>\n      <td>1</td>\n      <td>1</td>\n      <td>0</td>\n      <td>0</td>\n      <td>0</td>\n      <td>0</td>\n      <td>209</td>\n      <td>0.57</td>\n    </tr>\n  </tbody>\n</table>\n<p>377 rows × 52 columns</p>\n</div>"
     },
     "execution_count": 12,
     "metadata": {},
     "output_type": "execute_result"
    }
   ],
   "source": [
    "df_camping"
   ],
   "metadata": {
    "collapsed": false
   }
  },
  {
   "cell_type": "markdown",
   "source": [
    "## Region extrahieren aus 'URL'"
   ],
   "metadata": {
    "collapsed": false
   }
  },
  {
   "cell_type": "code",
   "execution_count": 13,
   "outputs": [],
   "source": [
    "# Funktion zum Extrahieren der Region aus der URL\n",
    "def extract_region(URL):\n",
    "    parts = URL.split('/')\n",
    "    if len(parts) > 5:\n",
    "        return parts[5]  # Das Wort nach dem fünften '/' in der URL\n",
    "    else:\n",
    "        return None\n",
    "\n",
    "# Neue Spalte 'Region' erstellen\n",
    "df_camping['Region'] = df_camping['URL'].apply(extract_region)\n"
   ],
   "metadata": {
    "collapsed": false
   }
  },
  {
   "cell_type": "code",
   "execution_count": 14,
   "outputs": [
    {
     "data": {
      "text/plain": "                                                   URL  \\\n0    https://camping.ch/de/campingplatz/graubuenden...   \n1    https://camping.ch/de/campingplatz/ostschweiz/...   \n2    https://camping.ch/de/campingplatz/freiburg-ne...   \n3    https://camping.ch/de/campingplatz/graubuenden...   \n4    https://camping.ch/de/campingplatz/wallis/evol...   \n..                                                 ...   \n372  https://camping.ch/de/campingplatz/berner-ober...   \n373  https://camping.ch/de/campingplatz/wallis/fies...   \n374  https://camping.ch/de/campingplatz/berner-ober...   \n375  https://camping.ch/de/campingplatz/tessin/meri...   \n376  https://camping.ch/de/campingplatz/freiburg-ne...   \n\n                            Name                       Ortschaft  \\\n0                          Islas               7477 Filisur (GR)   \n1    Stellplatz Allmend Rheintal            9450 Altstätten (SG)   \n2            Camping de la Forêt                1642 Sorens (FR)   \n3                  Sur En / Sent         7554 Sur En / Sent (GR)   \n4                        Evolène               1983 Evolène (VS)   \n..                           ...                             ...   \n372                 Alpencamping             3860 Meiringen (BE)   \n373                    Eggishorn                3984 Fiesch (VS)   \n374              Camping Hobby 3  3800 Unterseen-Interlaken (BE)   \n375    Camping Monte San Giorgio                6866 Meride (TI)   \n376               Nouvelle Plage      1470 Estavayer-Le-Lac (FR)   \n\n                 Website  Sternebewertung  Aktivitäten  Touristenstellplätze  \\\n0    www.campingislas.ch                3            3                  50.0   \n1                    NaN                0            7                 150.0   \n2                    NaN                4            4                  50.0   \n3                    NaN                4            4                 120.0   \n4                    NaN                3            1                  65.0   \n..                   ...              ...          ...                   ...   \n372  www.alpencamping.ch                4           11                  34.0   \n373                  NaN                4            6                 127.0   \n374                  NaN                4           11                  80.0   \n375                  NaN                4            8                  64.0   \n376                  NaN                3            3                  60.0   \n\n            open (seasons 1) open (seasons 2) open (seasons 3)  ...  \\\n0    01.04.2024 − 31.10.2024              NaN              NaN  ...   \n1    01.01.2024 − 31.12.2024              NaN              NaN  ...   \n2    15.04.2024 − 15.10.2024              NaN              NaN  ...   \n3    01.01.2024 − 31.12.2024              NaN              NaN  ...   \n4    15.05.2024 − 15.10.2024              NaN              NaN  ...   \n..                       ...              ...              ...  ...   \n372  01.01.2024 − 31.12.2024              NaN              NaN  ...   \n373  01.01.2024 − 31.12.2024              NaN              NaN  ...   \n374  01.04.2024 − 04.10.2024              NaN              NaN  ...   \n375  19.04.2024 − 29.09.2024              NaN              NaN  ...   \n376  25.03.2024 − 20.10.2024              NaN              NaN  ...   \n\n    See mit Steinstrand Fluss Bahnhof  Busstation  VSC membership  \\\n0                     0     0       1           0               1   \n1                     0     0       0           0               0   \n2                     0     0       0           1               1   \n3                     0     1       1           1               1   \n4                     0     0       0           1               0   \n..                  ...   ...     ...         ...             ...   \n372                   1     1       1           1               1   \n373                   0     1       1           1               1   \n374                   1     1       1           1               1   \n375                   0     1       0           1               1   \n376                   0     1       1           0               0   \n\n     TCS membership  SCCV membership  Öffnungszeit[Tage]  Öffnungszeit[%]  \\\n0                 0                1                 213             0.58   \n1                 0                0                 365             1.00   \n2                 0                0                 183             0.50   \n3                 0                0                 365             1.00   \n4                 0                0                 153             0.42   \n..              ...              ...                 ...              ...   \n372               0                0                 365             1.00   \n373               0                0                 365             1.00   \n374               0                0                 186             0.51   \n375               1                0                 163             0.45   \n376               0                0                 209             0.57   \n\n                      Region  \n0                Graubuenden  \n1                 Ostschweiz  \n2    Freiburg-Neuenburg-Jura  \n3                Graubuenden  \n4                     Wallis  \n..                       ...  \n372          Berner-Oberland  \n373                   Wallis  \n374          Berner-Oberland  \n375                   Tessin  \n376  Freiburg-Neuenburg-Jura  \n\n[377 rows x 53 columns]",
      "text/html": "<div>\n<style scoped>\n    .dataframe tbody tr th:only-of-type {\n        vertical-align: middle;\n    }\n\n    .dataframe tbody tr th {\n        vertical-align: top;\n    }\n\n    .dataframe thead th {\n        text-align: right;\n    }\n</style>\n<table border=\"1\" class=\"dataframe\">\n  <thead>\n    <tr style=\"text-align: right;\">\n      <th></th>\n      <th>URL</th>\n      <th>Name</th>\n      <th>Ortschaft</th>\n      <th>Website</th>\n      <th>Sternebewertung</th>\n      <th>Aktivitäten</th>\n      <th>Touristenstellplätze</th>\n      <th>open (seasons 1)</th>\n      <th>open (seasons 2)</th>\n      <th>open (seasons 3)</th>\n      <th>...</th>\n      <th>See mit Steinstrand</th>\n      <th>Fluss</th>\n      <th>Bahnhof</th>\n      <th>Busstation</th>\n      <th>VSC membership</th>\n      <th>TCS membership</th>\n      <th>SCCV membership</th>\n      <th>Öffnungszeit[Tage]</th>\n      <th>Öffnungszeit[%]</th>\n      <th>Region</th>\n    </tr>\n  </thead>\n  <tbody>\n    <tr>\n      <th>0</th>\n      <td>https://camping.ch/de/campingplatz/graubuenden...</td>\n      <td>Islas</td>\n      <td>7477 Filisur (GR)</td>\n      <td>www.campingislas.ch</td>\n      <td>3</td>\n      <td>3</td>\n      <td>50.0</td>\n      <td>01.04.2024 − 31.10.2024</td>\n      <td>NaN</td>\n      <td>NaN</td>\n      <td>...</td>\n      <td>0</td>\n      <td>0</td>\n      <td>1</td>\n      <td>0</td>\n      <td>1</td>\n      <td>0</td>\n      <td>1</td>\n      <td>213</td>\n      <td>0.58</td>\n      <td>Graubuenden</td>\n    </tr>\n    <tr>\n      <th>1</th>\n      <td>https://camping.ch/de/campingplatz/ostschweiz/...</td>\n      <td>Stellplatz Allmend Rheintal</td>\n      <td>9450 Altstätten (SG)</td>\n      <td>NaN</td>\n      <td>0</td>\n      <td>7</td>\n      <td>150.0</td>\n      <td>01.01.2024 − 31.12.2024</td>\n      <td>NaN</td>\n      <td>NaN</td>\n      <td>...</td>\n      <td>0</td>\n      <td>0</td>\n      <td>0</td>\n      <td>0</td>\n      <td>0</td>\n      <td>0</td>\n      <td>0</td>\n      <td>365</td>\n      <td>1.00</td>\n      <td>Ostschweiz</td>\n    </tr>\n    <tr>\n      <th>2</th>\n      <td>https://camping.ch/de/campingplatz/freiburg-ne...</td>\n      <td>Camping de la Forêt</td>\n      <td>1642 Sorens (FR)</td>\n      <td>NaN</td>\n      <td>4</td>\n      <td>4</td>\n      <td>50.0</td>\n      <td>15.04.2024 − 15.10.2024</td>\n      <td>NaN</td>\n      <td>NaN</td>\n      <td>...</td>\n      <td>0</td>\n      <td>0</td>\n      <td>0</td>\n      <td>1</td>\n      <td>1</td>\n      <td>0</td>\n      <td>0</td>\n      <td>183</td>\n      <td>0.50</td>\n      <td>Freiburg-Neuenburg-Jura</td>\n    </tr>\n    <tr>\n      <th>3</th>\n      <td>https://camping.ch/de/campingplatz/graubuenden...</td>\n      <td>Sur En / Sent</td>\n      <td>7554 Sur En / Sent (GR)</td>\n      <td>NaN</td>\n      <td>4</td>\n      <td>4</td>\n      <td>120.0</td>\n      <td>01.01.2024 − 31.12.2024</td>\n      <td>NaN</td>\n      <td>NaN</td>\n      <td>...</td>\n      <td>0</td>\n      <td>1</td>\n      <td>1</td>\n      <td>1</td>\n      <td>1</td>\n      <td>0</td>\n      <td>0</td>\n      <td>365</td>\n      <td>1.00</td>\n      <td>Graubuenden</td>\n    </tr>\n    <tr>\n      <th>4</th>\n      <td>https://camping.ch/de/campingplatz/wallis/evol...</td>\n      <td>Evolène</td>\n      <td>1983 Evolène (VS)</td>\n      <td>NaN</td>\n      <td>3</td>\n      <td>1</td>\n      <td>65.0</td>\n      <td>15.05.2024 − 15.10.2024</td>\n      <td>NaN</td>\n      <td>NaN</td>\n      <td>...</td>\n      <td>0</td>\n      <td>0</td>\n      <td>0</td>\n      <td>1</td>\n      <td>0</td>\n      <td>0</td>\n      <td>0</td>\n      <td>153</td>\n      <td>0.42</td>\n      <td>Wallis</td>\n    </tr>\n    <tr>\n      <th>...</th>\n      <td>...</td>\n      <td>...</td>\n      <td>...</td>\n      <td>...</td>\n      <td>...</td>\n      <td>...</td>\n      <td>...</td>\n      <td>...</td>\n      <td>...</td>\n      <td>...</td>\n      <td>...</td>\n      <td>...</td>\n      <td>...</td>\n      <td>...</td>\n      <td>...</td>\n      <td>...</td>\n      <td>...</td>\n      <td>...</td>\n      <td>...</td>\n      <td>...</td>\n      <td>...</td>\n    </tr>\n    <tr>\n      <th>372</th>\n      <td>https://camping.ch/de/campingplatz/berner-ober...</td>\n      <td>Alpencamping</td>\n      <td>3860 Meiringen (BE)</td>\n      <td>www.alpencamping.ch</td>\n      <td>4</td>\n      <td>11</td>\n      <td>34.0</td>\n      <td>01.01.2024 − 31.12.2024</td>\n      <td>NaN</td>\n      <td>NaN</td>\n      <td>...</td>\n      <td>1</td>\n      <td>1</td>\n      <td>1</td>\n      <td>1</td>\n      <td>1</td>\n      <td>0</td>\n      <td>0</td>\n      <td>365</td>\n      <td>1.00</td>\n      <td>Berner-Oberland</td>\n    </tr>\n    <tr>\n      <th>373</th>\n      <td>https://camping.ch/de/campingplatz/wallis/fies...</td>\n      <td>Eggishorn</td>\n      <td>3984 Fiesch (VS)</td>\n      <td>NaN</td>\n      <td>4</td>\n      <td>6</td>\n      <td>127.0</td>\n      <td>01.01.2024 − 31.12.2024</td>\n      <td>NaN</td>\n      <td>NaN</td>\n      <td>...</td>\n      <td>0</td>\n      <td>1</td>\n      <td>1</td>\n      <td>1</td>\n      <td>1</td>\n      <td>0</td>\n      <td>0</td>\n      <td>365</td>\n      <td>1.00</td>\n      <td>Wallis</td>\n    </tr>\n    <tr>\n      <th>374</th>\n      <td>https://camping.ch/de/campingplatz/berner-ober...</td>\n      <td>Camping Hobby 3</td>\n      <td>3800 Unterseen-Interlaken (BE)</td>\n      <td>NaN</td>\n      <td>4</td>\n      <td>11</td>\n      <td>80.0</td>\n      <td>01.04.2024 − 04.10.2024</td>\n      <td>NaN</td>\n      <td>NaN</td>\n      <td>...</td>\n      <td>1</td>\n      <td>1</td>\n      <td>1</td>\n      <td>1</td>\n      <td>1</td>\n      <td>0</td>\n      <td>0</td>\n      <td>186</td>\n      <td>0.51</td>\n      <td>Berner-Oberland</td>\n    </tr>\n    <tr>\n      <th>375</th>\n      <td>https://camping.ch/de/campingplatz/tessin/meri...</td>\n      <td>Camping Monte San Giorgio</td>\n      <td>6866 Meride (TI)</td>\n      <td>NaN</td>\n      <td>4</td>\n      <td>8</td>\n      <td>64.0</td>\n      <td>19.04.2024 − 29.09.2024</td>\n      <td>NaN</td>\n      <td>NaN</td>\n      <td>...</td>\n      <td>0</td>\n      <td>1</td>\n      <td>0</td>\n      <td>1</td>\n      <td>1</td>\n      <td>1</td>\n      <td>0</td>\n      <td>163</td>\n      <td>0.45</td>\n      <td>Tessin</td>\n    </tr>\n    <tr>\n      <th>376</th>\n      <td>https://camping.ch/de/campingplatz/freiburg-ne...</td>\n      <td>Nouvelle Plage</td>\n      <td>1470 Estavayer-Le-Lac (FR)</td>\n      <td>NaN</td>\n      <td>3</td>\n      <td>3</td>\n      <td>60.0</td>\n      <td>25.03.2024 − 20.10.2024</td>\n      <td>NaN</td>\n      <td>NaN</td>\n      <td>...</td>\n      <td>0</td>\n      <td>1</td>\n      <td>1</td>\n      <td>0</td>\n      <td>0</td>\n      <td>0</td>\n      <td>0</td>\n      <td>209</td>\n      <td>0.57</td>\n      <td>Freiburg-Neuenburg-Jura</td>\n    </tr>\n  </tbody>\n</table>\n<p>377 rows × 53 columns</p>\n</div>"
     },
     "execution_count": 14,
     "metadata": {},
     "output_type": "execute_result"
    }
   ],
   "source": [
    "# Region grosschreiben\n",
    "def capitalize(text):\n",
    "    parts = text.split('-')\n",
    "    capitalized_parts = [part.capitalize() for part in parts]\n",
    "    return '-'.join(capitalized_parts)\n",
    "\n",
    "df_camping['Region'] = df_camping['Region'].apply(capitalize)\n",
    "df_camping"
   ],
   "metadata": {
    "collapsed": false
   }
  },
  {
   "cell_type": "code",
   "execution_count": 15,
   "outputs": [
    {
     "data": {
      "text/plain": "     Region Berner-Mitelland  Region Berner-Oberland  \\\n0                          0                       0   \n1                          0                       0   \n2                          0                       0   \n3                          0                       0   \n4                          0                       0   \n..                       ...                     ...   \n372                        0                       1   \n373                        0                       0   \n374                        0                       1   \n375                        0                       0   \n376                        0                       0   \n\n     Region Freiburg-Neuenburg-Jura  Region Graubuenden  Region Grenznah  \\\n0                                 0                   1                0   \n1                                 0                   0                0   \n2                                 1                   0                0   \n3                                 0                   1                0   \n4                                 0                   0                0   \n..                              ...                 ...              ...   \n372                               0                   0                0   \n373                               0                   0                0   \n374                               0                   0                0   \n375                               0                   0                0   \n376                               1                   0                0   \n\n     Region Nordwestschweiz  Region Ostschweiz  Region Tessin  \\\n0                         0                  0              0   \n1                         0                  1              0   \n2                         0                  0              0   \n3                         0                  0              0   \n4                         0                  0              0   \n..                      ...                ...            ...   \n372                       0                  0              0   \n373                       0                  0              0   \n374                       0                  0              0   \n375                       0                  0              1   \n376                       0                  0              0   \n\n     Region Waadt-Genfersee  Region Wallis  Region Zentralschweiz  \\\n0                         0              0                      0   \n1                         0              0                      0   \n2                         0              0                      0   \n3                         0              0                      0   \n4                         0              1                      0   \n..                      ...            ...                    ...   \n372                       0              0                      0   \n373                       0              1                      0   \n374                       0              0                      0   \n375                       0              0                      0   \n376                       0              0                      0   \n\n     Region Zuerich  \n0                 0  \n1                 0  \n2                 0  \n3                 0  \n4                 0  \n..              ...  \n372               0  \n373               0  \n374               0  \n375               0  \n376               0  \n\n[377 rows x 12 columns]",
      "text/html": "<div>\n<style scoped>\n    .dataframe tbody tr th:only-of-type {\n        vertical-align: middle;\n    }\n\n    .dataframe tbody tr th {\n        vertical-align: top;\n    }\n\n    .dataframe thead th {\n        text-align: right;\n    }\n</style>\n<table border=\"1\" class=\"dataframe\">\n  <thead>\n    <tr style=\"text-align: right;\">\n      <th></th>\n      <th>Region Berner-Mitelland</th>\n      <th>Region Berner-Oberland</th>\n      <th>Region Freiburg-Neuenburg-Jura</th>\n      <th>Region Graubuenden</th>\n      <th>Region Grenznah</th>\n      <th>Region Nordwestschweiz</th>\n      <th>Region Ostschweiz</th>\n      <th>Region Tessin</th>\n      <th>Region Waadt-Genfersee</th>\n      <th>Region Wallis</th>\n      <th>Region Zentralschweiz</th>\n      <th>Region Zuerich</th>\n    </tr>\n  </thead>\n  <tbody>\n    <tr>\n      <th>0</th>\n      <td>0</td>\n      <td>0</td>\n      <td>0</td>\n      <td>1</td>\n      <td>0</td>\n      <td>0</td>\n      <td>0</td>\n      <td>0</td>\n      <td>0</td>\n      <td>0</td>\n      <td>0</td>\n      <td>0</td>\n    </tr>\n    <tr>\n      <th>1</th>\n      <td>0</td>\n      <td>0</td>\n      <td>0</td>\n      <td>0</td>\n      <td>0</td>\n      <td>0</td>\n      <td>1</td>\n      <td>0</td>\n      <td>0</td>\n      <td>0</td>\n      <td>0</td>\n      <td>0</td>\n    </tr>\n    <tr>\n      <th>2</th>\n      <td>0</td>\n      <td>0</td>\n      <td>1</td>\n      <td>0</td>\n      <td>0</td>\n      <td>0</td>\n      <td>0</td>\n      <td>0</td>\n      <td>0</td>\n      <td>0</td>\n      <td>0</td>\n      <td>0</td>\n    </tr>\n    <tr>\n      <th>3</th>\n      <td>0</td>\n      <td>0</td>\n      <td>0</td>\n      <td>1</td>\n      <td>0</td>\n      <td>0</td>\n      <td>0</td>\n      <td>0</td>\n      <td>0</td>\n      <td>0</td>\n      <td>0</td>\n      <td>0</td>\n    </tr>\n    <tr>\n      <th>4</th>\n      <td>0</td>\n      <td>0</td>\n      <td>0</td>\n      <td>0</td>\n      <td>0</td>\n      <td>0</td>\n      <td>0</td>\n      <td>0</td>\n      <td>0</td>\n      <td>1</td>\n      <td>0</td>\n      <td>0</td>\n    </tr>\n    <tr>\n      <th>...</th>\n      <td>...</td>\n      <td>...</td>\n      <td>...</td>\n      <td>...</td>\n      <td>...</td>\n      <td>...</td>\n      <td>...</td>\n      <td>...</td>\n      <td>...</td>\n      <td>...</td>\n      <td>...</td>\n      <td>...</td>\n    </tr>\n    <tr>\n      <th>372</th>\n      <td>0</td>\n      <td>1</td>\n      <td>0</td>\n      <td>0</td>\n      <td>0</td>\n      <td>0</td>\n      <td>0</td>\n      <td>0</td>\n      <td>0</td>\n      <td>0</td>\n      <td>0</td>\n      <td>0</td>\n    </tr>\n    <tr>\n      <th>373</th>\n      <td>0</td>\n      <td>0</td>\n      <td>0</td>\n      <td>0</td>\n      <td>0</td>\n      <td>0</td>\n      <td>0</td>\n      <td>0</td>\n      <td>0</td>\n      <td>1</td>\n      <td>0</td>\n      <td>0</td>\n    </tr>\n    <tr>\n      <th>374</th>\n      <td>0</td>\n      <td>1</td>\n      <td>0</td>\n      <td>0</td>\n      <td>0</td>\n      <td>0</td>\n      <td>0</td>\n      <td>0</td>\n      <td>0</td>\n      <td>0</td>\n      <td>0</td>\n      <td>0</td>\n    </tr>\n    <tr>\n      <th>375</th>\n      <td>0</td>\n      <td>0</td>\n      <td>0</td>\n      <td>0</td>\n      <td>0</td>\n      <td>0</td>\n      <td>0</td>\n      <td>1</td>\n      <td>0</td>\n      <td>0</td>\n      <td>0</td>\n      <td>0</td>\n    </tr>\n    <tr>\n      <th>376</th>\n      <td>0</td>\n      <td>0</td>\n      <td>1</td>\n      <td>0</td>\n      <td>0</td>\n      <td>0</td>\n      <td>0</td>\n      <td>0</td>\n      <td>0</td>\n      <td>0</td>\n      <td>0</td>\n      <td>0</td>\n    </tr>\n  </tbody>\n</table>\n<p>377 rows × 12 columns</p>\n</div>"
     },
     "execution_count": 15,
     "metadata": {},
     "output_type": "execute_result"
    }
   ],
   "source": [
    "# One hot Encoding\n",
    "df_region_encoded = pd.get_dummies(df_camping['Region'], prefix='Region', prefix_sep=' ')\n",
    "\n",
    "# Umwandlung von boolschen Werten in numerische Werte (0 und 1)\n",
    "df_region_encoded = df_region_encoded.astype(int)\n",
    "df_region_encoded"
   ],
   "metadata": {
    "collapsed": false
   }
  },
  {
   "cell_type": "code",
   "execution_count": 16,
   "outputs": [],
   "source": [
    "# die Spalten ausschliessen, welchen nicht in der Schweiz sind\n",
    "df_region_encoded = df_region_encoded.drop(['Region Grenznah'], axis=1)"
   ],
   "metadata": {
    "collapsed": false
   }
  },
  {
   "cell_type": "code",
   "execution_count": 17,
   "outputs": [
    {
     "data": {
      "text/plain": "11"
     },
     "execution_count": 17,
     "metadata": {},
     "output_type": "execute_result"
    }
   ],
   "source": [
    "df_region_encoded.shape[1]"
   ],
   "metadata": {
    "collapsed": false
   }
  },
  {
   "cell_type": "markdown",
   "source": [
    "### Region in Gesamt-DF intgrieren"
   ],
   "metadata": {
    "collapsed": false
   }
  },
  {
   "cell_type": "code",
   "execution_count": 18,
   "outputs": [],
   "source": [
    "df_camping = pd.concat([df_camping, df_region_encoded], axis=1)"
   ],
   "metadata": {
    "collapsed": false
   }
  },
  {
   "cell_type": "code",
   "execution_count": 19,
   "outputs": [
    {
     "data": {
      "text/plain": "                                                   URL  \\\n0    https://camping.ch/de/campingplatz/graubuenden...   \n1    https://camping.ch/de/campingplatz/ostschweiz/...   \n2    https://camping.ch/de/campingplatz/freiburg-ne...   \n3    https://camping.ch/de/campingplatz/graubuenden...   \n4    https://camping.ch/de/campingplatz/wallis/evol...   \n..                                                 ...   \n372  https://camping.ch/de/campingplatz/berner-ober...   \n373  https://camping.ch/de/campingplatz/wallis/fies...   \n374  https://camping.ch/de/campingplatz/berner-ober...   \n375  https://camping.ch/de/campingplatz/tessin/meri...   \n376  https://camping.ch/de/campingplatz/freiburg-ne...   \n\n                            Name                       Ortschaft  \\\n0                          Islas               7477 Filisur (GR)   \n1    Stellplatz Allmend Rheintal            9450 Altstätten (SG)   \n2            Camping de la Forêt                1642 Sorens (FR)   \n3                  Sur En / Sent         7554 Sur En / Sent (GR)   \n4                        Evolène               1983 Evolène (VS)   \n..                           ...                             ...   \n372                 Alpencamping             3860 Meiringen (BE)   \n373                    Eggishorn                3984 Fiesch (VS)   \n374              Camping Hobby 3  3800 Unterseen-Interlaken (BE)   \n375    Camping Monte San Giorgio                6866 Meride (TI)   \n376               Nouvelle Plage      1470 Estavayer-Le-Lac (FR)   \n\n                 Website  Sternebewertung  Aktivitäten  Touristenstellplätze  \\\n0    www.campingislas.ch                3            3                  50.0   \n1                    NaN                0            7                 150.0   \n2                    NaN                4            4                  50.0   \n3                    NaN                4            4                 120.0   \n4                    NaN                3            1                  65.0   \n..                   ...              ...          ...                   ...   \n372  www.alpencamping.ch                4           11                  34.0   \n373                  NaN                4            6                 127.0   \n374                  NaN                4           11                  80.0   \n375                  NaN                4            8                  64.0   \n376                  NaN                3            3                  60.0   \n\n            open (seasons 1) open (seasons 2) open (seasons 3)  ...  \\\n0    01.04.2024 − 31.10.2024              NaN              NaN  ...   \n1    01.01.2024 − 31.12.2024              NaN              NaN  ...   \n2    15.04.2024 − 15.10.2024              NaN              NaN  ...   \n3    01.01.2024 − 31.12.2024              NaN              NaN  ...   \n4    15.05.2024 − 15.10.2024              NaN              NaN  ...   \n..                       ...              ...              ...  ...   \n372  01.01.2024 − 31.12.2024              NaN              NaN  ...   \n373  01.01.2024 − 31.12.2024              NaN              NaN  ...   \n374  01.04.2024 − 04.10.2024              NaN              NaN  ...   \n375  19.04.2024 − 29.09.2024              NaN              NaN  ...   \n376  25.03.2024 − 20.10.2024              NaN              NaN  ...   \n\n    Region Berner-Oberland Region Freiburg-Neuenburg-Jura Region Graubuenden  \\\n0                        0                              0                  1   \n1                        0                              0                  0   \n2                        0                              1                  0   \n3                        0                              0                  1   \n4                        0                              0                  0   \n..                     ...                            ...                ...   \n372                      1                              0                  0   \n373                      0                              0                  0   \n374                      1                              0                  0   \n375                      0                              0                  0   \n376                      0                              1                  0   \n\n     Region Nordwestschweiz  Region Ostschweiz  Region Tessin  \\\n0                         0                  0              0   \n1                         0                  1              0   \n2                         0                  0              0   \n3                         0                  0              0   \n4                         0                  0              0   \n..                      ...                ...            ...   \n372                       0                  0              0   \n373                       0                  0              0   \n374                       0                  0              0   \n375                       0                  0              1   \n376                       0                  0              0   \n\n     Region Waadt-Genfersee  Region Wallis  Region Zentralschweiz  \\\n0                         0              0                      0   \n1                         0              0                      0   \n2                         0              0                      0   \n3                         0              0                      0   \n4                         0              1                      0   \n..                      ...            ...                    ...   \n372                       0              0                      0   \n373                       0              1                      0   \n374                       0              0                      0   \n375                       0              0                      0   \n376                       0              0                      0   \n\n     Region Zuerich  \n0                 0  \n1                 0  \n2                 0  \n3                 0  \n4                 0  \n..              ...  \n372               0  \n373               0  \n374               0  \n375               0  \n376               0  \n\n[377 rows x 64 columns]",
      "text/html": "<div>\n<style scoped>\n    .dataframe tbody tr th:only-of-type {\n        vertical-align: middle;\n    }\n\n    .dataframe tbody tr th {\n        vertical-align: top;\n    }\n\n    .dataframe thead th {\n        text-align: right;\n    }\n</style>\n<table border=\"1\" class=\"dataframe\">\n  <thead>\n    <tr style=\"text-align: right;\">\n      <th></th>\n      <th>URL</th>\n      <th>Name</th>\n      <th>Ortschaft</th>\n      <th>Website</th>\n      <th>Sternebewertung</th>\n      <th>Aktivitäten</th>\n      <th>Touristenstellplätze</th>\n      <th>open (seasons 1)</th>\n      <th>open (seasons 2)</th>\n      <th>open (seasons 3)</th>\n      <th>...</th>\n      <th>Region Berner-Oberland</th>\n      <th>Region Freiburg-Neuenburg-Jura</th>\n      <th>Region Graubuenden</th>\n      <th>Region Nordwestschweiz</th>\n      <th>Region Ostschweiz</th>\n      <th>Region Tessin</th>\n      <th>Region Waadt-Genfersee</th>\n      <th>Region Wallis</th>\n      <th>Region Zentralschweiz</th>\n      <th>Region Zuerich</th>\n    </tr>\n  </thead>\n  <tbody>\n    <tr>\n      <th>0</th>\n      <td>https://camping.ch/de/campingplatz/graubuenden...</td>\n      <td>Islas</td>\n      <td>7477 Filisur (GR)</td>\n      <td>www.campingislas.ch</td>\n      <td>3</td>\n      <td>3</td>\n      <td>50.0</td>\n      <td>01.04.2024 − 31.10.2024</td>\n      <td>NaN</td>\n      <td>NaN</td>\n      <td>...</td>\n      <td>0</td>\n      <td>0</td>\n      <td>1</td>\n      <td>0</td>\n      <td>0</td>\n      <td>0</td>\n      <td>0</td>\n      <td>0</td>\n      <td>0</td>\n      <td>0</td>\n    </tr>\n    <tr>\n      <th>1</th>\n      <td>https://camping.ch/de/campingplatz/ostschweiz/...</td>\n      <td>Stellplatz Allmend Rheintal</td>\n      <td>9450 Altstätten (SG)</td>\n      <td>NaN</td>\n      <td>0</td>\n      <td>7</td>\n      <td>150.0</td>\n      <td>01.01.2024 − 31.12.2024</td>\n      <td>NaN</td>\n      <td>NaN</td>\n      <td>...</td>\n      <td>0</td>\n      <td>0</td>\n      <td>0</td>\n      <td>0</td>\n      <td>1</td>\n      <td>0</td>\n      <td>0</td>\n      <td>0</td>\n      <td>0</td>\n      <td>0</td>\n    </tr>\n    <tr>\n      <th>2</th>\n      <td>https://camping.ch/de/campingplatz/freiburg-ne...</td>\n      <td>Camping de la Forêt</td>\n      <td>1642 Sorens (FR)</td>\n      <td>NaN</td>\n      <td>4</td>\n      <td>4</td>\n      <td>50.0</td>\n      <td>15.04.2024 − 15.10.2024</td>\n      <td>NaN</td>\n      <td>NaN</td>\n      <td>...</td>\n      <td>0</td>\n      <td>1</td>\n      <td>0</td>\n      <td>0</td>\n      <td>0</td>\n      <td>0</td>\n      <td>0</td>\n      <td>0</td>\n      <td>0</td>\n      <td>0</td>\n    </tr>\n    <tr>\n      <th>3</th>\n      <td>https://camping.ch/de/campingplatz/graubuenden...</td>\n      <td>Sur En / Sent</td>\n      <td>7554 Sur En / Sent (GR)</td>\n      <td>NaN</td>\n      <td>4</td>\n      <td>4</td>\n      <td>120.0</td>\n      <td>01.01.2024 − 31.12.2024</td>\n      <td>NaN</td>\n      <td>NaN</td>\n      <td>...</td>\n      <td>0</td>\n      <td>0</td>\n      <td>1</td>\n      <td>0</td>\n      <td>0</td>\n      <td>0</td>\n      <td>0</td>\n      <td>0</td>\n      <td>0</td>\n      <td>0</td>\n    </tr>\n    <tr>\n      <th>4</th>\n      <td>https://camping.ch/de/campingplatz/wallis/evol...</td>\n      <td>Evolène</td>\n      <td>1983 Evolène (VS)</td>\n      <td>NaN</td>\n      <td>3</td>\n      <td>1</td>\n      <td>65.0</td>\n      <td>15.05.2024 − 15.10.2024</td>\n      <td>NaN</td>\n      <td>NaN</td>\n      <td>...</td>\n      <td>0</td>\n      <td>0</td>\n      <td>0</td>\n      <td>0</td>\n      <td>0</td>\n      <td>0</td>\n      <td>0</td>\n      <td>1</td>\n      <td>0</td>\n      <td>0</td>\n    </tr>\n    <tr>\n      <th>...</th>\n      <td>...</td>\n      <td>...</td>\n      <td>...</td>\n      <td>...</td>\n      <td>...</td>\n      <td>...</td>\n      <td>...</td>\n      <td>...</td>\n      <td>...</td>\n      <td>...</td>\n      <td>...</td>\n      <td>...</td>\n      <td>...</td>\n      <td>...</td>\n      <td>...</td>\n      <td>...</td>\n      <td>...</td>\n      <td>...</td>\n      <td>...</td>\n      <td>...</td>\n      <td>...</td>\n    </tr>\n    <tr>\n      <th>372</th>\n      <td>https://camping.ch/de/campingplatz/berner-ober...</td>\n      <td>Alpencamping</td>\n      <td>3860 Meiringen (BE)</td>\n      <td>www.alpencamping.ch</td>\n      <td>4</td>\n      <td>11</td>\n      <td>34.0</td>\n      <td>01.01.2024 − 31.12.2024</td>\n      <td>NaN</td>\n      <td>NaN</td>\n      <td>...</td>\n      <td>1</td>\n      <td>0</td>\n      <td>0</td>\n      <td>0</td>\n      <td>0</td>\n      <td>0</td>\n      <td>0</td>\n      <td>0</td>\n      <td>0</td>\n      <td>0</td>\n    </tr>\n    <tr>\n      <th>373</th>\n      <td>https://camping.ch/de/campingplatz/wallis/fies...</td>\n      <td>Eggishorn</td>\n      <td>3984 Fiesch (VS)</td>\n      <td>NaN</td>\n      <td>4</td>\n      <td>6</td>\n      <td>127.0</td>\n      <td>01.01.2024 − 31.12.2024</td>\n      <td>NaN</td>\n      <td>NaN</td>\n      <td>...</td>\n      <td>0</td>\n      <td>0</td>\n      <td>0</td>\n      <td>0</td>\n      <td>0</td>\n      <td>0</td>\n      <td>0</td>\n      <td>1</td>\n      <td>0</td>\n      <td>0</td>\n    </tr>\n    <tr>\n      <th>374</th>\n      <td>https://camping.ch/de/campingplatz/berner-ober...</td>\n      <td>Camping Hobby 3</td>\n      <td>3800 Unterseen-Interlaken (BE)</td>\n      <td>NaN</td>\n      <td>4</td>\n      <td>11</td>\n      <td>80.0</td>\n      <td>01.04.2024 − 04.10.2024</td>\n      <td>NaN</td>\n      <td>NaN</td>\n      <td>...</td>\n      <td>1</td>\n      <td>0</td>\n      <td>0</td>\n      <td>0</td>\n      <td>0</td>\n      <td>0</td>\n      <td>0</td>\n      <td>0</td>\n      <td>0</td>\n      <td>0</td>\n    </tr>\n    <tr>\n      <th>375</th>\n      <td>https://camping.ch/de/campingplatz/tessin/meri...</td>\n      <td>Camping Monte San Giorgio</td>\n      <td>6866 Meride (TI)</td>\n      <td>NaN</td>\n      <td>4</td>\n      <td>8</td>\n      <td>64.0</td>\n      <td>19.04.2024 − 29.09.2024</td>\n      <td>NaN</td>\n      <td>NaN</td>\n      <td>...</td>\n      <td>0</td>\n      <td>0</td>\n      <td>0</td>\n      <td>0</td>\n      <td>0</td>\n      <td>1</td>\n      <td>0</td>\n      <td>0</td>\n      <td>0</td>\n      <td>0</td>\n    </tr>\n    <tr>\n      <th>376</th>\n      <td>https://camping.ch/de/campingplatz/freiburg-ne...</td>\n      <td>Nouvelle Plage</td>\n      <td>1470 Estavayer-Le-Lac (FR)</td>\n      <td>NaN</td>\n      <td>3</td>\n      <td>3</td>\n      <td>60.0</td>\n      <td>25.03.2024 − 20.10.2024</td>\n      <td>NaN</td>\n      <td>NaN</td>\n      <td>...</td>\n      <td>0</td>\n      <td>1</td>\n      <td>0</td>\n      <td>0</td>\n      <td>0</td>\n      <td>0</td>\n      <td>0</td>\n      <td>0</td>\n      <td>0</td>\n      <td>0</td>\n    </tr>\n  </tbody>\n</table>\n<p>377 rows × 64 columns</p>\n</div>"
     },
     "execution_count": 19,
     "metadata": {},
     "output_type": "execute_result"
    }
   ],
   "source": [
    "df_camping"
   ],
   "metadata": {
    "collapsed": false
   }
  },
  {
   "cell_type": "markdown",
   "source": [
    "## Zusammenfassung der Attribute/Faktoren\n",
    "z.B. Gastronomieangebot ist vorhanden, wenn es entweder ein Restaurant oder ein Take away gibt."
   ],
   "metadata": {
    "collapsed": false
   }
  },
  {
   "cell_type": "code",
   "execution_count": 20,
   "outputs": [],
   "source": [
    "# washing\n",
    "# Summe bilden und wenn nicht null, dann eins\n",
    "def calculate_result(row):\n",
    "    total = row['Waschmaschine'] + row['Trockner']\n",
    "    return 0 if total == 0 else 1\n",
    "\n",
    "# Ergebnis in neue Spalte speichern\n",
    "df_camping['Waschmaschine und Trockner'] = df_camping.apply(calculate_result, axis=1)"
   ],
   "metadata": {
    "collapsed": false
   }
  },
  {
   "cell_type": "code",
   "execution_count": 21,
   "outputs": [],
   "source": [
    "# Restaurants, Bars\n",
    "# Summe bilden und wenn nicht null, dann eins\n",
    "def calculate_result(row):\n",
    "    total = row['Restaurant'] + row['Take away']\n",
    "    return 0 if total == 0 else 1\n",
    "\n",
    "# Ergebnis in neue Spalte speichern\n",
    "df_camping['Gastronomie'] = df_camping.apply(calculate_result, axis=1)"
   ],
   "metadata": {
    "collapsed": false
   }
  },
  {
   "cell_type": "code",
   "execution_count": 22,
   "outputs": [],
   "source": [
    "# Shopping\n",
    "# Summe bilden und wenn nicht null, dann eins\n",
    "def calculate_result(row):\n",
    "    total = row['Laden mit einfachem Angebot'] + row['Kiosk'] + row['Einkaufzentrum'] + row['Laden mit reichem Angebot']\n",
    "    return 0 if total == 0 else 1\n",
    "\n",
    "# Ergebnis in neue Spalte speichern\n",
    "df_camping['Shop'] = df_camping.apply(calculate_result, axis=1)"
   ],
   "metadata": {
    "collapsed": false
   }
  },
  {
   "cell_type": "code",
   "execution_count": 23,
   "outputs": [],
   "source": [
    "# water side\n",
    "# Summe bilden und wenn nicht null, dann eins\n",
    "def calculate_result(row):\n",
    "    total = row['See mit Kies- oder Sandstrand'] + row['See mit Steinstrand'] + row['Fluss']\n",
    "    return 0 if total == 0 else 1\n",
    "\n",
    "# Ergebnis in neue Spalte speichern\n",
    "df_camping['Strandzugang'] = df_camping.apply(calculate_result, axis=1)"
   ],
   "metadata": {
    "collapsed": false
   }
  },
  {
   "cell_type": "code",
   "execution_count": 24,
   "outputs": [],
   "source": [
    "# membership\n",
    "# Summe aller Mitgliedschaften werden zusammengezählt\n",
    "def calculate_result(row):\n",
    "    total = row['VSC membership'] + row['TCS membership'] + row['SCCV membership']\n",
    "    return total\n",
    "\n",
    "# Ergebnis in neue Spalte speichern\n",
    "df_camping['Mitgliedschaften'] = df_camping.apply(calculate_result, axis=1)"
   ],
   "metadata": {
    "collapsed": false
   }
  },
  {
   "cell_type": "code",
   "execution_count": 25,
   "outputs": [
    {
     "data": {
      "text/plain": "                                                   URL  \\\n0    https://camping.ch/de/campingplatz/graubuenden...   \n1    https://camping.ch/de/campingplatz/ostschweiz/...   \n2    https://camping.ch/de/campingplatz/freiburg-ne...   \n3    https://camping.ch/de/campingplatz/graubuenden...   \n4    https://camping.ch/de/campingplatz/wallis/evol...   \n..                                                 ...   \n372  https://camping.ch/de/campingplatz/berner-ober...   \n373  https://camping.ch/de/campingplatz/wallis/fies...   \n374  https://camping.ch/de/campingplatz/berner-ober...   \n375  https://camping.ch/de/campingplatz/tessin/meri...   \n376  https://camping.ch/de/campingplatz/freiburg-ne...   \n\n                            Name                       Ortschaft  \\\n0                          Islas               7477 Filisur (GR)   \n1    Stellplatz Allmend Rheintal            9450 Altstätten (SG)   \n2            Camping de la Forêt                1642 Sorens (FR)   \n3                  Sur En / Sent         7554 Sur En / Sent (GR)   \n4                        Evolène               1983 Evolène (VS)   \n..                           ...                             ...   \n372                 Alpencamping             3860 Meiringen (BE)   \n373                    Eggishorn                3984 Fiesch (VS)   \n374              Camping Hobby 3  3800 Unterseen-Interlaken (BE)   \n375    Camping Monte San Giorgio                6866 Meride (TI)   \n376               Nouvelle Plage      1470 Estavayer-Le-Lac (FR)   \n\n                 Website  Sternebewertung  Aktivitäten  Touristenstellplätze  \\\n0    www.campingislas.ch                3            3                  50.0   \n1                    NaN                0            7                 150.0   \n2                    NaN                4            4                  50.0   \n3                    NaN                4            4                 120.0   \n4                    NaN                3            1                  65.0   \n..                   ...              ...          ...                   ...   \n372  www.alpencamping.ch                4           11                  34.0   \n373                  NaN                4            6                 127.0   \n374                  NaN                4           11                  80.0   \n375                  NaN                4            8                  64.0   \n376                  NaN                3            3                  60.0   \n\n            open (seasons 1) open (seasons 2) open (seasons 3)  ...  \\\n0    01.04.2024 − 31.10.2024              NaN              NaN  ...   \n1    01.01.2024 − 31.12.2024              NaN              NaN  ...   \n2    15.04.2024 − 15.10.2024              NaN              NaN  ...   \n3    01.01.2024 − 31.12.2024              NaN              NaN  ...   \n4    15.05.2024 − 15.10.2024              NaN              NaN  ...   \n..                       ...              ...              ...  ...   \n372  01.01.2024 − 31.12.2024              NaN              NaN  ...   \n373  01.01.2024 − 31.12.2024              NaN              NaN  ...   \n374  01.04.2024 − 04.10.2024              NaN              NaN  ...   \n375  19.04.2024 − 29.09.2024              NaN              NaN  ...   \n376  25.03.2024 − 20.10.2024              NaN              NaN  ...   \n\n    Region Tessin Region Waadt-Genfersee Region Wallis  Region Zentralschweiz  \\\n0               0                      0             0                      0   \n1               0                      0             0                      0   \n2               0                      0             0                      0   \n3               0                      0             0                      0   \n4               0                      0             1                      0   \n..            ...                    ...           ...                    ...   \n372             0                      0             0                      0   \n373             0                      0             1                      0   \n374             0                      0             0                      0   \n375             1                      0             0                      0   \n376             0                      0             0                      0   \n\n     Region Zuerich  Waschmaschine und Trockner  Gastronomie  Shop  \\\n0                 0                           1            0     0   \n1                 0                           0            0     0   \n2                 0                           1            1     1   \n3                 0                           1            0     0   \n4                 0                           1            0     0   \n..              ...                         ...          ...   ...   \n372               0                           1            1     1   \n373               0                           1            1     1   \n374               0                           1            0     1   \n375               0                           1            0     0   \n376               0                           1            0     0   \n\n     Strandzugang  Mitgliedschaften  \n0               0                 2  \n1               0                 0  \n2               0                 1  \n3               1                 1  \n4               0                 0  \n..            ...               ...  \n372             1                 1  \n373             1                 1  \n374             1                 1  \n375             1                 2  \n376             1                 0  \n\n[377 rows x 69 columns]",
      "text/html": "<div>\n<style scoped>\n    .dataframe tbody tr th:only-of-type {\n        vertical-align: middle;\n    }\n\n    .dataframe tbody tr th {\n        vertical-align: top;\n    }\n\n    .dataframe thead th {\n        text-align: right;\n    }\n</style>\n<table border=\"1\" class=\"dataframe\">\n  <thead>\n    <tr style=\"text-align: right;\">\n      <th></th>\n      <th>URL</th>\n      <th>Name</th>\n      <th>Ortschaft</th>\n      <th>Website</th>\n      <th>Sternebewertung</th>\n      <th>Aktivitäten</th>\n      <th>Touristenstellplätze</th>\n      <th>open (seasons 1)</th>\n      <th>open (seasons 2)</th>\n      <th>open (seasons 3)</th>\n      <th>...</th>\n      <th>Region Tessin</th>\n      <th>Region Waadt-Genfersee</th>\n      <th>Region Wallis</th>\n      <th>Region Zentralschweiz</th>\n      <th>Region Zuerich</th>\n      <th>Waschmaschine und Trockner</th>\n      <th>Gastronomie</th>\n      <th>Shop</th>\n      <th>Strandzugang</th>\n      <th>Mitgliedschaften</th>\n    </tr>\n  </thead>\n  <tbody>\n    <tr>\n      <th>0</th>\n      <td>https://camping.ch/de/campingplatz/graubuenden...</td>\n      <td>Islas</td>\n      <td>7477 Filisur (GR)</td>\n      <td>www.campingislas.ch</td>\n      <td>3</td>\n      <td>3</td>\n      <td>50.0</td>\n      <td>01.04.2024 − 31.10.2024</td>\n      <td>NaN</td>\n      <td>NaN</td>\n      <td>...</td>\n      <td>0</td>\n      <td>0</td>\n      <td>0</td>\n      <td>0</td>\n      <td>0</td>\n      <td>1</td>\n      <td>0</td>\n      <td>0</td>\n      <td>0</td>\n      <td>2</td>\n    </tr>\n    <tr>\n      <th>1</th>\n      <td>https://camping.ch/de/campingplatz/ostschweiz/...</td>\n      <td>Stellplatz Allmend Rheintal</td>\n      <td>9450 Altstätten (SG)</td>\n      <td>NaN</td>\n      <td>0</td>\n      <td>7</td>\n      <td>150.0</td>\n      <td>01.01.2024 − 31.12.2024</td>\n      <td>NaN</td>\n      <td>NaN</td>\n      <td>...</td>\n      <td>0</td>\n      <td>0</td>\n      <td>0</td>\n      <td>0</td>\n      <td>0</td>\n      <td>0</td>\n      <td>0</td>\n      <td>0</td>\n      <td>0</td>\n      <td>0</td>\n    </tr>\n    <tr>\n      <th>2</th>\n      <td>https://camping.ch/de/campingplatz/freiburg-ne...</td>\n      <td>Camping de la Forêt</td>\n      <td>1642 Sorens (FR)</td>\n      <td>NaN</td>\n      <td>4</td>\n      <td>4</td>\n      <td>50.0</td>\n      <td>15.04.2024 − 15.10.2024</td>\n      <td>NaN</td>\n      <td>NaN</td>\n      <td>...</td>\n      <td>0</td>\n      <td>0</td>\n      <td>0</td>\n      <td>0</td>\n      <td>0</td>\n      <td>1</td>\n      <td>1</td>\n      <td>1</td>\n      <td>0</td>\n      <td>1</td>\n    </tr>\n    <tr>\n      <th>3</th>\n      <td>https://camping.ch/de/campingplatz/graubuenden...</td>\n      <td>Sur En / Sent</td>\n      <td>7554 Sur En / Sent (GR)</td>\n      <td>NaN</td>\n      <td>4</td>\n      <td>4</td>\n      <td>120.0</td>\n      <td>01.01.2024 − 31.12.2024</td>\n      <td>NaN</td>\n      <td>NaN</td>\n      <td>...</td>\n      <td>0</td>\n      <td>0</td>\n      <td>0</td>\n      <td>0</td>\n      <td>0</td>\n      <td>1</td>\n      <td>0</td>\n      <td>0</td>\n      <td>1</td>\n      <td>1</td>\n    </tr>\n    <tr>\n      <th>4</th>\n      <td>https://camping.ch/de/campingplatz/wallis/evol...</td>\n      <td>Evolène</td>\n      <td>1983 Evolène (VS)</td>\n      <td>NaN</td>\n      <td>3</td>\n      <td>1</td>\n      <td>65.0</td>\n      <td>15.05.2024 − 15.10.2024</td>\n      <td>NaN</td>\n      <td>NaN</td>\n      <td>...</td>\n      <td>0</td>\n      <td>0</td>\n      <td>1</td>\n      <td>0</td>\n      <td>0</td>\n      <td>1</td>\n      <td>0</td>\n      <td>0</td>\n      <td>0</td>\n      <td>0</td>\n    </tr>\n    <tr>\n      <th>...</th>\n      <td>...</td>\n      <td>...</td>\n      <td>...</td>\n      <td>...</td>\n      <td>...</td>\n      <td>...</td>\n      <td>...</td>\n      <td>...</td>\n      <td>...</td>\n      <td>...</td>\n      <td>...</td>\n      <td>...</td>\n      <td>...</td>\n      <td>...</td>\n      <td>...</td>\n      <td>...</td>\n      <td>...</td>\n      <td>...</td>\n      <td>...</td>\n      <td>...</td>\n      <td>...</td>\n    </tr>\n    <tr>\n      <th>372</th>\n      <td>https://camping.ch/de/campingplatz/berner-ober...</td>\n      <td>Alpencamping</td>\n      <td>3860 Meiringen (BE)</td>\n      <td>www.alpencamping.ch</td>\n      <td>4</td>\n      <td>11</td>\n      <td>34.0</td>\n      <td>01.01.2024 − 31.12.2024</td>\n      <td>NaN</td>\n      <td>NaN</td>\n      <td>...</td>\n      <td>0</td>\n      <td>0</td>\n      <td>0</td>\n      <td>0</td>\n      <td>0</td>\n      <td>1</td>\n      <td>1</td>\n      <td>1</td>\n      <td>1</td>\n      <td>1</td>\n    </tr>\n    <tr>\n      <th>373</th>\n      <td>https://camping.ch/de/campingplatz/wallis/fies...</td>\n      <td>Eggishorn</td>\n      <td>3984 Fiesch (VS)</td>\n      <td>NaN</td>\n      <td>4</td>\n      <td>6</td>\n      <td>127.0</td>\n      <td>01.01.2024 − 31.12.2024</td>\n      <td>NaN</td>\n      <td>NaN</td>\n      <td>...</td>\n      <td>0</td>\n      <td>0</td>\n      <td>1</td>\n      <td>0</td>\n      <td>0</td>\n      <td>1</td>\n      <td>1</td>\n      <td>1</td>\n      <td>1</td>\n      <td>1</td>\n    </tr>\n    <tr>\n      <th>374</th>\n      <td>https://camping.ch/de/campingplatz/berner-ober...</td>\n      <td>Camping Hobby 3</td>\n      <td>3800 Unterseen-Interlaken (BE)</td>\n      <td>NaN</td>\n      <td>4</td>\n      <td>11</td>\n      <td>80.0</td>\n      <td>01.04.2024 − 04.10.2024</td>\n      <td>NaN</td>\n      <td>NaN</td>\n      <td>...</td>\n      <td>0</td>\n      <td>0</td>\n      <td>0</td>\n      <td>0</td>\n      <td>0</td>\n      <td>1</td>\n      <td>0</td>\n      <td>1</td>\n      <td>1</td>\n      <td>1</td>\n    </tr>\n    <tr>\n      <th>375</th>\n      <td>https://camping.ch/de/campingplatz/tessin/meri...</td>\n      <td>Camping Monte San Giorgio</td>\n      <td>6866 Meride (TI)</td>\n      <td>NaN</td>\n      <td>4</td>\n      <td>8</td>\n      <td>64.0</td>\n      <td>19.04.2024 − 29.09.2024</td>\n      <td>NaN</td>\n      <td>NaN</td>\n      <td>...</td>\n      <td>1</td>\n      <td>0</td>\n      <td>0</td>\n      <td>0</td>\n      <td>0</td>\n      <td>1</td>\n      <td>0</td>\n      <td>0</td>\n      <td>1</td>\n      <td>2</td>\n    </tr>\n    <tr>\n      <th>376</th>\n      <td>https://camping.ch/de/campingplatz/freiburg-ne...</td>\n      <td>Nouvelle Plage</td>\n      <td>1470 Estavayer-Le-Lac (FR)</td>\n      <td>NaN</td>\n      <td>3</td>\n      <td>3</td>\n      <td>60.0</td>\n      <td>25.03.2024 − 20.10.2024</td>\n      <td>NaN</td>\n      <td>NaN</td>\n      <td>...</td>\n      <td>0</td>\n      <td>0</td>\n      <td>0</td>\n      <td>0</td>\n      <td>0</td>\n      <td>1</td>\n      <td>0</td>\n      <td>0</td>\n      <td>1</td>\n      <td>0</td>\n    </tr>\n  </tbody>\n</table>\n<p>377 rows × 69 columns</p>\n</div>"
     },
     "execution_count": 25,
     "metadata": {},
     "output_type": "execute_result"
    }
   ],
   "source": [
    "df_camping"
   ],
   "metadata": {
    "collapsed": false
   }
  },
  {
   "cell_type": "code",
   "execution_count": 26,
   "outputs": [
    {
     "data": {
      "text/plain": "URL                           object\nName                          object\nOrtschaft                     object\nWebsite                       object\nSternebewertung                int64\n                               ...  \nWaschmaschine und Trockner     int64\nGastronomie                    int64\nShop                           int64\nStrandzugang                   int64\nMitgliedschaften               int64\nLength: 69, dtype: object"
     },
     "execution_count": 26,
     "metadata": {},
     "output_type": "execute_result"
    }
   ],
   "source": [
    "df_camping.dtypes"
   ],
   "metadata": {
    "collapsed": false
   }
  },
  {
   "cell_type": "markdown",
   "source": [
    "# Manuelle Daten (Preis)\n",
    "## Import"
   ],
   "metadata": {
    "collapsed": false
   }
  },
  {
   "cell_type": "code",
   "execution_count": 27,
   "outputs": [
    {
     "data": {
      "text/plain": "                                                   URL  \\\n0    https://camping.ch/de/campingplatz/graubuenden...   \n1    https://camping.ch/de/campingplatz/graubuenden...   \n2    https://camping.ch/de/campingplatz/graubuenden...   \n3    https://camping.ch/de/campingplatz/graubuenden...   \n4    https://camping.ch/de/campingplatz/graubuenden...   \n..                                                 ...   \n826  https://camping.ch/de/campingplatz/berner-mite...   \n827  https://camping.ch/de/campingplatz/berner-mite...   \n828  https://camping.ch/de/campingplatz/berner-mite...   \n829  https://camping.ch/de/campingplatz/berner-mite...   \n830  https://camping.ch/de/campingplatz/berner-mite...   \n\n                                            Preisseite   Latitude  Longitude  \\\n0    https://camping-lenzerheide.ch/de/camping-grav...  46.722760   9.555440   \n1    https://camping-lenzerheide.ch/de/camping-grav...  46.722760   9.555440   \n2    https://camping-lenzerheide.ch/de/camping-grav...  46.722760   9.555440   \n3    https://camping-lenzerheide.ch/de/camping-grav...  46.722760   9.555440   \n4    https://camping-lenzerheide.ch/de/camping-st-c...  46.698692   9.558404   \n..                                                 ...        ...        ...   \n826  https://www.camping-lindenhof.ch/de/tarife-inf...  47.093373   7.210469   \n827  https://www.camping-lindenhof.ch/de/tarife-inf...  47.093373   7.210469   \n828                    https://seeland-camp.ch/preise/  47.162189   7.346157   \n829                    https://seeland-camp.ch/preise/  47.162189   7.346157   \n830  https://camping.ch/de/campingplatz/berner-mite...  46.785982   7.403469   \n\n     Stellplatz am Wasser  weiter Unterküfte  kleiner Platz (<80 m2)  \\\n0                     0.0                1.0                       1   \n1                     0.0                1.0                       0   \n2                     0.0                1.0                       1   \n3                     0.0                1.0                       0   \n4                     0.0                1.0                       1   \n..                    ...                ...                     ...   \n826                   0.0                0.0                       1   \n827                   0.0                0.0                       0   \n828                   0.0                0.0                       1   \n829                   0.0                0.0                       1   \n830                   0.0                0.0                       1   \n\n     mittlerer Platz  (~100 m2)  grosser Platz (>110 m2)  Hauptsaison  \\\n0                             0                        0            1   \n1                             1                        0            1   \n2                             0                        0            0   \n3                             1                        0            0   \n4                             0                        0            1   \n..                          ...                      ...          ...   \n826                           0                        0            1   \n827                           1                        0            1   \n828                           0                        0            0   \n829                           0                        0            1   \n830                           0                        0            1   \n\n     Nebensaison  Preis  \n0              0   38.0  \n1              0   43.0  \n2              1   40.0  \n3              1   45.0  \n4              0   37.0  \n..           ...    ...  \n826            1   31.2  \n827            1   37.2  \n828            1   26.7  \n829            0   28.7  \n830            1   30.5  \n\n[831 rows x 12 columns]",
      "text/html": "<div>\n<style scoped>\n    .dataframe tbody tr th:only-of-type {\n        vertical-align: middle;\n    }\n\n    .dataframe tbody tr th {\n        vertical-align: top;\n    }\n\n    .dataframe thead th {\n        text-align: right;\n    }\n</style>\n<table border=\"1\" class=\"dataframe\">\n  <thead>\n    <tr style=\"text-align: right;\">\n      <th></th>\n      <th>URL</th>\n      <th>Preisseite</th>\n      <th>Latitude</th>\n      <th>Longitude</th>\n      <th>Stellplatz am Wasser</th>\n      <th>weiter Unterküfte</th>\n      <th>kleiner Platz (&lt;80 m2)</th>\n      <th>mittlerer Platz  (~100 m2)</th>\n      <th>grosser Platz (&gt;110 m2)</th>\n      <th>Hauptsaison</th>\n      <th>Nebensaison</th>\n      <th>Preis</th>\n    </tr>\n  </thead>\n  <tbody>\n    <tr>\n      <th>0</th>\n      <td>https://camping.ch/de/campingplatz/graubuenden...</td>\n      <td>https://camping-lenzerheide.ch/de/camping-grav...</td>\n      <td>46.722760</td>\n      <td>9.555440</td>\n      <td>0.0</td>\n      <td>1.0</td>\n      <td>1</td>\n      <td>0</td>\n      <td>0</td>\n      <td>1</td>\n      <td>0</td>\n      <td>38.0</td>\n    </tr>\n    <tr>\n      <th>1</th>\n      <td>https://camping.ch/de/campingplatz/graubuenden...</td>\n      <td>https://camping-lenzerheide.ch/de/camping-grav...</td>\n      <td>46.722760</td>\n      <td>9.555440</td>\n      <td>0.0</td>\n      <td>1.0</td>\n      <td>0</td>\n      <td>1</td>\n      <td>0</td>\n      <td>1</td>\n      <td>0</td>\n      <td>43.0</td>\n    </tr>\n    <tr>\n      <th>2</th>\n      <td>https://camping.ch/de/campingplatz/graubuenden...</td>\n      <td>https://camping-lenzerheide.ch/de/camping-grav...</td>\n      <td>46.722760</td>\n      <td>9.555440</td>\n      <td>0.0</td>\n      <td>1.0</td>\n      <td>1</td>\n      <td>0</td>\n      <td>0</td>\n      <td>0</td>\n      <td>1</td>\n      <td>40.0</td>\n    </tr>\n    <tr>\n      <th>3</th>\n      <td>https://camping.ch/de/campingplatz/graubuenden...</td>\n      <td>https://camping-lenzerheide.ch/de/camping-grav...</td>\n      <td>46.722760</td>\n      <td>9.555440</td>\n      <td>0.0</td>\n      <td>1.0</td>\n      <td>0</td>\n      <td>1</td>\n      <td>0</td>\n      <td>0</td>\n      <td>1</td>\n      <td>45.0</td>\n    </tr>\n    <tr>\n      <th>4</th>\n      <td>https://camping.ch/de/campingplatz/graubuenden...</td>\n      <td>https://camping-lenzerheide.ch/de/camping-st-c...</td>\n      <td>46.698692</td>\n      <td>9.558404</td>\n      <td>0.0</td>\n      <td>1.0</td>\n      <td>1</td>\n      <td>0</td>\n      <td>0</td>\n      <td>1</td>\n      <td>0</td>\n      <td>37.0</td>\n    </tr>\n    <tr>\n      <th>...</th>\n      <td>...</td>\n      <td>...</td>\n      <td>...</td>\n      <td>...</td>\n      <td>...</td>\n      <td>...</td>\n      <td>...</td>\n      <td>...</td>\n      <td>...</td>\n      <td>...</td>\n      <td>...</td>\n      <td>...</td>\n    </tr>\n    <tr>\n      <th>826</th>\n      <td>https://camping.ch/de/campingplatz/berner-mite...</td>\n      <td>https://www.camping-lindenhof.ch/de/tarife-inf...</td>\n      <td>47.093373</td>\n      <td>7.210469</td>\n      <td>0.0</td>\n      <td>0.0</td>\n      <td>1</td>\n      <td>0</td>\n      <td>0</td>\n      <td>1</td>\n      <td>1</td>\n      <td>31.2</td>\n    </tr>\n    <tr>\n      <th>827</th>\n      <td>https://camping.ch/de/campingplatz/berner-mite...</td>\n      <td>https://www.camping-lindenhof.ch/de/tarife-inf...</td>\n      <td>47.093373</td>\n      <td>7.210469</td>\n      <td>0.0</td>\n      <td>0.0</td>\n      <td>0</td>\n      <td>1</td>\n      <td>0</td>\n      <td>1</td>\n      <td>1</td>\n      <td>37.2</td>\n    </tr>\n    <tr>\n      <th>828</th>\n      <td>https://camping.ch/de/campingplatz/berner-mite...</td>\n      <td>https://seeland-camp.ch/preise/</td>\n      <td>47.162189</td>\n      <td>7.346157</td>\n      <td>0.0</td>\n      <td>0.0</td>\n      <td>1</td>\n      <td>0</td>\n      <td>0</td>\n      <td>0</td>\n      <td>1</td>\n      <td>26.7</td>\n    </tr>\n    <tr>\n      <th>829</th>\n      <td>https://camping.ch/de/campingplatz/berner-mite...</td>\n      <td>https://seeland-camp.ch/preise/</td>\n      <td>47.162189</td>\n      <td>7.346157</td>\n      <td>0.0</td>\n      <td>0.0</td>\n      <td>1</td>\n      <td>0</td>\n      <td>0</td>\n      <td>1</td>\n      <td>0</td>\n      <td>28.7</td>\n    </tr>\n    <tr>\n      <th>830</th>\n      <td>https://camping.ch/de/campingplatz/berner-mite...</td>\n      <td>https://camping.ch/de/campingplatz/berner-mite...</td>\n      <td>46.785982</td>\n      <td>7.403469</td>\n      <td>0.0</td>\n      <td>0.0</td>\n      <td>1</td>\n      <td>0</td>\n      <td>0</td>\n      <td>1</td>\n      <td>1</td>\n      <td>30.5</td>\n    </tr>\n  </tbody>\n</table>\n<p>831 rows × 12 columns</p>\n</div>"
     },
     "execution_count": 27,
     "metadata": {},
     "output_type": "execute_result"
    }
   ],
   "source": [
    "df_price = pd.read_csv('rohdaten_preis.csv', encoding='utf-8', sep=';')\n",
    "df_price"
   ],
   "metadata": {
    "collapsed": false
   }
  },
  {
   "cell_type": "markdown",
   "source": [
    "### Leere Zeilen löschen"
   ],
   "metadata": {
    "collapsed": false
   }
  },
  {
   "cell_type": "code",
   "execution_count": 28,
   "outputs": [
    {
     "data": {
      "text/plain": "831"
     },
     "execution_count": 28,
     "metadata": {},
     "output_type": "execute_result"
    }
   ],
   "source": [
    "len(df_price)"
   ],
   "metadata": {
    "collapsed": false
   }
  },
  {
   "cell_type": "code",
   "execution_count": 29,
   "outputs": [],
   "source": [
    "# alle Zeilen, welche keinen Preis hinterlegt haben, werden gelöscht\n",
    "df_price = df_price[df_price['Preis'] != 0]"
   ],
   "metadata": {
    "collapsed": false
   }
  },
  {
   "cell_type": "code",
   "execution_count": 30,
   "outputs": [
    {
     "data": {
      "text/plain": "806"
     },
     "execution_count": 30,
     "metadata": {},
     "output_type": "execute_result"
    }
   ],
   "source": [
    "len(df_price)"
   ],
   "metadata": {
    "collapsed": false
   }
  },
  {
   "cell_type": "markdown",
   "source": [
    "## Format prüfen"
   ],
   "metadata": {
    "collapsed": false
   }
  },
  {
   "cell_type": "code",
   "execution_count": 31,
   "outputs": [
    {
     "data": {
      "text/plain": "URL                            object\nPreisseite                     object\nLatitude                      float64\nLongitude                     float64\nStellplatz am Wasser          float64\nweiter Unterküfte             float64\nkleiner Platz (<80 m2)          int64\nmittlerer Platz  (~100 m2)      int64\ngrosser Platz (>110 m2)         int64\nHauptsaison                     int64\nNebensaison                     int64\nPreis                         float64\ndtype: object"
     },
     "execution_count": 31,
     "metadata": {},
     "output_type": "execute_result"
    }
   ],
   "source": [
    "df_price.dtypes"
   ],
   "metadata": {
    "collapsed": false
   }
  },
  {
   "cell_type": "code",
   "execution_count": 32,
   "outputs": [
    {
     "name": "stderr",
     "output_type": "stream",
     "text": [
      "C:\\Users\\sarak\\AppData\\Local\\Temp\\ipykernel_15752\\441198220.py:1: SettingWithCopyWarning: \n",
      "A value is trying to be set on a copy of a slice from a DataFrame.\n",
      "Try using .loc[row_indexer,col_indexer] = value instead\n",
      "\n",
      "See the caveats in the documentation: https://pandas.pydata.org/pandas-docs/stable/user_guide/indexing.html#returning-a-view-versus-a-copy\n",
      "  df_price['Stellplatz am Wasser'] = df_price['Stellplatz am Wasser'].astype(int)\n",
      "C:\\Users\\sarak\\AppData\\Local\\Temp\\ipykernel_15752\\441198220.py:2: SettingWithCopyWarning: \n",
      "A value is trying to be set on a copy of a slice from a DataFrame.\n",
      "Try using .loc[row_indexer,col_indexer] = value instead\n",
      "\n",
      "See the caveats in the documentation: https://pandas.pydata.org/pandas-docs/stable/user_guide/indexing.html#returning-a-view-versus-a-copy\n",
      "  df_price['weiter Unterküfte'] = df_price['weiter Unterküfte'].astype(int)\n"
     ]
    },
    {
     "data": {
      "text/plain": "URL                            object\nPreisseite                     object\nLatitude                      float64\nLongitude                     float64\nStellplatz am Wasser            int32\nweiter Unterküfte               int32\nkleiner Platz (<80 m2)          int64\nmittlerer Platz  (~100 m2)      int64\ngrosser Platz (>110 m2)         int64\nHauptsaison                     int64\nNebensaison                     int64\nPreis                         float64\ndtype: object"
     },
     "execution_count": 32,
     "metadata": {},
     "output_type": "execute_result"
    }
   ],
   "source": [
    "df_price['Stellplatz am Wasser'] = df_price['Stellplatz am Wasser'].astype(int)\n",
    "df_price['weiter Unterküfte'] = df_price['weiter Unterküfte'].astype(int)\n",
    "df_price.dtypes"
   ],
   "metadata": {
    "collapsed": false
   }
  },
  {
   "cell_type": "markdown",
   "source": [
    "# Zusammenführen der Tabellen"
   ],
   "metadata": {
    "collapsed": false
   }
  },
  {
   "cell_type": "code",
   "execution_count": 33,
   "outputs": [],
   "source": [
    "# Basisliste ist manuell erstellte Liste (df_price)\n",
    "df_camping_all  = pd.merge(df_price, df_camping, on='URL', how='left')"
   ],
   "metadata": {
    "collapsed": false
   }
  },
  {
   "cell_type": "code",
   "execution_count": 34,
   "outputs": [
    {
     "data": {
      "text/plain": "                                                   URL  \\\n0    https://camping.ch/de/campingplatz/graubuenden...   \n1    https://camping.ch/de/campingplatz/graubuenden...   \n2    https://camping.ch/de/campingplatz/graubuenden...   \n3    https://camping.ch/de/campingplatz/graubuenden...   \n4    https://camping.ch/de/campingplatz/graubuenden...   \n..                                                 ...   \n801  https://camping.ch/de/campingplatz/berner-mite...   \n802  https://camping.ch/de/campingplatz/berner-mite...   \n803  https://camping.ch/de/campingplatz/berner-mite...   \n804  https://camping.ch/de/campingplatz/berner-mite...   \n805  https://camping.ch/de/campingplatz/berner-mite...   \n\n                                            Preisseite   Latitude  Longitude  \\\n0    https://camping-lenzerheide.ch/de/camping-grav...  46.722760   9.555440   \n1    https://camping-lenzerheide.ch/de/camping-grav...  46.722760   9.555440   \n2    https://camping-lenzerheide.ch/de/camping-grav...  46.722760   9.555440   \n3    https://camping-lenzerheide.ch/de/camping-grav...  46.722760   9.555440   \n4    https://camping-lenzerheide.ch/de/camping-st-c...  46.698692   9.558404   \n..                                                 ...        ...        ...   \n801  https://www.camping-lindenhof.ch/de/tarife-inf...  47.093373   7.210469   \n802  https://www.camping-lindenhof.ch/de/tarife-inf...  47.093373   7.210469   \n803                    https://seeland-camp.ch/preise/  47.162189   7.346157   \n804                    https://seeland-camp.ch/preise/  47.162189   7.346157   \n805  https://camping.ch/de/campingplatz/berner-mite...  46.785982   7.403469   \n\n     Stellplatz am Wasser  weiter Unterküfte  kleiner Platz (<80 m2)  \\\n0                       0                  1                       1   \n1                       0                  1                       0   \n2                       0                  1                       1   \n3                       0                  1                       0   \n4                       0                  1                       1   \n..                    ...                ...                     ...   \n801                     0                  0                       1   \n802                     0                  0                       0   \n803                     0                  0                       1   \n804                     0                  0                       1   \n805                     0                  0                       1   \n\n     mittlerer Platz  (~100 m2)  grosser Platz (>110 m2)  Hauptsaison  ...  \\\n0                             0                        0            1  ...   \n1                             1                        0            1  ...   \n2                             0                        0            0  ...   \n3                             1                        0            0  ...   \n4                             0                        0            1  ...   \n..                          ...                      ...          ...  ...   \n801                           0                        0            1  ...   \n802                           1                        0            1  ...   \n803                           0                        0            0  ...   \n804                           0                        0            1  ...   \n805                           0                        0            1  ...   \n\n     Region Tessin  Region Waadt-Genfersee Region Wallis  \\\n0                0                       0             0   \n1                0                       0             0   \n2                0                       0             0   \n3                0                       0             0   \n4                0                       0             0   \n..             ...                     ...           ...   \n801              0                       0             0   \n802              0                       0             0   \n803              0                       0             0   \n804              0                       0             0   \n805              0                       0             0   \n\n    Region Zentralschweiz Region Zuerich  Waschmaschine und Trockner  \\\n0                       0              0                           1   \n1                       0              0                           1   \n2                       0              0                           1   \n3                       0              0                           1   \n4                       0              0                           1   \n..                    ...            ...                         ...   \n801                     0              0                           1   \n802                     0              0                           1   \n803                     0              0                           1   \n804                     0              0                           1   \n805                     0              0                           1   \n\n     Gastronomie  Shop Strandzugang Mitgliedschaften  \n0              0     0            1                1  \n1              0     0            1                1  \n2              0     0            1                1  \n3              0     0            1                1  \n4              1     0            0                1  \n..           ...   ...          ...              ...  \n801            0     0            1                0  \n802            0     0            1                0  \n803            0     0            0                1  \n804            0     0            0                1  \n805            0     0            1                2  \n\n[806 rows x 80 columns]",
      "text/html": "<div>\n<style scoped>\n    .dataframe tbody tr th:only-of-type {\n        vertical-align: middle;\n    }\n\n    .dataframe tbody tr th {\n        vertical-align: top;\n    }\n\n    .dataframe thead th {\n        text-align: right;\n    }\n</style>\n<table border=\"1\" class=\"dataframe\">\n  <thead>\n    <tr style=\"text-align: right;\">\n      <th></th>\n      <th>URL</th>\n      <th>Preisseite</th>\n      <th>Latitude</th>\n      <th>Longitude</th>\n      <th>Stellplatz am Wasser</th>\n      <th>weiter Unterküfte</th>\n      <th>kleiner Platz (&lt;80 m2)</th>\n      <th>mittlerer Platz  (~100 m2)</th>\n      <th>grosser Platz (&gt;110 m2)</th>\n      <th>Hauptsaison</th>\n      <th>...</th>\n      <th>Region Tessin</th>\n      <th>Region Waadt-Genfersee</th>\n      <th>Region Wallis</th>\n      <th>Region Zentralschweiz</th>\n      <th>Region Zuerich</th>\n      <th>Waschmaschine und Trockner</th>\n      <th>Gastronomie</th>\n      <th>Shop</th>\n      <th>Strandzugang</th>\n      <th>Mitgliedschaften</th>\n    </tr>\n  </thead>\n  <tbody>\n    <tr>\n      <th>0</th>\n      <td>https://camping.ch/de/campingplatz/graubuenden...</td>\n      <td>https://camping-lenzerheide.ch/de/camping-grav...</td>\n      <td>46.722760</td>\n      <td>9.555440</td>\n      <td>0</td>\n      <td>1</td>\n      <td>1</td>\n      <td>0</td>\n      <td>0</td>\n      <td>1</td>\n      <td>...</td>\n      <td>0</td>\n      <td>0</td>\n      <td>0</td>\n      <td>0</td>\n      <td>0</td>\n      <td>1</td>\n      <td>0</td>\n      <td>0</td>\n      <td>1</td>\n      <td>1</td>\n    </tr>\n    <tr>\n      <th>1</th>\n      <td>https://camping.ch/de/campingplatz/graubuenden...</td>\n      <td>https://camping-lenzerheide.ch/de/camping-grav...</td>\n      <td>46.722760</td>\n      <td>9.555440</td>\n      <td>0</td>\n      <td>1</td>\n      <td>0</td>\n      <td>1</td>\n      <td>0</td>\n      <td>1</td>\n      <td>...</td>\n      <td>0</td>\n      <td>0</td>\n      <td>0</td>\n      <td>0</td>\n      <td>0</td>\n      <td>1</td>\n      <td>0</td>\n      <td>0</td>\n      <td>1</td>\n      <td>1</td>\n    </tr>\n    <tr>\n      <th>2</th>\n      <td>https://camping.ch/de/campingplatz/graubuenden...</td>\n      <td>https://camping-lenzerheide.ch/de/camping-grav...</td>\n      <td>46.722760</td>\n      <td>9.555440</td>\n      <td>0</td>\n      <td>1</td>\n      <td>1</td>\n      <td>0</td>\n      <td>0</td>\n      <td>0</td>\n      <td>...</td>\n      <td>0</td>\n      <td>0</td>\n      <td>0</td>\n      <td>0</td>\n      <td>0</td>\n      <td>1</td>\n      <td>0</td>\n      <td>0</td>\n      <td>1</td>\n      <td>1</td>\n    </tr>\n    <tr>\n      <th>3</th>\n      <td>https://camping.ch/de/campingplatz/graubuenden...</td>\n      <td>https://camping-lenzerheide.ch/de/camping-grav...</td>\n      <td>46.722760</td>\n      <td>9.555440</td>\n      <td>0</td>\n      <td>1</td>\n      <td>0</td>\n      <td>1</td>\n      <td>0</td>\n      <td>0</td>\n      <td>...</td>\n      <td>0</td>\n      <td>0</td>\n      <td>0</td>\n      <td>0</td>\n      <td>0</td>\n      <td>1</td>\n      <td>0</td>\n      <td>0</td>\n      <td>1</td>\n      <td>1</td>\n    </tr>\n    <tr>\n      <th>4</th>\n      <td>https://camping.ch/de/campingplatz/graubuenden...</td>\n      <td>https://camping-lenzerheide.ch/de/camping-st-c...</td>\n      <td>46.698692</td>\n      <td>9.558404</td>\n      <td>0</td>\n      <td>1</td>\n      <td>1</td>\n      <td>0</td>\n      <td>0</td>\n      <td>1</td>\n      <td>...</td>\n      <td>0</td>\n      <td>0</td>\n      <td>0</td>\n      <td>0</td>\n      <td>0</td>\n      <td>1</td>\n      <td>1</td>\n      <td>0</td>\n      <td>0</td>\n      <td>1</td>\n    </tr>\n    <tr>\n      <th>...</th>\n      <td>...</td>\n      <td>...</td>\n      <td>...</td>\n      <td>...</td>\n      <td>...</td>\n      <td>...</td>\n      <td>...</td>\n      <td>...</td>\n      <td>...</td>\n      <td>...</td>\n      <td>...</td>\n      <td>...</td>\n      <td>...</td>\n      <td>...</td>\n      <td>...</td>\n      <td>...</td>\n      <td>...</td>\n      <td>...</td>\n      <td>...</td>\n      <td>...</td>\n      <td>...</td>\n    </tr>\n    <tr>\n      <th>801</th>\n      <td>https://camping.ch/de/campingplatz/berner-mite...</td>\n      <td>https://www.camping-lindenhof.ch/de/tarife-inf...</td>\n      <td>47.093373</td>\n      <td>7.210469</td>\n      <td>0</td>\n      <td>0</td>\n      <td>1</td>\n      <td>0</td>\n      <td>0</td>\n      <td>1</td>\n      <td>...</td>\n      <td>0</td>\n      <td>0</td>\n      <td>0</td>\n      <td>0</td>\n      <td>0</td>\n      <td>1</td>\n      <td>0</td>\n      <td>0</td>\n      <td>1</td>\n      <td>0</td>\n    </tr>\n    <tr>\n      <th>802</th>\n      <td>https://camping.ch/de/campingplatz/berner-mite...</td>\n      <td>https://www.camping-lindenhof.ch/de/tarife-inf...</td>\n      <td>47.093373</td>\n      <td>7.210469</td>\n      <td>0</td>\n      <td>0</td>\n      <td>0</td>\n      <td>1</td>\n      <td>0</td>\n      <td>1</td>\n      <td>...</td>\n      <td>0</td>\n      <td>0</td>\n      <td>0</td>\n      <td>0</td>\n      <td>0</td>\n      <td>1</td>\n      <td>0</td>\n      <td>0</td>\n      <td>1</td>\n      <td>0</td>\n    </tr>\n    <tr>\n      <th>803</th>\n      <td>https://camping.ch/de/campingplatz/berner-mite...</td>\n      <td>https://seeland-camp.ch/preise/</td>\n      <td>47.162189</td>\n      <td>7.346157</td>\n      <td>0</td>\n      <td>0</td>\n      <td>1</td>\n      <td>0</td>\n      <td>0</td>\n      <td>0</td>\n      <td>...</td>\n      <td>0</td>\n      <td>0</td>\n      <td>0</td>\n      <td>0</td>\n      <td>0</td>\n      <td>1</td>\n      <td>0</td>\n      <td>0</td>\n      <td>0</td>\n      <td>1</td>\n    </tr>\n    <tr>\n      <th>804</th>\n      <td>https://camping.ch/de/campingplatz/berner-mite...</td>\n      <td>https://seeland-camp.ch/preise/</td>\n      <td>47.162189</td>\n      <td>7.346157</td>\n      <td>0</td>\n      <td>0</td>\n      <td>1</td>\n      <td>0</td>\n      <td>0</td>\n      <td>1</td>\n      <td>...</td>\n      <td>0</td>\n      <td>0</td>\n      <td>0</td>\n      <td>0</td>\n      <td>0</td>\n      <td>1</td>\n      <td>0</td>\n      <td>0</td>\n      <td>0</td>\n      <td>1</td>\n    </tr>\n    <tr>\n      <th>805</th>\n      <td>https://camping.ch/de/campingplatz/berner-mite...</td>\n      <td>https://camping.ch/de/campingplatz/berner-mite...</td>\n      <td>46.785982</td>\n      <td>7.403469</td>\n      <td>0</td>\n      <td>0</td>\n      <td>1</td>\n      <td>0</td>\n      <td>0</td>\n      <td>1</td>\n      <td>...</td>\n      <td>0</td>\n      <td>0</td>\n      <td>0</td>\n      <td>0</td>\n      <td>0</td>\n      <td>1</td>\n      <td>0</td>\n      <td>0</td>\n      <td>1</td>\n      <td>2</td>\n    </tr>\n  </tbody>\n</table>\n<p>806 rows × 80 columns</p>\n</div>"
     },
     "execution_count": 34,
     "metadata": {},
     "output_type": "execute_result"
    }
   ],
   "source": [
    "df_camping_all"
   ],
   "metadata": {
    "collapsed": false
   }
  },
  {
   "cell_type": "code",
   "execution_count": 35,
   "outputs": [
    {
     "data": {
      "text/plain": "806"
     },
     "execution_count": 35,
     "metadata": {},
     "output_type": "execute_result"
    }
   ],
   "source": [
    "len(df_camping_all)"
   ],
   "metadata": {
    "collapsed": false
   }
  },
  {
   "cell_type": "code",
   "execution_count": 36,
   "outputs": [],
   "source": [
    "# Bearbeitete Daten als CSV speichern\n",
    "df_camping_all.to_csv('df_camping_all.csv', encoding='utf-8', index=False)"
   ],
   "metadata": {
    "collapsed": false
   }
  },
  {
   "cell_type": "code",
   "execution_count": 37,
   "outputs": [
    {
     "name": "stdout",
     "output_type": "stream",
     "text": [
      "<class 'pandas.core.frame.DataFrame'>\n",
      "RangeIndex: 806 entries, 0 to 805\n",
      "Data columns (total 80 columns):\n",
      " #   Column                          Non-Null Count  Dtype  \n",
      "---  ------                          --------------  -----  \n",
      " 0   URL                             806 non-null    object \n",
      " 1   Preisseite                      806 non-null    object \n",
      " 2   Latitude                        806 non-null    float64\n",
      " 3   Longitude                       806 non-null    float64\n",
      " 4   Stellplatz am Wasser            806 non-null    int32  \n",
      " 5   weiter Unterküfte               806 non-null    int32  \n",
      " 6   kleiner Platz (<80 m2)          806 non-null    int64  \n",
      " 7   mittlerer Platz  (~100 m2)      806 non-null    int64  \n",
      " 8   grosser Platz (>110 m2)         806 non-null    int64  \n",
      " 9   Hauptsaison                     806 non-null    int64  \n",
      " 10  Nebensaison                     806 non-null    int64  \n",
      " 11  Preis                           806 non-null    float64\n",
      " 12  Name                            806 non-null    object \n",
      " 13  Ortschaft                       806 non-null    object \n",
      " 14  Website                         204 non-null    object \n",
      " 15  Sternebewertung                 806 non-null    int64  \n",
      " 16  Aktivitäten                     806 non-null    int64  \n",
      " 17  Touristenstellplätze            806 non-null    float64\n",
      " 18  open (seasons 1)                806 non-null    object \n",
      " 19  open (seasons 2)                98 non-null     object \n",
      " 20  open (seasons 3)                68 non-null     object \n",
      " 21  open (seasons 4)                6 non-null      object \n",
      " 22  open (seasons 5)                2 non-null      object \n",
      " 23  open (seasons 6)                2 non-null      object \n",
      " 24  open (seasons 7)                0 non-null      float64\n",
      " 25  Sportplatz                      806 non-null    int64  \n",
      " 26  Golf                            806 non-null    int64  \n",
      " 27  Tennis                          806 non-null    int64  \n",
      " 28  Hallenbad                       806 non-null    int64  \n",
      " 29  Freibad                         806 non-null    int64  \n",
      " 30  Bademöglichkeit                 806 non-null    int64  \n",
      " 31  Babypool                        806 non-null    int64  \n",
      " 32  Bootsvermietung                 806 non-null    int64  \n",
      " 33  Fahrradvermietung               806 non-null    int64  \n",
      " 34  Unterhaltungsprogramm           806 non-null    int64  \n",
      " 35  Spielplatz                      806 non-null    int64  \n",
      " 36  Disco                           806 non-null    int64  \n",
      " 37  Wifi                            806 non-null    int64  \n",
      " 38  Aufenthaltsraum                 806 non-null    int64  \n",
      " 39  Informationsstelle              806 non-null    int64  \n",
      " 40  Behindertengerechter Zugang     806 non-null    int64  \n",
      " 41  Haustierfreundlichkeit          806 non-null    int64  \n",
      " 42  Gemeinschaftsküche              806 non-null    int64  \n",
      " 43  Grillplatz                      806 non-null    int64  \n",
      " 44  Restaurant                      806 non-null    int64  \n",
      " 45  Take away                       806 non-null    int64  \n",
      " 46  Laden mit einfachem Angebot     806 non-null    int64  \n",
      " 47  Kiosk                           806 non-null    int64  \n",
      " 48  Einkaufzentrum                  806 non-null    int64  \n",
      " 49  Laden mit reichem Angebot       806 non-null    int64  \n",
      " 50  Waschmaschine                   806 non-null    int64  \n",
      " 51  Trockner                        806 non-null    int64  \n",
      " 52  Wandern                         806 non-null    int64  \n",
      " 53  See mit Kies- oder Sandstrand   806 non-null    int64  \n",
      " 54  See mit Steinstrand             806 non-null    int64  \n",
      " 55  Fluss                           806 non-null    int64  \n",
      " 56  Bahnhof                         806 non-null    int64  \n",
      " 57  Busstation                      806 non-null    int64  \n",
      " 58  VSC membership                  806 non-null    int64  \n",
      " 59  TCS membership                  806 non-null    int64  \n",
      " 60  SCCV membership                 806 non-null    int64  \n",
      " 61  Öffnungszeit[Tage]              806 non-null    int64  \n",
      " 62  Öffnungszeit[%]                 806 non-null    float64\n",
      " 63  Region                          806 non-null    object \n",
      " 64  Region Berner-Mitelland         806 non-null    int32  \n",
      " 65  Region Berner-Oberland          806 non-null    int32  \n",
      " 66  Region Freiburg-Neuenburg-Jura  806 non-null    int32  \n",
      " 67  Region Graubuenden              806 non-null    int32  \n",
      " 68  Region Nordwestschweiz          806 non-null    int32  \n",
      " 69  Region Ostschweiz               806 non-null    int32  \n",
      " 70  Region Tessin                   806 non-null    int32  \n",
      " 71  Region Waadt-Genfersee          806 non-null    int32  \n",
      " 72  Region Wallis                   806 non-null    int32  \n",
      " 73  Region Zentralschweiz           806 non-null    int32  \n",
      " 74  Region Zuerich                  806 non-null    int32  \n",
      " 75  Waschmaschine und Trockner      806 non-null    int64  \n",
      " 76  Gastronomie                     806 non-null    int64  \n",
      " 77  Shop                            806 non-null    int64  \n",
      " 78  Strandzugang                    806 non-null    int64  \n",
      " 79  Mitgliedschaften                806 non-null    int64  \n",
      "dtypes: float64(6), int32(13), int64(49), object(12)\n",
      "memory usage: 462.9+ KB\n"
     ]
    }
   ],
   "source": [
    "df_camping_all.info()"
   ],
   "metadata": {
    "collapsed": false
   }
  },
  {
   "cell_type": "markdown",
   "source": [
    "### Aufbau verkürzter Tabelle"
   ],
   "metadata": {
    "collapsed": false
   }
  },
  {
   "cell_type": "code",
   "execution_count": 38,
   "outputs": [],
   "source": [
    "df_camping_clean =df_camping_all[['Name', 'Ortschaft', 'Latitude', 'Longitude',\n",
    "\n",
    "                              'Touristenstellplätze', 'weiter Unterküfte', 'kleiner Platz (<80 m2)', 'mittlerer Platz  (~100 m2)', 'grosser Platz (>110 m2)', 'Stellplatz am Wasser', 'Behindertengerechter Zugang', 'Haustierfreundlichkeit','Waschmaschine und Trockner', 'Aufenthaltsraum',\n",
    "\n",
    "                              'Gemeinschaftsküche', 'Grillplatz','Gastronomie', 'Shop',\n",
    "\n",
    "                              'Hallenbad', 'Freibad', 'Bademöglichkeit', 'Babypool', 'Sportplatz', 'Golf', 'Tennis', 'Disco', 'Wifi', 'Spielplatz', 'Unterhaltungsprogramm', 'Bootsvermietung', 'Fahrradvermietung',\n",
    "\n",
    "                              'Öffnungszeit[%]', 'Preis', 'Informationsstelle',\n",
    "\n",
    "                              'Sternebewertung', 'Mitgliedschaften',\n",
    "\n",
    "                              'Region', 'Region Berner-Mitelland', 'Region Berner-Oberland', 'Region Freiburg-Neuenburg-Jura', 'Region Graubuenden', 'Region Nordwestschweiz', 'Region Ostschweiz', 'Region Tessin', 'Region Waadt-Genfersee', 'Region Wallis', 'Region Zentralschweiz', 'Region Zuerich', 'Hauptsaison', 'Nebensaison',\n",
    "\n",
    "                              'Wandern', 'Strandzugang', 'Aktivitäten',\n",
    "\n",
    "                             'Bahnhof', 'Busstation',\n",
    "]]\n",
    "\n",
    "# Bearbeitete Daten als CSV speichern\n",
    "df_camping_clean.to_csv('df_camping_clean.csv', encoding='utf-8', index=False)"
   ],
   "metadata": {
    "collapsed": false
   }
  },
  {
   "cell_type": "code",
   "execution_count": 39,
   "outputs": [
    {
     "data": {
      "text/plain": "                         Name                      Ortschaft   Latitude  \\\n0              Camping Gravas          7078 Lenzerheide (GR)  46.722760   \n1              Camping Gravas          7078 Lenzerheide (GR)  46.722760   \n2              Camping Gravas          7078 Lenzerheide (GR)  46.722760   \n3              Camping Gravas          7078 Lenzerheide (GR)  46.722760   \n4         Camping St. Cassian  7083 Lenz b. Lenzerheide (GR)  46.698692   \n..                        ...                            ...        ...   \n801                 Lindenhof    ch-2572 Sutz-Lattrigen (BE)  47.093373   \n802                 Lindenhof    ch-2572 Sutz-Lattrigen (BE)  47.093373   \n803              Seeland Camp           2554 Meinisberg (BE)  47.162189   \n804              Seeland Camp           2554 Meinisberg (BE)  47.162189   \n805  Camping Rüschegg-Heubach     3154 Rüschegg-Heubach (BE)  46.785982   \n\n     Longitude  Touristenstellplätze  weiter Unterküfte  \\\n0     9.555440                  35.0                  1   \n1     9.555440                  35.0                  1   \n2     9.555440                  35.0                  1   \n3     9.555440                  35.0                  1   \n4     9.558404                  70.0                  1   \n..         ...                   ...                ...   \n801   7.210469                  50.0                  0   \n802   7.210469                  50.0                  0   \n803   7.346157                  25.0                  0   \n804   7.346157                  25.0                  0   \n805   7.403469                  20.0                  0   \n\n     kleiner Platz (<80 m2)  mittlerer Platz  (~100 m2)  \\\n0                         1                           0   \n1                         0                           1   \n2                         1                           0   \n3                         0                           1   \n4                         1                           0   \n..                      ...                         ...   \n801                       1                           0   \n802                       0                           1   \n803                       1                           0   \n804                       1                           0   \n805                       1                           0   \n\n     grosser Platz (>110 m2)  Stellplatz am Wasser  ...  Region Wallis  \\\n0                          0                     0  ...              0   \n1                          0                     0  ...              0   \n2                          0                     0  ...              0   \n3                          0                     0  ...              0   \n4                          0                     0  ...              0   \n..                       ...                   ...  ...            ...   \n801                        0                     0  ...              0   \n802                        0                     0  ...              0   \n803                        0                     0  ...              0   \n804                        0                     0  ...              0   \n805                        0                     0  ...              0   \n\n     Region Zentralschweiz  Region Zuerich  Hauptsaison  Nebensaison  Wandern  \\\n0                        0               0            1            0        1   \n1                        0               0            1            0        1   \n2                        0               0            0            1        1   \n3                        0               0            0            1        1   \n4                        0               0            1            0        1   \n..                     ...             ...          ...          ...      ...   \n801                      0               0            1            1        0   \n802                      0               0            1            1        0   \n803                      0               0            0            1        0   \n804                      0               0            1            0        0   \n805                      0               0            1            1        1   \n\n     Strandzugang  Aktivitäten  Bahnhof  Busstation  \n0               1            8        0           1  \n1               1            8        0           1  \n2               1            8        0           1  \n3               1            8        0           1  \n4               0            7        1           1  \n..            ...          ...      ...         ...  \n801             1            7        0           0  \n802             1            7        0           0  \n803             0            5        1           1  \n804             0            5        1           1  \n805             1            0        0           1  \n\n[806 rows x 55 columns]",
      "text/html": "<div>\n<style scoped>\n    .dataframe tbody tr th:only-of-type {\n        vertical-align: middle;\n    }\n\n    .dataframe tbody tr th {\n        vertical-align: top;\n    }\n\n    .dataframe thead th {\n        text-align: right;\n    }\n</style>\n<table border=\"1\" class=\"dataframe\">\n  <thead>\n    <tr style=\"text-align: right;\">\n      <th></th>\n      <th>Name</th>\n      <th>Ortschaft</th>\n      <th>Latitude</th>\n      <th>Longitude</th>\n      <th>Touristenstellplätze</th>\n      <th>weiter Unterküfte</th>\n      <th>kleiner Platz (&lt;80 m2)</th>\n      <th>mittlerer Platz  (~100 m2)</th>\n      <th>grosser Platz (&gt;110 m2)</th>\n      <th>Stellplatz am Wasser</th>\n      <th>...</th>\n      <th>Region Wallis</th>\n      <th>Region Zentralschweiz</th>\n      <th>Region Zuerich</th>\n      <th>Hauptsaison</th>\n      <th>Nebensaison</th>\n      <th>Wandern</th>\n      <th>Strandzugang</th>\n      <th>Aktivitäten</th>\n      <th>Bahnhof</th>\n      <th>Busstation</th>\n    </tr>\n  </thead>\n  <tbody>\n    <tr>\n      <th>0</th>\n      <td>Camping Gravas</td>\n      <td>7078 Lenzerheide (GR)</td>\n      <td>46.722760</td>\n      <td>9.555440</td>\n      <td>35.0</td>\n      <td>1</td>\n      <td>1</td>\n      <td>0</td>\n      <td>0</td>\n      <td>0</td>\n      <td>...</td>\n      <td>0</td>\n      <td>0</td>\n      <td>0</td>\n      <td>1</td>\n      <td>0</td>\n      <td>1</td>\n      <td>1</td>\n      <td>8</td>\n      <td>0</td>\n      <td>1</td>\n    </tr>\n    <tr>\n      <th>1</th>\n      <td>Camping Gravas</td>\n      <td>7078 Lenzerheide (GR)</td>\n      <td>46.722760</td>\n      <td>9.555440</td>\n      <td>35.0</td>\n      <td>1</td>\n      <td>0</td>\n      <td>1</td>\n      <td>0</td>\n      <td>0</td>\n      <td>...</td>\n      <td>0</td>\n      <td>0</td>\n      <td>0</td>\n      <td>1</td>\n      <td>0</td>\n      <td>1</td>\n      <td>1</td>\n      <td>8</td>\n      <td>0</td>\n      <td>1</td>\n    </tr>\n    <tr>\n      <th>2</th>\n      <td>Camping Gravas</td>\n      <td>7078 Lenzerheide (GR)</td>\n      <td>46.722760</td>\n      <td>9.555440</td>\n      <td>35.0</td>\n      <td>1</td>\n      <td>1</td>\n      <td>0</td>\n      <td>0</td>\n      <td>0</td>\n      <td>...</td>\n      <td>0</td>\n      <td>0</td>\n      <td>0</td>\n      <td>0</td>\n      <td>1</td>\n      <td>1</td>\n      <td>1</td>\n      <td>8</td>\n      <td>0</td>\n      <td>1</td>\n    </tr>\n    <tr>\n      <th>3</th>\n      <td>Camping Gravas</td>\n      <td>7078 Lenzerheide (GR)</td>\n      <td>46.722760</td>\n      <td>9.555440</td>\n      <td>35.0</td>\n      <td>1</td>\n      <td>0</td>\n      <td>1</td>\n      <td>0</td>\n      <td>0</td>\n      <td>...</td>\n      <td>0</td>\n      <td>0</td>\n      <td>0</td>\n      <td>0</td>\n      <td>1</td>\n      <td>1</td>\n      <td>1</td>\n      <td>8</td>\n      <td>0</td>\n      <td>1</td>\n    </tr>\n    <tr>\n      <th>4</th>\n      <td>Camping St. Cassian</td>\n      <td>7083 Lenz b. Lenzerheide (GR)</td>\n      <td>46.698692</td>\n      <td>9.558404</td>\n      <td>70.0</td>\n      <td>1</td>\n      <td>1</td>\n      <td>0</td>\n      <td>0</td>\n      <td>0</td>\n      <td>...</td>\n      <td>0</td>\n      <td>0</td>\n      <td>0</td>\n      <td>1</td>\n      <td>0</td>\n      <td>1</td>\n      <td>0</td>\n      <td>7</td>\n      <td>1</td>\n      <td>1</td>\n    </tr>\n    <tr>\n      <th>...</th>\n      <td>...</td>\n      <td>...</td>\n      <td>...</td>\n      <td>...</td>\n      <td>...</td>\n      <td>...</td>\n      <td>...</td>\n      <td>...</td>\n      <td>...</td>\n      <td>...</td>\n      <td>...</td>\n      <td>...</td>\n      <td>...</td>\n      <td>...</td>\n      <td>...</td>\n      <td>...</td>\n      <td>...</td>\n      <td>...</td>\n      <td>...</td>\n      <td>...</td>\n      <td>...</td>\n    </tr>\n    <tr>\n      <th>801</th>\n      <td>Lindenhof</td>\n      <td>ch-2572 Sutz-Lattrigen (BE)</td>\n      <td>47.093373</td>\n      <td>7.210469</td>\n      <td>50.0</td>\n      <td>0</td>\n      <td>1</td>\n      <td>0</td>\n      <td>0</td>\n      <td>0</td>\n      <td>...</td>\n      <td>0</td>\n      <td>0</td>\n      <td>0</td>\n      <td>1</td>\n      <td>1</td>\n      <td>0</td>\n      <td>1</td>\n      <td>7</td>\n      <td>0</td>\n      <td>0</td>\n    </tr>\n    <tr>\n      <th>802</th>\n      <td>Lindenhof</td>\n      <td>ch-2572 Sutz-Lattrigen (BE)</td>\n      <td>47.093373</td>\n      <td>7.210469</td>\n      <td>50.0</td>\n      <td>0</td>\n      <td>0</td>\n      <td>1</td>\n      <td>0</td>\n      <td>0</td>\n      <td>...</td>\n      <td>0</td>\n      <td>0</td>\n      <td>0</td>\n      <td>1</td>\n      <td>1</td>\n      <td>0</td>\n      <td>1</td>\n      <td>7</td>\n      <td>0</td>\n      <td>0</td>\n    </tr>\n    <tr>\n      <th>803</th>\n      <td>Seeland Camp</td>\n      <td>2554 Meinisberg (BE)</td>\n      <td>47.162189</td>\n      <td>7.346157</td>\n      <td>25.0</td>\n      <td>0</td>\n      <td>1</td>\n      <td>0</td>\n      <td>0</td>\n      <td>0</td>\n      <td>...</td>\n      <td>0</td>\n      <td>0</td>\n      <td>0</td>\n      <td>0</td>\n      <td>1</td>\n      <td>0</td>\n      <td>0</td>\n      <td>5</td>\n      <td>1</td>\n      <td>1</td>\n    </tr>\n    <tr>\n      <th>804</th>\n      <td>Seeland Camp</td>\n      <td>2554 Meinisberg (BE)</td>\n      <td>47.162189</td>\n      <td>7.346157</td>\n      <td>25.0</td>\n      <td>0</td>\n      <td>1</td>\n      <td>0</td>\n      <td>0</td>\n      <td>0</td>\n      <td>...</td>\n      <td>0</td>\n      <td>0</td>\n      <td>0</td>\n      <td>1</td>\n      <td>0</td>\n      <td>0</td>\n      <td>0</td>\n      <td>5</td>\n      <td>1</td>\n      <td>1</td>\n    </tr>\n    <tr>\n      <th>805</th>\n      <td>Camping Rüschegg-Heubach</td>\n      <td>3154 Rüschegg-Heubach (BE)</td>\n      <td>46.785982</td>\n      <td>7.403469</td>\n      <td>20.0</td>\n      <td>0</td>\n      <td>1</td>\n      <td>0</td>\n      <td>0</td>\n      <td>0</td>\n      <td>...</td>\n      <td>0</td>\n      <td>0</td>\n      <td>0</td>\n      <td>1</td>\n      <td>1</td>\n      <td>1</td>\n      <td>1</td>\n      <td>0</td>\n      <td>0</td>\n      <td>1</td>\n    </tr>\n  </tbody>\n</table>\n<p>806 rows × 55 columns</p>\n</div>"
     },
     "execution_count": 39,
     "metadata": {},
     "output_type": "execute_result"
    }
   ],
   "source": [
    "df_camping_clean"
   ],
   "metadata": {
    "collapsed": false
   }
  },
  {
   "cell_type": "code",
   "execution_count": 40,
   "outputs": [
    {
     "data": {
      "text/plain": "         Latitude   Longitude  Touristenstellplätze  weiter Unterküfte  \\\ncount  806.000000  806.000000            806.000000         806.000000   \nmean    46.724862    8.181932             85.857320           0.537221   \nstd      0.443905    0.953353             76.509364           0.498922   \nmin     45.889168    6.000111              5.000000           0.000000   \n25%     46.359981    7.415311             40.000000           0.000000   \n50%     46.707403    8.190106             68.000000           1.000000   \n75%     47.011308    8.855800            127.000000           1.000000   \nmax     47.685882   10.449307            583.000000           1.000000   \n\n       kleiner Platz (<80 m2)  mittlerer Platz  (~100 m2)  \\\ncount              806.000000                  806.000000   \nmean                 0.626551                    0.316377   \nstd                  0.484020                    0.465351   \nmin                  0.000000                    0.000000   \n25%                  0.000000                    0.000000   \n50%                  1.000000                    0.000000   \n75%                  1.000000                    1.000000   \nmax                  1.000000                    1.000000   \n\n       grosser Platz (>110 m2)  Stellplatz am Wasser  \\\ncount               806.000000            806.000000   \nmean                  0.057072              0.094293   \nstd                   0.232124              0.292417   \nmin                   0.000000              0.000000   \n25%                   0.000000              0.000000   \n50%                   0.000000              0.000000   \n75%                   0.000000              0.000000   \nmax                   1.000000              1.000000   \n\n       Behindertengerechter Zugang  Haustierfreundlichkeit  ...  \\\ncount                   806.000000              806.000000  ...   \nmean                      0.316377                0.559553  ...   \nstd                       0.465351                0.496749  ...   \nmin                       0.000000                0.000000  ...   \n25%                       0.000000                0.000000  ...   \n50%                       0.000000                1.000000  ...   \n75%                       1.000000                1.000000  ...   \nmax                       1.000000                1.000000  ...   \n\n       Region Wallis  Region Zentralschweiz  Region Zuerich  Hauptsaison  \\\ncount     806.000000             806.000000      806.000000   806.000000   \nmean        0.098015               0.109181        0.038462     0.635236   \nstd         0.297519               0.312060        0.192427     0.481663   \nmin         0.000000               0.000000        0.000000     0.000000   \n25%         0.000000               0.000000        0.000000     0.000000   \n50%         0.000000               0.000000        0.000000     1.000000   \n75%         0.000000               0.000000        0.000000     1.000000   \nmax         1.000000               1.000000        1.000000     1.000000   \n\n       Nebensaison     Wandern  Strandzugang  Aktivitäten     Bahnhof  \\\ncount   806.000000  806.000000    806.000000   806.000000  806.000000   \nmean      0.619107    0.730769      0.776675     7.380893    0.681141   \nstd       0.485908    0.443836      0.416733     3.646161    0.466323   \nmin       0.000000    0.000000      0.000000     0.000000    0.000000   \n25%       0.000000    0.000000      1.000000     4.000000    0.000000   \n50%       1.000000    1.000000      1.000000     8.000000    1.000000   \n75%       1.000000    1.000000      1.000000    11.000000    1.000000   \nmax       1.000000    1.000000      1.000000    11.000000    1.000000   \n\n       Busstation  \ncount  806.000000  \nmean     0.861042  \nstd      0.346117  \nmin      0.000000  \n25%      1.000000  \n50%      1.000000  \n75%      1.000000  \nmax      1.000000  \n\n[8 rows x 52 columns]",
      "text/html": "<div>\n<style scoped>\n    .dataframe tbody tr th:only-of-type {\n        vertical-align: middle;\n    }\n\n    .dataframe tbody tr th {\n        vertical-align: top;\n    }\n\n    .dataframe thead th {\n        text-align: right;\n    }\n</style>\n<table border=\"1\" class=\"dataframe\">\n  <thead>\n    <tr style=\"text-align: right;\">\n      <th></th>\n      <th>Latitude</th>\n      <th>Longitude</th>\n      <th>Touristenstellplätze</th>\n      <th>weiter Unterküfte</th>\n      <th>kleiner Platz (&lt;80 m2)</th>\n      <th>mittlerer Platz  (~100 m2)</th>\n      <th>grosser Platz (&gt;110 m2)</th>\n      <th>Stellplatz am Wasser</th>\n      <th>Behindertengerechter Zugang</th>\n      <th>Haustierfreundlichkeit</th>\n      <th>...</th>\n      <th>Region Wallis</th>\n      <th>Region Zentralschweiz</th>\n      <th>Region Zuerich</th>\n      <th>Hauptsaison</th>\n      <th>Nebensaison</th>\n      <th>Wandern</th>\n      <th>Strandzugang</th>\n      <th>Aktivitäten</th>\n      <th>Bahnhof</th>\n      <th>Busstation</th>\n    </tr>\n  </thead>\n  <tbody>\n    <tr>\n      <th>count</th>\n      <td>806.000000</td>\n      <td>806.000000</td>\n      <td>806.000000</td>\n      <td>806.000000</td>\n      <td>806.000000</td>\n      <td>806.000000</td>\n      <td>806.000000</td>\n      <td>806.000000</td>\n      <td>806.000000</td>\n      <td>806.000000</td>\n      <td>...</td>\n      <td>806.000000</td>\n      <td>806.000000</td>\n      <td>806.000000</td>\n      <td>806.000000</td>\n      <td>806.000000</td>\n      <td>806.000000</td>\n      <td>806.000000</td>\n      <td>806.000000</td>\n      <td>806.000000</td>\n      <td>806.000000</td>\n    </tr>\n    <tr>\n      <th>mean</th>\n      <td>46.724862</td>\n      <td>8.181932</td>\n      <td>85.857320</td>\n      <td>0.537221</td>\n      <td>0.626551</td>\n      <td>0.316377</td>\n      <td>0.057072</td>\n      <td>0.094293</td>\n      <td>0.316377</td>\n      <td>0.559553</td>\n      <td>...</td>\n      <td>0.098015</td>\n      <td>0.109181</td>\n      <td>0.038462</td>\n      <td>0.635236</td>\n      <td>0.619107</td>\n      <td>0.730769</td>\n      <td>0.776675</td>\n      <td>7.380893</td>\n      <td>0.681141</td>\n      <td>0.861042</td>\n    </tr>\n    <tr>\n      <th>std</th>\n      <td>0.443905</td>\n      <td>0.953353</td>\n      <td>76.509364</td>\n      <td>0.498922</td>\n      <td>0.484020</td>\n      <td>0.465351</td>\n      <td>0.232124</td>\n      <td>0.292417</td>\n      <td>0.465351</td>\n      <td>0.496749</td>\n      <td>...</td>\n      <td>0.297519</td>\n      <td>0.312060</td>\n      <td>0.192427</td>\n      <td>0.481663</td>\n      <td>0.485908</td>\n      <td>0.443836</td>\n      <td>0.416733</td>\n      <td>3.646161</td>\n      <td>0.466323</td>\n      <td>0.346117</td>\n    </tr>\n    <tr>\n      <th>min</th>\n      <td>45.889168</td>\n      <td>6.000111</td>\n      <td>5.000000</td>\n      <td>0.000000</td>\n      <td>0.000000</td>\n      <td>0.000000</td>\n      <td>0.000000</td>\n      <td>0.000000</td>\n      <td>0.000000</td>\n      <td>0.000000</td>\n      <td>...</td>\n      <td>0.000000</td>\n      <td>0.000000</td>\n      <td>0.000000</td>\n      <td>0.000000</td>\n      <td>0.000000</td>\n      <td>0.000000</td>\n      <td>0.000000</td>\n      <td>0.000000</td>\n      <td>0.000000</td>\n      <td>0.000000</td>\n    </tr>\n    <tr>\n      <th>25%</th>\n      <td>46.359981</td>\n      <td>7.415311</td>\n      <td>40.000000</td>\n      <td>0.000000</td>\n      <td>0.000000</td>\n      <td>0.000000</td>\n      <td>0.000000</td>\n      <td>0.000000</td>\n      <td>0.000000</td>\n      <td>0.000000</td>\n      <td>...</td>\n      <td>0.000000</td>\n      <td>0.000000</td>\n      <td>0.000000</td>\n      <td>0.000000</td>\n      <td>0.000000</td>\n      <td>0.000000</td>\n      <td>1.000000</td>\n      <td>4.000000</td>\n      <td>0.000000</td>\n      <td>1.000000</td>\n    </tr>\n    <tr>\n      <th>50%</th>\n      <td>46.707403</td>\n      <td>8.190106</td>\n      <td>68.000000</td>\n      <td>1.000000</td>\n      <td>1.000000</td>\n      <td>0.000000</td>\n      <td>0.000000</td>\n      <td>0.000000</td>\n      <td>0.000000</td>\n      <td>1.000000</td>\n      <td>...</td>\n      <td>0.000000</td>\n      <td>0.000000</td>\n      <td>0.000000</td>\n      <td>1.000000</td>\n      <td>1.000000</td>\n      <td>1.000000</td>\n      <td>1.000000</td>\n      <td>8.000000</td>\n      <td>1.000000</td>\n      <td>1.000000</td>\n    </tr>\n    <tr>\n      <th>75%</th>\n      <td>47.011308</td>\n      <td>8.855800</td>\n      <td>127.000000</td>\n      <td>1.000000</td>\n      <td>1.000000</td>\n      <td>1.000000</td>\n      <td>0.000000</td>\n      <td>0.000000</td>\n      <td>1.000000</td>\n      <td>1.000000</td>\n      <td>...</td>\n      <td>0.000000</td>\n      <td>0.000000</td>\n      <td>0.000000</td>\n      <td>1.000000</td>\n      <td>1.000000</td>\n      <td>1.000000</td>\n      <td>1.000000</td>\n      <td>11.000000</td>\n      <td>1.000000</td>\n      <td>1.000000</td>\n    </tr>\n    <tr>\n      <th>max</th>\n      <td>47.685882</td>\n      <td>10.449307</td>\n      <td>583.000000</td>\n      <td>1.000000</td>\n      <td>1.000000</td>\n      <td>1.000000</td>\n      <td>1.000000</td>\n      <td>1.000000</td>\n      <td>1.000000</td>\n      <td>1.000000</td>\n      <td>...</td>\n      <td>1.000000</td>\n      <td>1.000000</td>\n      <td>1.000000</td>\n      <td>1.000000</td>\n      <td>1.000000</td>\n      <td>1.000000</td>\n      <td>1.000000</td>\n      <td>11.000000</td>\n      <td>1.000000</td>\n      <td>1.000000</td>\n    </tr>\n  </tbody>\n</table>\n<p>8 rows × 52 columns</p>\n</div>"
     },
     "execution_count": 40,
     "metadata": {},
     "output_type": "execute_result"
    }
   ],
   "source": [
    "df_camping_clean.describe()"
   ],
   "metadata": {
    "collapsed": false
   }
  }
 ],
 "metadata": {
  "kernelspec": {
   "display_name": "Python 3",
   "language": "python",
   "name": "python3"
  },
  "language_info": {
   "codemirror_mode": {
    "name": "ipython",
    "version": 2
   },
   "file_extension": ".py",
   "mimetype": "text/x-python",
   "name": "python",
   "nbconvert_exporter": "python",
   "pygments_lexer": "ipython2",
   "version": "2.7.6"
  }
 },
 "nbformat": 4,
 "nbformat_minor": 0
}
