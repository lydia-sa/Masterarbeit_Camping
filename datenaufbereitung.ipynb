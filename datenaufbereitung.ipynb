{
 "cells": [
  {
   "cell_type": "code",
   "execution_count": 1,
   "outputs": [],
   "source": [
    "import pandas as pd\n",
    "import matplotlib.pyplot as plt"
   ],
   "metadata": {
    "collapsed": false
   }
  },
  {
   "cell_type": "code",
   "execution_count": 143,
   "outputs": [],
   "source": [
    "color_palette = {\n",
    "    'region': ['region_berner-mitelland', 'region_berner-oberland', 'region_freiburg-neuenburg-jura', 'region_graubuenden', 'region_nordwestschweiz', 'region_ostschweiz', 'region_tessin', 'region_waadt-genfersee', 'region_wallis', 'region_zentralschweiz', 'region_zuerich'],\n",
    "    'color': ['#5188AD', '#E9D797', '#CAA2C0' , '#8B76B4', '#EEA760', '#E26D64', '#B65278', '#A6CAEC', '#619589', '#AC9186', '#809668']\n",
    "}\n"
   ],
   "metadata": {
    "collapsed": false
   }
  },
  {
   "cell_type": "markdown",
   "source": [
    "# Daten camping.ch\n",
    "### Import"
   ],
   "metadata": {
    "collapsed": false
   }
  },
  {
   "cell_type": "code",
   "execution_count": 107,
   "outputs": [
    {
     "data": {
      "text/plain": "                                                 url  \\\n0  https://camping.ch/de/campingplatz/graubuenden...   \n1  https://camping.ch/de/campingplatz/ostschweiz/...   \n2  https://camping.ch/de/campingplatz/freiburg-ne...   \n3  https://camping.ch/de/campingplatz/graubuenden...   \n4  https://camping.ch/de/campingplatz/wallis/evol...   \n\n                          name                 locality              website  \\\n0                        Islas        7477 Filisur (GR)  www.campingislas.ch   \n1  Stellplatz Allmend Rheintal     9450 Altstätten (SG)                  NaN   \n2          Camping de la Forêt         1642 Sorens (FR)                  NaN   \n3                Sur En / Sent  7554 Sur En / Sent (GR)                  NaN   \n4                      Evolène        1983 Evolène (VS)                  NaN   \n\n   star category  activities  tourist pitches         open (seasons 1)  \\\n0              3           3             50.0  01.04.2024 − 31.10.2024   \n1              0           7              NaN  01.01.2024 − 31.12.2024   \n2              4           4             50.0  15.04.2024 − 15.10.2024   \n3              4           4            120.0  01.01.2024 − 31.12.2024   \n4              3           1             65.0  15.05.2024 − 15.10.2024   \n\n  open (seasons 2) open (seasons 3)  ... laundry dryer / tumble dryer hiking  \\\n0              NaN              NaN  ...                            1      1   \n1              NaN              NaN  ...                            0      1   \n2              NaN              NaN  ...                            1      1   \n3              NaN              NaN  ...                            0      1   \n4              NaN              NaN  ...                            1      1   \n\n  lake with sandy beach  lake with stony beach  river  train station  bus  \\\n0                     0                      0      0              1    0   \n1                     0                      0      0              0    0   \n2                     0                      0      0              0    1   \n3                     0                      0      1              1    1   \n4                     0                      0      0              0    1   \n\n   VSC membership  TCS membership  SCCV membership  \n0               1               0                1  \n1               0               0                0  \n2               1               0                0  \n3               1               0                0  \n4               0               0                0  \n\n[5 rows x 50 columns]",
      "text/html": "<div>\n<style scoped>\n    .dataframe tbody tr th:only-of-type {\n        vertical-align: middle;\n    }\n\n    .dataframe tbody tr th {\n        vertical-align: top;\n    }\n\n    .dataframe thead th {\n        text-align: right;\n    }\n</style>\n<table border=\"1\" class=\"dataframe\">\n  <thead>\n    <tr style=\"text-align: right;\">\n      <th></th>\n      <th>url</th>\n      <th>name</th>\n      <th>locality</th>\n      <th>website</th>\n      <th>star category</th>\n      <th>activities</th>\n      <th>tourist pitches</th>\n      <th>open (seasons 1)</th>\n      <th>open (seasons 2)</th>\n      <th>open (seasons 3)</th>\n      <th>...</th>\n      <th>laundry dryer / tumble dryer</th>\n      <th>hiking</th>\n      <th>lake with sandy beach</th>\n      <th>lake with stony beach</th>\n      <th>river</th>\n      <th>train station</th>\n      <th>bus</th>\n      <th>VSC membership</th>\n      <th>TCS membership</th>\n      <th>SCCV membership</th>\n    </tr>\n  </thead>\n  <tbody>\n    <tr>\n      <th>0</th>\n      <td>https://camping.ch/de/campingplatz/graubuenden...</td>\n      <td>Islas</td>\n      <td>7477 Filisur (GR)</td>\n      <td>www.campingislas.ch</td>\n      <td>3</td>\n      <td>3</td>\n      <td>50.0</td>\n      <td>01.04.2024 − 31.10.2024</td>\n      <td>NaN</td>\n      <td>NaN</td>\n      <td>...</td>\n      <td>1</td>\n      <td>1</td>\n      <td>0</td>\n      <td>0</td>\n      <td>0</td>\n      <td>1</td>\n      <td>0</td>\n      <td>1</td>\n      <td>0</td>\n      <td>1</td>\n    </tr>\n    <tr>\n      <th>1</th>\n      <td>https://camping.ch/de/campingplatz/ostschweiz/...</td>\n      <td>Stellplatz Allmend Rheintal</td>\n      <td>9450 Altstätten (SG)</td>\n      <td>NaN</td>\n      <td>0</td>\n      <td>7</td>\n      <td>NaN</td>\n      <td>01.01.2024 − 31.12.2024</td>\n      <td>NaN</td>\n      <td>NaN</td>\n      <td>...</td>\n      <td>0</td>\n      <td>1</td>\n      <td>0</td>\n      <td>0</td>\n      <td>0</td>\n      <td>0</td>\n      <td>0</td>\n      <td>0</td>\n      <td>0</td>\n      <td>0</td>\n    </tr>\n    <tr>\n      <th>2</th>\n      <td>https://camping.ch/de/campingplatz/freiburg-ne...</td>\n      <td>Camping de la Forêt</td>\n      <td>1642 Sorens (FR)</td>\n      <td>NaN</td>\n      <td>4</td>\n      <td>4</td>\n      <td>50.0</td>\n      <td>15.04.2024 − 15.10.2024</td>\n      <td>NaN</td>\n      <td>NaN</td>\n      <td>...</td>\n      <td>1</td>\n      <td>1</td>\n      <td>0</td>\n      <td>0</td>\n      <td>0</td>\n      <td>0</td>\n      <td>1</td>\n      <td>1</td>\n      <td>0</td>\n      <td>0</td>\n    </tr>\n    <tr>\n      <th>3</th>\n      <td>https://camping.ch/de/campingplatz/graubuenden...</td>\n      <td>Sur En / Sent</td>\n      <td>7554 Sur En / Sent (GR)</td>\n      <td>NaN</td>\n      <td>4</td>\n      <td>4</td>\n      <td>120.0</td>\n      <td>01.01.2024 − 31.12.2024</td>\n      <td>NaN</td>\n      <td>NaN</td>\n      <td>...</td>\n      <td>0</td>\n      <td>1</td>\n      <td>0</td>\n      <td>0</td>\n      <td>1</td>\n      <td>1</td>\n      <td>1</td>\n      <td>1</td>\n      <td>0</td>\n      <td>0</td>\n    </tr>\n    <tr>\n      <th>4</th>\n      <td>https://camping.ch/de/campingplatz/wallis/evol...</td>\n      <td>Evolène</td>\n      <td>1983 Evolène (VS)</td>\n      <td>NaN</td>\n      <td>3</td>\n      <td>1</td>\n      <td>65.0</td>\n      <td>15.05.2024 − 15.10.2024</td>\n      <td>NaN</td>\n      <td>NaN</td>\n      <td>...</td>\n      <td>1</td>\n      <td>1</td>\n      <td>0</td>\n      <td>0</td>\n      <td>0</td>\n      <td>0</td>\n      <td>1</td>\n      <td>0</td>\n      <td>0</td>\n      <td>0</td>\n    </tr>\n  </tbody>\n</table>\n<p>5 rows × 50 columns</p>\n</div>"
     },
     "execution_count": 107,
     "metadata": {},
     "output_type": "execute_result"
    }
   ],
   "source": [
    "df_camping = pd.read_csv('campingspider/camping.csv', encoding='utf-8')\n",
    "df_camping.head()"
   ],
   "metadata": {
    "collapsed": false
   }
  },
  {
   "cell_type": "markdown",
   "source": [
    "### Ersetzen von falschen Stellplatz-Werten"
   ],
   "metadata": {
    "collapsed": false
   }
  },
  {
   "cell_type": "code",
   "execution_count": 108,
   "outputs": [
    {
     "data": {
      "text/plain": "                                                   url  tourist pitches\n1    https://camping.ch/de/campingplatz/ostschweiz/...              NaN\n14   https://camping.ch/de/campingplatz/ostschweiz/...              3.0\n15   https://camping.ch/de/campingplatz/wallis/semb...              0.0\n19   https://camping.ch/de/campingplatz/berner-ober...              7.0\n46   https://camping.ch/de/campingplatz/zentralschw...              8.0\n47   https://camping.ch/de/campingplatz/zentralschw...             10.0\n49   https://camping.ch/de/campingplatz/waadt-genfe...              NaN\n63   https://camping.ch/de/campingplatz/zentralschw...              NaN\n90   https://camping.ch/de/campingplatz/tessin/mont...              NaN\n100  https://camping.ch/de/campingplatz/freiburg-ne...              9.0\n106  https://camping.ch/de/campingplatz/freiburg-ne...              0.0\n122  https://camping.ch/de/campingplatz/zentralschw...             10.0\n129  https://camping.ch/de/campingplatz/zentralschw...             10.0\n131  https://camping.ch/de/campingplatz/berner-ober...              1.0\n145  https://camping.ch/de/campingplatz/zentralschw...              5.0\n151  https://camping.ch/de/campingplatz/wallis/ritz...              NaN\n166  https://camping.ch/de/campingplatz/zentralschw...              5.0\n170  https://camping.ch/de/campingplatz/ostschweiz/...              NaN\n176  https://camping.ch/de/campingplatz/zentralschw...              6.0\n188  https://camping.ch/de/campingplatz/zentralschw...              NaN\n216  https://camping.ch/de/campingplatz/zuerich/wil...              7.0\n220  https://camping.ch/de/campingplatz/freiburg-ne...              8.0\n223  https://camping.ch/de/campingplatz/freiburg-ne...              5.0\n234  https://camping.ch/de/campingplatz/freiburg-ne...              0.0\n247  https://camping.ch/de/campingplatz/nordwestsch...             10.0\n259  https://camping.ch/de/campingplatz/wallis/gran...              0.0\n271  https://camping.ch/de/campingplatz/ostschweiz/...             10.0\n276  https://camping.ch/de/campingplatz/zuerich/kle...             10.0\n288  https://camping.ch/de/campingplatz/berner-ober...             10.0\n290  https://camping.ch/de/campingplatz/waadt-genfe...             10.0\n297  https://camping.ch/de/campingplatz/zentralschw...              NaN\n312  https://camping.ch/de/campingplatz/nordwestsch...             10.0\n318  https://camping.ch/de/campingplatz/zentralschw...             10.0\n325  https://camping.ch/de/campingplatz/berner-ober...             10.0\n329  https://camping.ch/de/campingplatz/berner-ober...              4.0\n333  https://camping.ch/de/campingplatz/graubuenden...              6.0\n337  https://camping.ch/de/campingplatz/wallis/morg...              5.0\n339  https://camping.ch/de/campingplatz/ostschweiz/...              0.0\n340  https://camping.ch/de/campingplatz/berner-mite...              0.0\n353  https://camping.ch/de/campingplatz/ostschweiz/...              0.0\n354  https://camping.ch/de/campingplatz/nordwestsch...              0.0\n363  https://camping.ch/de/campingplatz/graubuenden...             10.0\n371  https://camping.ch/de/campingplatz/berner-mite...              0.0",
      "text/html": "<div>\n<style scoped>\n    .dataframe tbody tr th:only-of-type {\n        vertical-align: middle;\n    }\n\n    .dataframe tbody tr th {\n        vertical-align: top;\n    }\n\n    .dataframe thead th {\n        text-align: right;\n    }\n</style>\n<table border=\"1\" class=\"dataframe\">\n  <thead>\n    <tr style=\"text-align: right;\">\n      <th></th>\n      <th>url</th>\n      <th>tourist pitches</th>\n    </tr>\n  </thead>\n  <tbody>\n    <tr>\n      <th>1</th>\n      <td>https://camping.ch/de/campingplatz/ostschweiz/...</td>\n      <td>NaN</td>\n    </tr>\n    <tr>\n      <th>14</th>\n      <td>https://camping.ch/de/campingplatz/ostschweiz/...</td>\n      <td>3.0</td>\n    </tr>\n    <tr>\n      <th>15</th>\n      <td>https://camping.ch/de/campingplatz/wallis/semb...</td>\n      <td>0.0</td>\n    </tr>\n    <tr>\n      <th>19</th>\n      <td>https://camping.ch/de/campingplatz/berner-ober...</td>\n      <td>7.0</td>\n    </tr>\n    <tr>\n      <th>46</th>\n      <td>https://camping.ch/de/campingplatz/zentralschw...</td>\n      <td>8.0</td>\n    </tr>\n    <tr>\n      <th>47</th>\n      <td>https://camping.ch/de/campingplatz/zentralschw...</td>\n      <td>10.0</td>\n    </tr>\n    <tr>\n      <th>49</th>\n      <td>https://camping.ch/de/campingplatz/waadt-genfe...</td>\n      <td>NaN</td>\n    </tr>\n    <tr>\n      <th>63</th>\n      <td>https://camping.ch/de/campingplatz/zentralschw...</td>\n      <td>NaN</td>\n    </tr>\n    <tr>\n      <th>90</th>\n      <td>https://camping.ch/de/campingplatz/tessin/mont...</td>\n      <td>NaN</td>\n    </tr>\n    <tr>\n      <th>100</th>\n      <td>https://camping.ch/de/campingplatz/freiburg-ne...</td>\n      <td>9.0</td>\n    </tr>\n    <tr>\n      <th>106</th>\n      <td>https://camping.ch/de/campingplatz/freiburg-ne...</td>\n      <td>0.0</td>\n    </tr>\n    <tr>\n      <th>122</th>\n      <td>https://camping.ch/de/campingplatz/zentralschw...</td>\n      <td>10.0</td>\n    </tr>\n    <tr>\n      <th>129</th>\n      <td>https://camping.ch/de/campingplatz/zentralschw...</td>\n      <td>10.0</td>\n    </tr>\n    <tr>\n      <th>131</th>\n      <td>https://camping.ch/de/campingplatz/berner-ober...</td>\n      <td>1.0</td>\n    </tr>\n    <tr>\n      <th>145</th>\n      <td>https://camping.ch/de/campingplatz/zentralschw...</td>\n      <td>5.0</td>\n    </tr>\n    <tr>\n      <th>151</th>\n      <td>https://camping.ch/de/campingplatz/wallis/ritz...</td>\n      <td>NaN</td>\n    </tr>\n    <tr>\n      <th>166</th>\n      <td>https://camping.ch/de/campingplatz/zentralschw...</td>\n      <td>5.0</td>\n    </tr>\n    <tr>\n      <th>170</th>\n      <td>https://camping.ch/de/campingplatz/ostschweiz/...</td>\n      <td>NaN</td>\n    </tr>\n    <tr>\n      <th>176</th>\n      <td>https://camping.ch/de/campingplatz/zentralschw...</td>\n      <td>6.0</td>\n    </tr>\n    <tr>\n      <th>188</th>\n      <td>https://camping.ch/de/campingplatz/zentralschw...</td>\n      <td>NaN</td>\n    </tr>\n    <tr>\n      <th>216</th>\n      <td>https://camping.ch/de/campingplatz/zuerich/wil...</td>\n      <td>7.0</td>\n    </tr>\n    <tr>\n      <th>220</th>\n      <td>https://camping.ch/de/campingplatz/freiburg-ne...</td>\n      <td>8.0</td>\n    </tr>\n    <tr>\n      <th>223</th>\n      <td>https://camping.ch/de/campingplatz/freiburg-ne...</td>\n      <td>5.0</td>\n    </tr>\n    <tr>\n      <th>234</th>\n      <td>https://camping.ch/de/campingplatz/freiburg-ne...</td>\n      <td>0.0</td>\n    </tr>\n    <tr>\n      <th>247</th>\n      <td>https://camping.ch/de/campingplatz/nordwestsch...</td>\n      <td>10.0</td>\n    </tr>\n    <tr>\n      <th>259</th>\n      <td>https://camping.ch/de/campingplatz/wallis/gran...</td>\n      <td>0.0</td>\n    </tr>\n    <tr>\n      <th>271</th>\n      <td>https://camping.ch/de/campingplatz/ostschweiz/...</td>\n      <td>10.0</td>\n    </tr>\n    <tr>\n      <th>276</th>\n      <td>https://camping.ch/de/campingplatz/zuerich/kle...</td>\n      <td>10.0</td>\n    </tr>\n    <tr>\n      <th>288</th>\n      <td>https://camping.ch/de/campingplatz/berner-ober...</td>\n      <td>10.0</td>\n    </tr>\n    <tr>\n      <th>290</th>\n      <td>https://camping.ch/de/campingplatz/waadt-genfe...</td>\n      <td>10.0</td>\n    </tr>\n    <tr>\n      <th>297</th>\n      <td>https://camping.ch/de/campingplatz/zentralschw...</td>\n      <td>NaN</td>\n    </tr>\n    <tr>\n      <th>312</th>\n      <td>https://camping.ch/de/campingplatz/nordwestsch...</td>\n      <td>10.0</td>\n    </tr>\n    <tr>\n      <th>318</th>\n      <td>https://camping.ch/de/campingplatz/zentralschw...</td>\n      <td>10.0</td>\n    </tr>\n    <tr>\n      <th>325</th>\n      <td>https://camping.ch/de/campingplatz/berner-ober...</td>\n      <td>10.0</td>\n    </tr>\n    <tr>\n      <th>329</th>\n      <td>https://camping.ch/de/campingplatz/berner-ober...</td>\n      <td>4.0</td>\n    </tr>\n    <tr>\n      <th>333</th>\n      <td>https://camping.ch/de/campingplatz/graubuenden...</td>\n      <td>6.0</td>\n    </tr>\n    <tr>\n      <th>337</th>\n      <td>https://camping.ch/de/campingplatz/wallis/morg...</td>\n      <td>5.0</td>\n    </tr>\n    <tr>\n      <th>339</th>\n      <td>https://camping.ch/de/campingplatz/ostschweiz/...</td>\n      <td>0.0</td>\n    </tr>\n    <tr>\n      <th>340</th>\n      <td>https://camping.ch/de/campingplatz/berner-mite...</td>\n      <td>0.0</td>\n    </tr>\n    <tr>\n      <th>353</th>\n      <td>https://camping.ch/de/campingplatz/ostschweiz/...</td>\n      <td>0.0</td>\n    </tr>\n    <tr>\n      <th>354</th>\n      <td>https://camping.ch/de/campingplatz/nordwestsch...</td>\n      <td>0.0</td>\n    </tr>\n    <tr>\n      <th>363</th>\n      <td>https://camping.ch/de/campingplatz/graubuenden...</td>\n      <td>10.0</td>\n    </tr>\n    <tr>\n      <th>371</th>\n      <td>https://camping.ch/de/campingplatz/berner-mite...</td>\n      <td>0.0</td>\n    </tr>\n  </tbody>\n</table>\n</div>"
     },
     "execution_count": 108,
     "metadata": {},
     "output_type": "execute_result"
    }
   ],
   "source": [
    "filtered_touristp_df = df_camping[df_camping['tourist pitches'].isna() | (df_camping['tourist pitches'] < 11)]\n",
    "filtered_touristp_df[['url', 'tourist pitches']]"
   ],
   "metadata": {
    "collapsed": false
   }
  },
  {
   "cell_type": "code",
   "execution_count": 109,
   "outputs": [],
   "source": [
    "# Es wurden die Campingplätze mit Anzahl Touristenplätze < 10 und 'nan' geprüft.\n",
    "# Quelle: Internetseite der Campingplätze.\n",
    "corrections_pitches = {\n",
    "    'https://camping.ch/de/campingplatz/ostschweiz/weesen/camping-gaesi?l=true': 70,\n",
    "    'https://camping.ch/de/campingplatz/waadt-genfersee/forel/camping-de-forel?l=true': 43,\n",
    "    'https://camping.ch/de/campingplatz/ostschweiz/Altst%25C3%25A4tten/allmend_rheintal?l=true': 150,\n",
    "    'https://camping.ch/de/campingplatz/wallis/ritzingen/camping-brigga?l=true': 127,\n",
    "    'https://camping.ch/de/campingplatz/ostschweiz/mammern/seewiese?l=true': 95,\n",
    "    'https://camping.ch/de/campingplatz/zentralschweiz/seelisberg/naturcamping_seelisberg?l=true': 60,\n",
    "    'https://camping.ch/de/campingplatz/tessin/monteggio/boscodellabella?l=true': 10,\n",
    "    'https://camping.ch/de/campingplatz/freiburg-neuenburg-jura/le-noirmont/camping-du-creux-des-biches?l=true': 40,\n",
    "    'https://camping.ch/de/campingplatz/zentralschweiz/sisikon/camping_bucheli?l=true': 50,\n",
    "    'https://camping.ch/de/campingplatz/wallis/sembrancher/la-prairie?l=true': 48,\n",
    "    'https://camping.ch/de/campingplatz/berner-mitelland/rueschegg-heubach/camping-rueschegg-heubach?l=true': 20,\n",
    "    'https://camping.ch/de/campingplatz/zentralschweiz/morgarten/camping_neselen?l=true': 40,\n",
    "    'https://camping.ch/de/campingplatz/berner-oberland/boenigen/seeruhe?l=true': 88,\n",
    "    'https://camping.ch/de/campingplatz/ostschweiz/stein-a-rhein/grenzstein?l=true': 64,\n",
    "    'https://camping.ch/de/campingplatz/berner-oberland/saanen/beim-kappeli?l=true': 27,\n",
    "    'https://camping.ch/de/campingplatz/freiburg-neuenburg-jura/rebeuvilier/du-raimeux?l=true': 31,\n",
    "    'https://camping.ch/de/campingplatz/berner-oberland/gsteig-b-gstaad/bergcamping-gsteig?l=true': 16,\n",
    "    'https://camping.ch/de/campingplatz/berner-oberland/schwenden-im-diemtigtal/camping-eggmatte-diemtigtal?l=true': 16,\n",
    "    'https://camping.ch/de/campingplatz/freiburg-neuenburg-jura/le-landeron/bellerive-le-landeron?l=true': 50,\n",
    "}\n",
    "\n",
    "# Funktion zur Korrektur der Anzahl Touristenplätze\n",
    "def correct_dates(row):\n",
    "    if row['url'] in corrections_pitches:\n",
    "        return corrections_pitches[row['url']]\n",
    "    return row['tourist pitches']\n",
    "\n",
    "# Anzahl Touristenplätze im DataFrame korrigieren\n",
    "df_camping['tourist pitches'] = df_camping.apply(correct_dates, axis=1)"
   ],
   "metadata": {
    "collapsed": false
   }
  },
  {
   "cell_type": "markdown",
   "source": [
    "### Ersetzen von falschen Datums-Werten"
   ],
   "metadata": {
    "collapsed": false
   }
  },
  {
   "cell_type": "code",
   "execution_count": 110,
   "outputs": [],
   "source": [
    "# Folgende drei Saisondaten waren mit null Tagen hinterlegt und wurden deshalb manuell nachgeschaut. Die restlichen Saisondaten wurden nicht nachgeprüft.\n",
    "corrections_date = {\n",
    "    'Camping Bellavista': '12.04.2024 - 13.10.2024',\n",
    "    'Camping Schaffhausen - Freizeitanlage Rheinwiese': '27.03.2024 - 20.10.2024',\n",
    "    'Nufenenpark': '01.06.2024 - 30.09.2024'\n",
    "}\n",
    "\n",
    "# Funktion zur Korrektur der Datumsangaben\n",
    "def correct_dates(row):\n",
    "    if row['name'] in corrections_date:\n",
    "        return corrections_date[row['name']]\n",
    "    return row['open (seasons 1)']\n",
    "\n",
    "# Datumsangaben im DataFrame korrigieren\n",
    "df_camping['open (seasons 1)'] = df_camping.apply(correct_dates, axis=1)"
   ],
   "metadata": {
    "collapsed": false
   }
  },
  {
   "cell_type": "markdown",
   "source": [
    "### Berechnung prozentuale Öffnungszeiten\n",
    "Tage Jahr: 365 (Vereinfachung)"
   ],
   "metadata": {
    "collapsed": false
   }
  },
  {
   "cell_type": "code",
   "execution_count": 111,
   "outputs": [],
   "source": [
    "from datetime import datetime\n",
    "# Tage von Öffnung bis Schliessung der Saison\n",
    "def process_column_value(value):\n",
    "    # leere Zellen:\n",
    "    if pd.isna(value) or value == \"\":\n",
    "        return 0\n",
    "    try:\n",
    "        # wenn ein Text vor dem Datum steht, sollen die Zeichen nach dem Doppelpunkt für das Datum verwendet werden\n",
    "        if ':' in value:\n",
    "            middle_value = value[value.find(':') + 2: value.find(':') + 12].strip()\n",
    "            open_date = datetime.strptime(middle_value, '%d.%m.%Y')\n",
    "            end_date = datetime.strptime(value[-10:].strip(), '%d.%m.%Y')\n",
    "            return  (end_date - open_date).days\n",
    "        end_date = datetime.strptime(value[-10:].strip(), '%d.%m.%Y')\n",
    "        open_date = datetime.strptime(value[:10].strip(), '%d.%m.%Y')\n",
    "        return (end_date - open_date).days\n",
    "    except:\n",
    "        print(f\"Fehler bei der Verarbeitung von Wert {value}\")\n",
    "        return 0\n",
    "\n",
    "# für alle Saison die Tage berechnen (falls mehrere) und zusammenzählen\n",
    "def calculate_row(row):\n",
    "    columns = ['open (seasons 1)', 'open (seasons 2)', 'open (seasons 3)', 'open (seasons 4)', 'open (seasons 5)', 'open (seasons 6)', 'open (seasons 7)']\n",
    "    total = 0\n",
    "    for col in columns:\n",
    "        total += process_column_value(row[col])\n",
    "    return total\n",
    "\n",
    "# Neue Spalte mit Tagen erstellen, indem die Berechnung auf jede Zeile angewandt wird\n",
    "df_camping['open[day]'] = df_camping.apply(calculate_row, axis=1)"
   ],
   "metadata": {
    "collapsed": false
   }
  },
  {
   "cell_type": "code",
   "execution_count": 112,
   "outputs": [],
   "source": [
    "# prozentualer Anteil der offenen Tage am Gesamtjahr\n",
    "df_camping['open[%]'] = df_camping['open[day]'].apply(lambda x: round(x / 365,2) if x <= 365 else 365/365)"
   ],
   "metadata": {
    "collapsed": false
   }
  },
  {
   "cell_type": "code",
   "execution_count": 113,
   "outputs": [
    {
     "data": {
      "text/plain": "                                                   url  \\\n0    https://camping.ch/de/campingplatz/graubuenden...   \n1    https://camping.ch/de/campingplatz/ostschweiz/...   \n2    https://camping.ch/de/campingplatz/freiburg-ne...   \n3    https://camping.ch/de/campingplatz/graubuenden...   \n4    https://camping.ch/de/campingplatz/wallis/evol...   \n..                                                 ...   \n372  https://camping.ch/de/campingplatz/berner-ober...   \n373  https://camping.ch/de/campingplatz/wallis/fies...   \n374  https://camping.ch/de/campingplatz/berner-ober...   \n375  https://camping.ch/de/campingplatz/tessin/meri...   \n376  https://camping.ch/de/campingplatz/freiburg-ne...   \n\n                            name                        locality  \\\n0                          Islas               7477 Filisur (GR)   \n1    Stellplatz Allmend Rheintal            9450 Altstätten (SG)   \n2            Camping de la Forêt                1642 Sorens (FR)   \n3                  Sur En / Sent         7554 Sur En / Sent (GR)   \n4                        Evolène               1983 Evolène (VS)   \n..                           ...                             ...   \n372                 Alpencamping             3860 Meiringen (BE)   \n373                    Eggishorn                3984 Fiesch (VS)   \n374              Camping Hobby 3  3800 Unterseen-Interlaken (BE)   \n375    Camping Monte San Giorgio                6866 Meride (TI)   \n376               Nouvelle Plage      1470 Estavayer-Le-Lac (FR)   \n\n                 website  star category  activities  tourist pitches  \\\n0    www.campingislas.ch              3           3             50.0   \n1                    NaN              0           7            150.0   \n2                    NaN              4           4             50.0   \n3                    NaN              4           4            120.0   \n4                    NaN              3           1             65.0   \n..                   ...            ...         ...              ...   \n372  www.alpencamping.ch              4          11             34.0   \n373                  NaN              4           6            127.0   \n374                  NaN              4          11             80.0   \n375                  NaN              4           8             64.0   \n376                  NaN              3           3             60.0   \n\n            open (seasons 1) open (seasons 2) open (seasons 3)  ...  \\\n0    01.04.2024 − 31.10.2024              NaN              NaN  ...   \n1    01.01.2024 − 31.12.2024              NaN              NaN  ...   \n2    15.04.2024 − 15.10.2024              NaN              NaN  ...   \n3    01.01.2024 − 31.12.2024              NaN              NaN  ...   \n4    15.05.2024 − 15.10.2024              NaN              NaN  ...   \n..                       ...              ...              ...  ...   \n372  01.01.2024 − 31.12.2024              NaN              NaN  ...   \n373  01.01.2024 − 31.12.2024              NaN              NaN  ...   \n374  01.04.2024 − 04.10.2024              NaN              NaN  ...   \n375  19.04.2024 − 29.09.2024              NaN              NaN  ...   \n376  25.03.2024 − 20.10.2024              NaN              NaN  ...   \n\n    lake with sandy beach lake with stony beach river  train station  bus  \\\n0                       0                     0     0              1    0   \n1                       0                     0     0              0    0   \n2                       0                     0     0              0    1   \n3                       0                     0     1              1    1   \n4                       0                     0     0              0    1   \n..                    ...                   ...   ...            ...  ...   \n372                     0                     1     1              1    1   \n373                     0                     0     1              1    1   \n374                     0                     1     1              1    1   \n375                     0                     0     1              0    1   \n376                     0                     0     1              1    0   \n\n     VSC membership  TCS membership  SCCV membership  open[day]  open[%]  \n0                 1               0                1        213     0.58  \n1                 0               0                0        365     1.00  \n2                 1               0                0        183     0.50  \n3                 1               0                0        365     1.00  \n4                 0               0                0        153     0.42  \n..              ...             ...              ...        ...      ...  \n372               1               0                0        365     1.00  \n373               1               0                0        365     1.00  \n374               1               0                0        186     0.51  \n375               1               1                0        163     0.45  \n376               0               0                0        209     0.57  \n\n[377 rows x 52 columns]",
      "text/html": "<div>\n<style scoped>\n    .dataframe tbody tr th:only-of-type {\n        vertical-align: middle;\n    }\n\n    .dataframe tbody tr th {\n        vertical-align: top;\n    }\n\n    .dataframe thead th {\n        text-align: right;\n    }\n</style>\n<table border=\"1\" class=\"dataframe\">\n  <thead>\n    <tr style=\"text-align: right;\">\n      <th></th>\n      <th>url</th>\n      <th>name</th>\n      <th>locality</th>\n      <th>website</th>\n      <th>star category</th>\n      <th>activities</th>\n      <th>tourist pitches</th>\n      <th>open (seasons 1)</th>\n      <th>open (seasons 2)</th>\n      <th>open (seasons 3)</th>\n      <th>...</th>\n      <th>lake with sandy beach</th>\n      <th>lake with stony beach</th>\n      <th>river</th>\n      <th>train station</th>\n      <th>bus</th>\n      <th>VSC membership</th>\n      <th>TCS membership</th>\n      <th>SCCV membership</th>\n      <th>open[day]</th>\n      <th>open[%]</th>\n    </tr>\n  </thead>\n  <tbody>\n    <tr>\n      <th>0</th>\n      <td>https://camping.ch/de/campingplatz/graubuenden...</td>\n      <td>Islas</td>\n      <td>7477 Filisur (GR)</td>\n      <td>www.campingislas.ch</td>\n      <td>3</td>\n      <td>3</td>\n      <td>50.0</td>\n      <td>01.04.2024 − 31.10.2024</td>\n      <td>NaN</td>\n      <td>NaN</td>\n      <td>...</td>\n      <td>0</td>\n      <td>0</td>\n      <td>0</td>\n      <td>1</td>\n      <td>0</td>\n      <td>1</td>\n      <td>0</td>\n      <td>1</td>\n      <td>213</td>\n      <td>0.58</td>\n    </tr>\n    <tr>\n      <th>1</th>\n      <td>https://camping.ch/de/campingplatz/ostschweiz/...</td>\n      <td>Stellplatz Allmend Rheintal</td>\n      <td>9450 Altstätten (SG)</td>\n      <td>NaN</td>\n      <td>0</td>\n      <td>7</td>\n      <td>150.0</td>\n      <td>01.01.2024 − 31.12.2024</td>\n      <td>NaN</td>\n      <td>NaN</td>\n      <td>...</td>\n      <td>0</td>\n      <td>0</td>\n      <td>0</td>\n      <td>0</td>\n      <td>0</td>\n      <td>0</td>\n      <td>0</td>\n      <td>0</td>\n      <td>365</td>\n      <td>1.00</td>\n    </tr>\n    <tr>\n      <th>2</th>\n      <td>https://camping.ch/de/campingplatz/freiburg-ne...</td>\n      <td>Camping de la Forêt</td>\n      <td>1642 Sorens (FR)</td>\n      <td>NaN</td>\n      <td>4</td>\n      <td>4</td>\n      <td>50.0</td>\n      <td>15.04.2024 − 15.10.2024</td>\n      <td>NaN</td>\n      <td>NaN</td>\n      <td>...</td>\n      <td>0</td>\n      <td>0</td>\n      <td>0</td>\n      <td>0</td>\n      <td>1</td>\n      <td>1</td>\n      <td>0</td>\n      <td>0</td>\n      <td>183</td>\n      <td>0.50</td>\n    </tr>\n    <tr>\n      <th>3</th>\n      <td>https://camping.ch/de/campingplatz/graubuenden...</td>\n      <td>Sur En / Sent</td>\n      <td>7554 Sur En / Sent (GR)</td>\n      <td>NaN</td>\n      <td>4</td>\n      <td>4</td>\n      <td>120.0</td>\n      <td>01.01.2024 − 31.12.2024</td>\n      <td>NaN</td>\n      <td>NaN</td>\n      <td>...</td>\n      <td>0</td>\n      <td>0</td>\n      <td>1</td>\n      <td>1</td>\n      <td>1</td>\n      <td>1</td>\n      <td>0</td>\n      <td>0</td>\n      <td>365</td>\n      <td>1.00</td>\n    </tr>\n    <tr>\n      <th>4</th>\n      <td>https://camping.ch/de/campingplatz/wallis/evol...</td>\n      <td>Evolène</td>\n      <td>1983 Evolène (VS)</td>\n      <td>NaN</td>\n      <td>3</td>\n      <td>1</td>\n      <td>65.0</td>\n      <td>15.05.2024 − 15.10.2024</td>\n      <td>NaN</td>\n      <td>NaN</td>\n      <td>...</td>\n      <td>0</td>\n      <td>0</td>\n      <td>0</td>\n      <td>0</td>\n      <td>1</td>\n      <td>0</td>\n      <td>0</td>\n      <td>0</td>\n      <td>153</td>\n      <td>0.42</td>\n    </tr>\n    <tr>\n      <th>...</th>\n      <td>...</td>\n      <td>...</td>\n      <td>...</td>\n      <td>...</td>\n      <td>...</td>\n      <td>...</td>\n      <td>...</td>\n      <td>...</td>\n      <td>...</td>\n      <td>...</td>\n      <td>...</td>\n      <td>...</td>\n      <td>...</td>\n      <td>...</td>\n      <td>...</td>\n      <td>...</td>\n      <td>...</td>\n      <td>...</td>\n      <td>...</td>\n      <td>...</td>\n      <td>...</td>\n    </tr>\n    <tr>\n      <th>372</th>\n      <td>https://camping.ch/de/campingplatz/berner-ober...</td>\n      <td>Alpencamping</td>\n      <td>3860 Meiringen (BE)</td>\n      <td>www.alpencamping.ch</td>\n      <td>4</td>\n      <td>11</td>\n      <td>34.0</td>\n      <td>01.01.2024 − 31.12.2024</td>\n      <td>NaN</td>\n      <td>NaN</td>\n      <td>...</td>\n      <td>0</td>\n      <td>1</td>\n      <td>1</td>\n      <td>1</td>\n      <td>1</td>\n      <td>1</td>\n      <td>0</td>\n      <td>0</td>\n      <td>365</td>\n      <td>1.00</td>\n    </tr>\n    <tr>\n      <th>373</th>\n      <td>https://camping.ch/de/campingplatz/wallis/fies...</td>\n      <td>Eggishorn</td>\n      <td>3984 Fiesch (VS)</td>\n      <td>NaN</td>\n      <td>4</td>\n      <td>6</td>\n      <td>127.0</td>\n      <td>01.01.2024 − 31.12.2024</td>\n      <td>NaN</td>\n      <td>NaN</td>\n      <td>...</td>\n      <td>0</td>\n      <td>0</td>\n      <td>1</td>\n      <td>1</td>\n      <td>1</td>\n      <td>1</td>\n      <td>0</td>\n      <td>0</td>\n      <td>365</td>\n      <td>1.00</td>\n    </tr>\n    <tr>\n      <th>374</th>\n      <td>https://camping.ch/de/campingplatz/berner-ober...</td>\n      <td>Camping Hobby 3</td>\n      <td>3800 Unterseen-Interlaken (BE)</td>\n      <td>NaN</td>\n      <td>4</td>\n      <td>11</td>\n      <td>80.0</td>\n      <td>01.04.2024 − 04.10.2024</td>\n      <td>NaN</td>\n      <td>NaN</td>\n      <td>...</td>\n      <td>0</td>\n      <td>1</td>\n      <td>1</td>\n      <td>1</td>\n      <td>1</td>\n      <td>1</td>\n      <td>0</td>\n      <td>0</td>\n      <td>186</td>\n      <td>0.51</td>\n    </tr>\n    <tr>\n      <th>375</th>\n      <td>https://camping.ch/de/campingplatz/tessin/meri...</td>\n      <td>Camping Monte San Giorgio</td>\n      <td>6866 Meride (TI)</td>\n      <td>NaN</td>\n      <td>4</td>\n      <td>8</td>\n      <td>64.0</td>\n      <td>19.04.2024 − 29.09.2024</td>\n      <td>NaN</td>\n      <td>NaN</td>\n      <td>...</td>\n      <td>0</td>\n      <td>0</td>\n      <td>1</td>\n      <td>0</td>\n      <td>1</td>\n      <td>1</td>\n      <td>1</td>\n      <td>0</td>\n      <td>163</td>\n      <td>0.45</td>\n    </tr>\n    <tr>\n      <th>376</th>\n      <td>https://camping.ch/de/campingplatz/freiburg-ne...</td>\n      <td>Nouvelle Plage</td>\n      <td>1470 Estavayer-Le-Lac (FR)</td>\n      <td>NaN</td>\n      <td>3</td>\n      <td>3</td>\n      <td>60.0</td>\n      <td>25.03.2024 − 20.10.2024</td>\n      <td>NaN</td>\n      <td>NaN</td>\n      <td>...</td>\n      <td>0</td>\n      <td>0</td>\n      <td>1</td>\n      <td>1</td>\n      <td>0</td>\n      <td>0</td>\n      <td>0</td>\n      <td>0</td>\n      <td>209</td>\n      <td>0.57</td>\n    </tr>\n  </tbody>\n</table>\n<p>377 rows × 52 columns</p>\n</div>"
     },
     "execution_count": 113,
     "metadata": {},
     "output_type": "execute_result"
    }
   ],
   "source": [
    "df_camping"
   ],
   "metadata": {
    "collapsed": false
   }
  },
  {
   "cell_type": "markdown",
   "source": [
    "## Region extrahieren aus 'url'"
   ],
   "metadata": {
    "collapsed": false
   }
  },
  {
   "cell_type": "code",
   "execution_count": 114,
   "outputs": [
    {
     "data": {
      "text/plain": "                                                   url  \\\n0    https://camping.ch/de/campingplatz/graubuenden...   \n1    https://camping.ch/de/campingplatz/ostschweiz/...   \n2    https://camping.ch/de/campingplatz/freiburg-ne...   \n3    https://camping.ch/de/campingplatz/graubuenden...   \n4    https://camping.ch/de/campingplatz/wallis/evol...   \n..                                                 ...   \n372  https://camping.ch/de/campingplatz/berner-ober...   \n373  https://camping.ch/de/campingplatz/wallis/fies...   \n374  https://camping.ch/de/campingplatz/berner-ober...   \n375  https://camping.ch/de/campingplatz/tessin/meri...   \n376  https://camping.ch/de/campingplatz/freiburg-ne...   \n\n                            name                        locality  \\\n0                          Islas               7477 Filisur (GR)   \n1    Stellplatz Allmend Rheintal            9450 Altstätten (SG)   \n2            Camping de la Forêt                1642 Sorens (FR)   \n3                  Sur En / Sent         7554 Sur En / Sent (GR)   \n4                        Evolène               1983 Evolène (VS)   \n..                           ...                             ...   \n372                 Alpencamping             3860 Meiringen (BE)   \n373                    Eggishorn                3984 Fiesch (VS)   \n374              Camping Hobby 3  3800 Unterseen-Interlaken (BE)   \n375    Camping Monte San Giorgio                6866 Meride (TI)   \n376               Nouvelle Plage      1470 Estavayer-Le-Lac (FR)   \n\n                 website  star category  activities  tourist pitches  \\\n0    www.campingislas.ch              3           3             50.0   \n1                    NaN              0           7            150.0   \n2                    NaN              4           4             50.0   \n3                    NaN              4           4            120.0   \n4                    NaN              3           1             65.0   \n..                   ...            ...         ...              ...   \n372  www.alpencamping.ch              4          11             34.0   \n373                  NaN              4           6            127.0   \n374                  NaN              4          11             80.0   \n375                  NaN              4           8             64.0   \n376                  NaN              3           3             60.0   \n\n            open (seasons 1) open (seasons 2) open (seasons 3)  ...  \\\n0    01.04.2024 − 31.10.2024              NaN              NaN  ...   \n1    01.01.2024 − 31.12.2024              NaN              NaN  ...   \n2    15.04.2024 − 15.10.2024              NaN              NaN  ...   \n3    01.01.2024 − 31.12.2024              NaN              NaN  ...   \n4    15.05.2024 − 15.10.2024              NaN              NaN  ...   \n..                       ...              ...              ...  ...   \n372  01.01.2024 − 31.12.2024              NaN              NaN  ...   \n373  01.01.2024 − 31.12.2024              NaN              NaN  ...   \n374  01.04.2024 − 04.10.2024              NaN              NaN  ...   \n375  19.04.2024 − 29.09.2024              NaN              NaN  ...   \n376  25.03.2024 − 20.10.2024              NaN              NaN  ...   \n\n    lake with stony beach river train station  bus  VSC membership  \\\n0                       0     0             1    0               1   \n1                       0     0             0    0               0   \n2                       0     0             0    1               1   \n3                       0     1             1    1               1   \n4                       0     0             0    1               0   \n..                    ...   ...           ...  ...             ...   \n372                     1     1             1    1               1   \n373                     0     1             1    1               1   \n374                     1     1             1    1               1   \n375                     0     1             0    1               1   \n376                     0     1             1    0               0   \n\n     TCS membership  SCCV membership  open[day]  open[%]  \\\n0                 0                1        213     0.58   \n1                 0                0        365     1.00   \n2                 0                0        183     0.50   \n3                 0                0        365     1.00   \n4                 0                0        153     0.42   \n..              ...              ...        ...      ...   \n372               0                0        365     1.00   \n373               0                0        365     1.00   \n374               0                0        186     0.51   \n375               1                0        163     0.45   \n376               0                0        209     0.57   \n\n                      region  \n0                graubuenden  \n1                 ostschweiz  \n2    freiburg-neuenburg-jura  \n3                graubuenden  \n4                     wallis  \n..                       ...  \n372          berner-oberland  \n373                   wallis  \n374          berner-oberland  \n375                   tessin  \n376  freiburg-neuenburg-jura  \n\n[377 rows x 53 columns]",
      "text/html": "<div>\n<style scoped>\n    .dataframe tbody tr th:only-of-type {\n        vertical-align: middle;\n    }\n\n    .dataframe tbody tr th {\n        vertical-align: top;\n    }\n\n    .dataframe thead th {\n        text-align: right;\n    }\n</style>\n<table border=\"1\" class=\"dataframe\">\n  <thead>\n    <tr style=\"text-align: right;\">\n      <th></th>\n      <th>url</th>\n      <th>name</th>\n      <th>locality</th>\n      <th>website</th>\n      <th>star category</th>\n      <th>activities</th>\n      <th>tourist pitches</th>\n      <th>open (seasons 1)</th>\n      <th>open (seasons 2)</th>\n      <th>open (seasons 3)</th>\n      <th>...</th>\n      <th>lake with stony beach</th>\n      <th>river</th>\n      <th>train station</th>\n      <th>bus</th>\n      <th>VSC membership</th>\n      <th>TCS membership</th>\n      <th>SCCV membership</th>\n      <th>open[day]</th>\n      <th>open[%]</th>\n      <th>region</th>\n    </tr>\n  </thead>\n  <tbody>\n    <tr>\n      <th>0</th>\n      <td>https://camping.ch/de/campingplatz/graubuenden...</td>\n      <td>Islas</td>\n      <td>7477 Filisur (GR)</td>\n      <td>www.campingislas.ch</td>\n      <td>3</td>\n      <td>3</td>\n      <td>50.0</td>\n      <td>01.04.2024 − 31.10.2024</td>\n      <td>NaN</td>\n      <td>NaN</td>\n      <td>...</td>\n      <td>0</td>\n      <td>0</td>\n      <td>1</td>\n      <td>0</td>\n      <td>1</td>\n      <td>0</td>\n      <td>1</td>\n      <td>213</td>\n      <td>0.58</td>\n      <td>graubuenden</td>\n    </tr>\n    <tr>\n      <th>1</th>\n      <td>https://camping.ch/de/campingplatz/ostschweiz/...</td>\n      <td>Stellplatz Allmend Rheintal</td>\n      <td>9450 Altstätten (SG)</td>\n      <td>NaN</td>\n      <td>0</td>\n      <td>7</td>\n      <td>150.0</td>\n      <td>01.01.2024 − 31.12.2024</td>\n      <td>NaN</td>\n      <td>NaN</td>\n      <td>...</td>\n      <td>0</td>\n      <td>0</td>\n      <td>0</td>\n      <td>0</td>\n      <td>0</td>\n      <td>0</td>\n      <td>0</td>\n      <td>365</td>\n      <td>1.00</td>\n      <td>ostschweiz</td>\n    </tr>\n    <tr>\n      <th>2</th>\n      <td>https://camping.ch/de/campingplatz/freiburg-ne...</td>\n      <td>Camping de la Forêt</td>\n      <td>1642 Sorens (FR)</td>\n      <td>NaN</td>\n      <td>4</td>\n      <td>4</td>\n      <td>50.0</td>\n      <td>15.04.2024 − 15.10.2024</td>\n      <td>NaN</td>\n      <td>NaN</td>\n      <td>...</td>\n      <td>0</td>\n      <td>0</td>\n      <td>0</td>\n      <td>1</td>\n      <td>1</td>\n      <td>0</td>\n      <td>0</td>\n      <td>183</td>\n      <td>0.50</td>\n      <td>freiburg-neuenburg-jura</td>\n    </tr>\n    <tr>\n      <th>3</th>\n      <td>https://camping.ch/de/campingplatz/graubuenden...</td>\n      <td>Sur En / Sent</td>\n      <td>7554 Sur En / Sent (GR)</td>\n      <td>NaN</td>\n      <td>4</td>\n      <td>4</td>\n      <td>120.0</td>\n      <td>01.01.2024 − 31.12.2024</td>\n      <td>NaN</td>\n      <td>NaN</td>\n      <td>...</td>\n      <td>0</td>\n      <td>1</td>\n      <td>1</td>\n      <td>1</td>\n      <td>1</td>\n      <td>0</td>\n      <td>0</td>\n      <td>365</td>\n      <td>1.00</td>\n      <td>graubuenden</td>\n    </tr>\n    <tr>\n      <th>4</th>\n      <td>https://camping.ch/de/campingplatz/wallis/evol...</td>\n      <td>Evolène</td>\n      <td>1983 Evolène (VS)</td>\n      <td>NaN</td>\n      <td>3</td>\n      <td>1</td>\n      <td>65.0</td>\n      <td>15.05.2024 − 15.10.2024</td>\n      <td>NaN</td>\n      <td>NaN</td>\n      <td>...</td>\n      <td>0</td>\n      <td>0</td>\n      <td>0</td>\n      <td>1</td>\n      <td>0</td>\n      <td>0</td>\n      <td>0</td>\n      <td>153</td>\n      <td>0.42</td>\n      <td>wallis</td>\n    </tr>\n    <tr>\n      <th>...</th>\n      <td>...</td>\n      <td>...</td>\n      <td>...</td>\n      <td>...</td>\n      <td>...</td>\n      <td>...</td>\n      <td>...</td>\n      <td>...</td>\n      <td>...</td>\n      <td>...</td>\n      <td>...</td>\n      <td>...</td>\n      <td>...</td>\n      <td>...</td>\n      <td>...</td>\n      <td>...</td>\n      <td>...</td>\n      <td>...</td>\n      <td>...</td>\n      <td>...</td>\n      <td>...</td>\n    </tr>\n    <tr>\n      <th>372</th>\n      <td>https://camping.ch/de/campingplatz/berner-ober...</td>\n      <td>Alpencamping</td>\n      <td>3860 Meiringen (BE)</td>\n      <td>www.alpencamping.ch</td>\n      <td>4</td>\n      <td>11</td>\n      <td>34.0</td>\n      <td>01.01.2024 − 31.12.2024</td>\n      <td>NaN</td>\n      <td>NaN</td>\n      <td>...</td>\n      <td>1</td>\n      <td>1</td>\n      <td>1</td>\n      <td>1</td>\n      <td>1</td>\n      <td>0</td>\n      <td>0</td>\n      <td>365</td>\n      <td>1.00</td>\n      <td>berner-oberland</td>\n    </tr>\n    <tr>\n      <th>373</th>\n      <td>https://camping.ch/de/campingplatz/wallis/fies...</td>\n      <td>Eggishorn</td>\n      <td>3984 Fiesch (VS)</td>\n      <td>NaN</td>\n      <td>4</td>\n      <td>6</td>\n      <td>127.0</td>\n      <td>01.01.2024 − 31.12.2024</td>\n      <td>NaN</td>\n      <td>NaN</td>\n      <td>...</td>\n      <td>0</td>\n      <td>1</td>\n      <td>1</td>\n      <td>1</td>\n      <td>1</td>\n      <td>0</td>\n      <td>0</td>\n      <td>365</td>\n      <td>1.00</td>\n      <td>wallis</td>\n    </tr>\n    <tr>\n      <th>374</th>\n      <td>https://camping.ch/de/campingplatz/berner-ober...</td>\n      <td>Camping Hobby 3</td>\n      <td>3800 Unterseen-Interlaken (BE)</td>\n      <td>NaN</td>\n      <td>4</td>\n      <td>11</td>\n      <td>80.0</td>\n      <td>01.04.2024 − 04.10.2024</td>\n      <td>NaN</td>\n      <td>NaN</td>\n      <td>...</td>\n      <td>1</td>\n      <td>1</td>\n      <td>1</td>\n      <td>1</td>\n      <td>1</td>\n      <td>0</td>\n      <td>0</td>\n      <td>186</td>\n      <td>0.51</td>\n      <td>berner-oberland</td>\n    </tr>\n    <tr>\n      <th>375</th>\n      <td>https://camping.ch/de/campingplatz/tessin/meri...</td>\n      <td>Camping Monte San Giorgio</td>\n      <td>6866 Meride (TI)</td>\n      <td>NaN</td>\n      <td>4</td>\n      <td>8</td>\n      <td>64.0</td>\n      <td>19.04.2024 − 29.09.2024</td>\n      <td>NaN</td>\n      <td>NaN</td>\n      <td>...</td>\n      <td>0</td>\n      <td>1</td>\n      <td>0</td>\n      <td>1</td>\n      <td>1</td>\n      <td>1</td>\n      <td>0</td>\n      <td>163</td>\n      <td>0.45</td>\n      <td>tessin</td>\n    </tr>\n    <tr>\n      <th>376</th>\n      <td>https://camping.ch/de/campingplatz/freiburg-ne...</td>\n      <td>Nouvelle Plage</td>\n      <td>1470 Estavayer-Le-Lac (FR)</td>\n      <td>NaN</td>\n      <td>3</td>\n      <td>3</td>\n      <td>60.0</td>\n      <td>25.03.2024 − 20.10.2024</td>\n      <td>NaN</td>\n      <td>NaN</td>\n      <td>...</td>\n      <td>0</td>\n      <td>1</td>\n      <td>1</td>\n      <td>0</td>\n      <td>0</td>\n      <td>0</td>\n      <td>0</td>\n      <td>209</td>\n      <td>0.57</td>\n      <td>freiburg-neuenburg-jura</td>\n    </tr>\n  </tbody>\n</table>\n<p>377 rows × 53 columns</p>\n</div>"
     },
     "execution_count": 114,
     "metadata": {},
     "output_type": "execute_result"
    }
   ],
   "source": [
    "# Funktion zum Extrahieren der Region aus der URL\n",
    "def extract_region(url):\n",
    "    parts = url.split('/')\n",
    "    if len(parts) > 5:\n",
    "        return parts[5]  # Das Wort nach dem fünften '/' in der URL\n",
    "    else:\n",
    "        return None\n",
    "\n",
    "# Neue Spalte 'region' erstellen\n",
    "df_camping['region'] = df_camping['url'].apply(extract_region)\n",
    "\n",
    "df_camping"
   ],
   "metadata": {
    "collapsed": false
   }
  },
  {
   "cell_type": "code",
   "execution_count": 115,
   "outputs": [
    {
     "data": {
      "text/plain": "     region_berner-mitelland  region_berner-oberland  \\\n0                          0                       0   \n1                          0                       0   \n2                          0                       0   \n3                          0                       0   \n4                          0                       0   \n..                       ...                     ...   \n372                        0                       1   \n373                        0                       0   \n374                        0                       1   \n375                        0                       0   \n376                        0                       0   \n\n     region_freiburg-neuenburg-jura  region_graubuenden  region_grenznah  \\\n0                                 0                   1                0   \n1                                 0                   0                0   \n2                                 1                   0                0   \n3                                 0                   1                0   \n4                                 0                   0                0   \n..                              ...                 ...              ...   \n372                               0                   0                0   \n373                               0                   0                0   \n374                               0                   0                0   \n375                               0                   0                0   \n376                               1                   0                0   \n\n     region_nordwestschweiz  region_ostschweiz  region_tessin  \\\n0                         0                  0              0   \n1                         0                  1              0   \n2                         0                  0              0   \n3                         0                  0              0   \n4                         0                  0              0   \n..                      ...                ...            ...   \n372                       0                  0              0   \n373                       0                  0              0   \n374                       0                  0              0   \n375                       0                  0              1   \n376                       0                  0              0   \n\n     region_waadt-genfersee  region_wallis  region_zentralschweiz  \\\n0                         0              0                      0   \n1                         0              0                      0   \n2                         0              0                      0   \n3                         0              0                      0   \n4                         0              1                      0   \n..                      ...            ...                    ...   \n372                       0              0                      0   \n373                       0              1                      0   \n374                       0              0                      0   \n375                       0              0                      0   \n376                       0              0                      0   \n\n     region_zuerich  \n0                 0  \n1                 0  \n2                 0  \n3                 0  \n4                 0  \n..              ...  \n372               0  \n373               0  \n374               0  \n375               0  \n376               0  \n\n[377 rows x 12 columns]",
      "text/html": "<div>\n<style scoped>\n    .dataframe tbody tr th:only-of-type {\n        vertical-align: middle;\n    }\n\n    .dataframe tbody tr th {\n        vertical-align: top;\n    }\n\n    .dataframe thead th {\n        text-align: right;\n    }\n</style>\n<table border=\"1\" class=\"dataframe\">\n  <thead>\n    <tr style=\"text-align: right;\">\n      <th></th>\n      <th>region_berner-mitelland</th>\n      <th>region_berner-oberland</th>\n      <th>region_freiburg-neuenburg-jura</th>\n      <th>region_graubuenden</th>\n      <th>region_grenznah</th>\n      <th>region_nordwestschweiz</th>\n      <th>region_ostschweiz</th>\n      <th>region_tessin</th>\n      <th>region_waadt-genfersee</th>\n      <th>region_wallis</th>\n      <th>region_zentralschweiz</th>\n      <th>region_zuerich</th>\n    </tr>\n  </thead>\n  <tbody>\n    <tr>\n      <th>0</th>\n      <td>0</td>\n      <td>0</td>\n      <td>0</td>\n      <td>1</td>\n      <td>0</td>\n      <td>0</td>\n      <td>0</td>\n      <td>0</td>\n      <td>0</td>\n      <td>0</td>\n      <td>0</td>\n      <td>0</td>\n    </tr>\n    <tr>\n      <th>1</th>\n      <td>0</td>\n      <td>0</td>\n      <td>0</td>\n      <td>0</td>\n      <td>0</td>\n      <td>0</td>\n      <td>1</td>\n      <td>0</td>\n      <td>0</td>\n      <td>0</td>\n      <td>0</td>\n      <td>0</td>\n    </tr>\n    <tr>\n      <th>2</th>\n      <td>0</td>\n      <td>0</td>\n      <td>1</td>\n      <td>0</td>\n      <td>0</td>\n      <td>0</td>\n      <td>0</td>\n      <td>0</td>\n      <td>0</td>\n      <td>0</td>\n      <td>0</td>\n      <td>0</td>\n    </tr>\n    <tr>\n      <th>3</th>\n      <td>0</td>\n      <td>0</td>\n      <td>0</td>\n      <td>1</td>\n      <td>0</td>\n      <td>0</td>\n      <td>0</td>\n      <td>0</td>\n      <td>0</td>\n      <td>0</td>\n      <td>0</td>\n      <td>0</td>\n    </tr>\n    <tr>\n      <th>4</th>\n      <td>0</td>\n      <td>0</td>\n      <td>0</td>\n      <td>0</td>\n      <td>0</td>\n      <td>0</td>\n      <td>0</td>\n      <td>0</td>\n      <td>0</td>\n      <td>1</td>\n      <td>0</td>\n      <td>0</td>\n    </tr>\n    <tr>\n      <th>...</th>\n      <td>...</td>\n      <td>...</td>\n      <td>...</td>\n      <td>...</td>\n      <td>...</td>\n      <td>...</td>\n      <td>...</td>\n      <td>...</td>\n      <td>...</td>\n      <td>...</td>\n      <td>...</td>\n      <td>...</td>\n    </tr>\n    <tr>\n      <th>372</th>\n      <td>0</td>\n      <td>1</td>\n      <td>0</td>\n      <td>0</td>\n      <td>0</td>\n      <td>0</td>\n      <td>0</td>\n      <td>0</td>\n      <td>0</td>\n      <td>0</td>\n      <td>0</td>\n      <td>0</td>\n    </tr>\n    <tr>\n      <th>373</th>\n      <td>0</td>\n      <td>0</td>\n      <td>0</td>\n      <td>0</td>\n      <td>0</td>\n      <td>0</td>\n      <td>0</td>\n      <td>0</td>\n      <td>0</td>\n      <td>1</td>\n      <td>0</td>\n      <td>0</td>\n    </tr>\n    <tr>\n      <th>374</th>\n      <td>0</td>\n      <td>1</td>\n      <td>0</td>\n      <td>0</td>\n      <td>0</td>\n      <td>0</td>\n      <td>0</td>\n      <td>0</td>\n      <td>0</td>\n      <td>0</td>\n      <td>0</td>\n      <td>0</td>\n    </tr>\n    <tr>\n      <th>375</th>\n      <td>0</td>\n      <td>0</td>\n      <td>0</td>\n      <td>0</td>\n      <td>0</td>\n      <td>0</td>\n      <td>0</td>\n      <td>1</td>\n      <td>0</td>\n      <td>0</td>\n      <td>0</td>\n      <td>0</td>\n    </tr>\n    <tr>\n      <th>376</th>\n      <td>0</td>\n      <td>0</td>\n      <td>1</td>\n      <td>0</td>\n      <td>0</td>\n      <td>0</td>\n      <td>0</td>\n      <td>0</td>\n      <td>0</td>\n      <td>0</td>\n      <td>0</td>\n      <td>0</td>\n    </tr>\n  </tbody>\n</table>\n<p>377 rows × 12 columns</p>\n</div>"
     },
     "execution_count": 115,
     "metadata": {},
     "output_type": "execute_result"
    }
   ],
   "source": [
    "# One hot Encoding\n",
    "df_region_encoded = pd.get_dummies(df_camping['region'], prefix='region')\n",
    "\n",
    "# Umwandlung von boolschen Werten in numerische Werte (0 und 1)\n",
    "df_region_encoded = df_region_encoded.astype(int)\n",
    "df_region_encoded"
   ],
   "metadata": {
    "collapsed": false
   }
  },
  {
   "cell_type": "code",
   "execution_count": 116,
   "outputs": [],
   "source": [
    "# die Spalten ausschliessen, welchen nicht in der Schweiz sind\n",
    "df_region_encoded = df_region_encoded.drop(['region_grenznah'], axis=1)"
   ],
   "metadata": {
    "collapsed": false
   }
  },
  {
   "cell_type": "code",
   "execution_count": 117,
   "outputs": [
    {
     "data": {
      "text/plain": "11"
     },
     "execution_count": 117,
     "metadata": {},
     "output_type": "execute_result"
    }
   ],
   "source": [
    "df_region_encoded.shape[1]"
   ],
   "metadata": {
    "collapsed": false
   }
  },
  {
   "cell_type": "code",
   "execution_count": 144,
   "outputs": [
    {
     "data": {
      "text/plain": "<Figure size 800x600 with 1 Axes>",
      "image/png": "[encoded data removed]"
     },
     "metadata": {},
     "output_type": "display_data"
    }
   ],
   "source": [
    "# Gestapeltes Säulendiagramm erstellen\n",
    "fig, ax = plt.subplots(figsize=(8, 6))\n",
    "\n",
    "# Anzahl der Zeilen im DataFrame\n",
    "num_rows = len(df_region_encoded)\n",
    "\n",
    "# Schleife über jede Spalte im DataFrame\n",
    "for i, col in enumerate(df_region_encoded.columns):\n",
    "    values = df_region_encoded[col].values\n",
    "    region = col.lower()\n",
    "\n",
    "    # Farbe abrufen\n",
    "    if region in color_palette['region']:\n",
    "        color = color_palette['color'][color_palette['region'].index(region)]\n",
    "    else:\n",
    "        color = '#CCCCCC'\n",
    "\n",
    "    # Höhe der Säule\n",
    "    ax.bar(i, sum(values), color=color)\n",
    "\n",
    "# Achsenbeschriftungen und Titel hinzufügen\n",
    "ax.set_ylabel('Anzahl')\n",
    "ax.set_xlabel('Region')\n",
    "ax.set_title('Anzahl Campingplätze je Region')\n",
    "\n",
    "xticklabels = [col[7:] for col in df_region_encoded.columns]\n",
    "ax.set_xticks(range(len(df_region_encoded.columns)))\n",
    "ax.set_xticklabels(xticklabels, rotation=45, ha='right')\n",
    "\n",
    "# Vertikale Hilfslinien ausschalten\n",
    "ax.grid(which='major', axis='x', linestyle='-', linewidth=0.1, color='lightgray')  # Nur horizontale Linien behalten\n",
    "\n",
    "plt.tight_layout()\n",
    "plt.show()"
   ],
   "metadata": {
    "collapsed": false
   }
  },
  {
   "cell_type": "markdown",
   "source": [
    "### Region in Gesamt-DF intgrieren"
   ],
   "metadata": {
    "collapsed": false
   }
  },
  {
   "cell_type": "code",
   "execution_count": 119,
   "outputs": [],
   "source": [
    "df_camping = pd.concat([df_camping, df_region_encoded], axis=1)"
   ],
   "metadata": {
    "collapsed": false
   }
  },
  {
   "cell_type": "code",
   "execution_count": 120,
   "outputs": [
    {
     "data": {
      "text/plain": "                                                   url  \\\n0    https://camping.ch/de/campingplatz/graubuenden...   \n1    https://camping.ch/de/campingplatz/ostschweiz/...   \n2    https://camping.ch/de/campingplatz/freiburg-ne...   \n3    https://camping.ch/de/campingplatz/graubuenden...   \n4    https://camping.ch/de/campingplatz/wallis/evol...   \n..                                                 ...   \n372  https://camping.ch/de/campingplatz/berner-ober...   \n373  https://camping.ch/de/campingplatz/wallis/fies...   \n374  https://camping.ch/de/campingplatz/berner-ober...   \n375  https://camping.ch/de/campingplatz/tessin/meri...   \n376  https://camping.ch/de/campingplatz/freiburg-ne...   \n\n                            name                        locality  \\\n0                          Islas               7477 Filisur (GR)   \n1    Stellplatz Allmend Rheintal            9450 Altstätten (SG)   \n2            Camping de la Forêt                1642 Sorens (FR)   \n3                  Sur En / Sent         7554 Sur En / Sent (GR)   \n4                        Evolène               1983 Evolène (VS)   \n..                           ...                             ...   \n372                 Alpencamping             3860 Meiringen (BE)   \n373                    Eggishorn                3984 Fiesch (VS)   \n374              Camping Hobby 3  3800 Unterseen-Interlaken (BE)   \n375    Camping Monte San Giorgio                6866 Meride (TI)   \n376               Nouvelle Plage      1470 Estavayer-Le-Lac (FR)   \n\n                 website  star category  activities  tourist pitches  \\\n0    www.campingislas.ch              3           3             50.0   \n1                    NaN              0           7            150.0   \n2                    NaN              4           4             50.0   \n3                    NaN              4           4            120.0   \n4                    NaN              3           1             65.0   \n..                   ...            ...         ...              ...   \n372  www.alpencamping.ch              4          11             34.0   \n373                  NaN              4           6            127.0   \n374                  NaN              4          11             80.0   \n375                  NaN              4           8             64.0   \n376                  NaN              3           3             60.0   \n\n            open (seasons 1) open (seasons 2) open (seasons 3)  ...  \\\n0    01.04.2024 − 31.10.2024              NaN              NaN  ...   \n1    01.01.2024 − 31.12.2024              NaN              NaN  ...   \n2    15.04.2024 − 15.10.2024              NaN              NaN  ...   \n3    01.01.2024 − 31.12.2024              NaN              NaN  ...   \n4    15.05.2024 − 15.10.2024              NaN              NaN  ...   \n..                       ...              ...              ...  ...   \n372  01.01.2024 − 31.12.2024              NaN              NaN  ...   \n373  01.01.2024 − 31.12.2024              NaN              NaN  ...   \n374  01.04.2024 − 04.10.2024              NaN              NaN  ...   \n375  19.04.2024 − 29.09.2024              NaN              NaN  ...   \n376  25.03.2024 − 20.10.2024              NaN              NaN  ...   \n\n    region_berner-oberland region_freiburg-neuenburg-jura region_graubuenden  \\\n0                        0                              0                  1   \n1                        0                              0                  0   \n2                        0                              1                  0   \n3                        0                              0                  1   \n4                        0                              0                  0   \n..                     ...                            ...                ...   \n372                      1                              0                  0   \n373                      0                              0                  0   \n374                      1                              0                  0   \n375                      0                              0                  0   \n376                      0                              1                  0   \n\n     region_nordwestschweiz  region_ostschweiz  region_tessin  \\\n0                         0                  0              0   \n1                         0                  1              0   \n2                         0                  0              0   \n3                         0                  0              0   \n4                         0                  0              0   \n..                      ...                ...            ...   \n372                       0                  0              0   \n373                       0                  0              0   \n374                       0                  0              0   \n375                       0                  0              1   \n376                       0                  0              0   \n\n     region_waadt-genfersee  region_wallis  region_zentralschweiz  \\\n0                         0              0                      0   \n1                         0              0                      0   \n2                         0              0                      0   \n3                         0              0                      0   \n4                         0              1                      0   \n..                      ...            ...                    ...   \n372                       0              0                      0   \n373                       0              1                      0   \n374                       0              0                      0   \n375                       0              0                      0   \n376                       0              0                      0   \n\n     region_zuerich  \n0                 0  \n1                 0  \n2                 0  \n3                 0  \n4                 0  \n..              ...  \n372               0  \n373               0  \n374               0  \n375               0  \n376               0  \n\n[377 rows x 64 columns]",
      "text/html": "<div>\n<style scoped>\n    .dataframe tbody tr th:only-of-type {\n        vertical-align: middle;\n    }\n\n    .dataframe tbody tr th {\n        vertical-align: top;\n    }\n\n    .dataframe thead th {\n        text-align: right;\n    }\n</style>\n<table border=\"1\" class=\"dataframe\">\n  <thead>\n    <tr style=\"text-align: right;\">\n      <th></th>\n      <th>url</th>\n      <th>name</th>\n      <th>locality</th>\n      <th>website</th>\n      <th>star category</th>\n      <th>activities</th>\n      <th>tourist pitches</th>\n      <th>open (seasons 1)</th>\n      <th>open (seasons 2)</th>\n      <th>open (seasons 3)</th>\n      <th>...</th>\n      <th>region_berner-oberland</th>\n      <th>region_freiburg-neuenburg-jura</th>\n      <th>region_graubuenden</th>\n      <th>region_nordwestschweiz</th>\n      <th>region_ostschweiz</th>\n      <th>region_tessin</th>\n      <th>region_waadt-genfersee</th>\n      <th>region_wallis</th>\n      <th>region_zentralschweiz</th>\n      <th>region_zuerich</th>\n    </tr>\n  </thead>\n  <tbody>\n    <tr>\n      <th>0</th>\n      <td>https://camping.ch/de/campingplatz/graubuenden...</td>\n      <td>Islas</td>\n      <td>7477 Filisur (GR)</td>\n      <td>www.campingislas.ch</td>\n      <td>3</td>\n      <td>3</td>\n      <td>50.0</td>\n      <td>01.04.2024 − 31.10.2024</td>\n      <td>NaN</td>\n      <td>NaN</td>\n      <td>...</td>\n      <td>0</td>\n      <td>0</td>\n      <td>1</td>\n      <td>0</td>\n      <td>0</td>\n      <td>0</td>\n      <td>0</td>\n      <td>0</td>\n      <td>0</td>\n      <td>0</td>\n    </tr>\n    <tr>\n      <th>1</th>\n      <td>https://camping.ch/de/campingplatz/ostschweiz/...</td>\n      <td>Stellplatz Allmend Rheintal</td>\n      <td>9450 Altstätten (SG)</td>\n      <td>NaN</td>\n      <td>0</td>\n      <td>7</td>\n      <td>150.0</td>\n      <td>01.01.2024 − 31.12.2024</td>\n      <td>NaN</td>\n      <td>NaN</td>\n      <td>...</td>\n      <td>0</td>\n      <td>0</td>\n      <td>0</td>\n      <td>0</td>\n      <td>1</td>\n      <td>0</td>\n      <td>0</td>\n      <td>0</td>\n      <td>0</td>\n      <td>0</td>\n    </tr>\n    <tr>\n      <th>2</th>\n      <td>https://camping.ch/de/campingplatz/freiburg-ne...</td>\n      <td>Camping de la Forêt</td>\n      <td>1642 Sorens (FR)</td>\n      <td>NaN</td>\n      <td>4</td>\n      <td>4</td>\n      <td>50.0</td>\n      <td>15.04.2024 − 15.10.2024</td>\n      <td>NaN</td>\n      <td>NaN</td>\n      <td>...</td>\n      <td>0</td>\n      <td>1</td>\n      <td>0</td>\n      <td>0</td>\n      <td>0</td>\n      <td>0</td>\n      <td>0</td>\n      <td>0</td>\n      <td>0</td>\n      <td>0</td>\n    </tr>\n    <tr>\n      <th>3</th>\n      <td>https://camping.ch/de/campingplatz/graubuenden...</td>\n      <td>Sur En / Sent</td>\n      <td>7554 Sur En / Sent (GR)</td>\n      <td>NaN</td>\n      <td>4</td>\n      <td>4</td>\n      <td>120.0</td>\n      <td>01.01.2024 − 31.12.2024</td>\n      <td>NaN</td>\n      <td>NaN</td>\n      <td>...</td>\n      <td>0</td>\n      <td>0</td>\n      <td>1</td>\n      <td>0</td>\n      <td>0</td>\n      <td>0</td>\n      <td>0</td>\n      <td>0</td>\n      <td>0</td>\n      <td>0</td>\n    </tr>\n    <tr>\n      <th>4</th>\n      <td>https://camping.ch/de/campingplatz/wallis/evol...</td>\n      <td>Evolène</td>\n      <td>1983 Evolène (VS)</td>\n      <td>NaN</td>\n      <td>3</td>\n      <td>1</td>\n      <td>65.0</td>\n      <td>15.05.2024 − 15.10.2024</td>\n      <td>NaN</td>\n      <td>NaN</td>\n      <td>...</td>\n      <td>0</td>\n      <td>0</td>\n      <td>0</td>\n      <td>0</td>\n      <td>0</td>\n      <td>0</td>\n      <td>0</td>\n      <td>1</td>\n      <td>0</td>\n      <td>0</td>\n    </tr>\n    <tr>\n      <th>...</th>\n      <td>...</td>\n      <td>...</td>\n      <td>...</td>\n      <td>...</td>\n      <td>...</td>\n      <td>...</td>\n      <td>...</td>\n      <td>...</td>\n      <td>...</td>\n      <td>...</td>\n      <td>...</td>\n      <td>...</td>\n      <td>...</td>\n      <td>...</td>\n      <td>...</td>\n      <td>...</td>\n      <td>...</td>\n      <td>...</td>\n      <td>...</td>\n      <td>...</td>\n      <td>...</td>\n    </tr>\n    <tr>\n      <th>372</th>\n      <td>https://camping.ch/de/campingplatz/berner-ober...</td>\n      <td>Alpencamping</td>\n      <td>3860 Meiringen (BE)</td>\n      <td>www.alpencamping.ch</td>\n      <td>4</td>\n      <td>11</td>\n      <td>34.0</td>\n      <td>01.01.2024 − 31.12.2024</td>\n      <td>NaN</td>\n      <td>NaN</td>\n      <td>...</td>\n      <td>1</td>\n      <td>0</td>\n      <td>0</td>\n      <td>0</td>\n      <td>0</td>\n      <td>0</td>\n      <td>0</td>\n      <td>0</td>\n      <td>0</td>\n      <td>0</td>\n    </tr>\n    <tr>\n      <th>373</th>\n      <td>https://camping.ch/de/campingplatz/wallis/fies...</td>\n      <td>Eggishorn</td>\n      <td>3984 Fiesch (VS)</td>\n      <td>NaN</td>\n      <td>4</td>\n      <td>6</td>\n      <td>127.0</td>\n      <td>01.01.2024 − 31.12.2024</td>\n      <td>NaN</td>\n      <td>NaN</td>\n      <td>...</td>\n      <td>0</td>\n      <td>0</td>\n      <td>0</td>\n      <td>0</td>\n      <td>0</td>\n      <td>0</td>\n      <td>0</td>\n      <td>1</td>\n      <td>0</td>\n      <td>0</td>\n    </tr>\n    <tr>\n      <th>374</th>\n      <td>https://camping.ch/de/campingplatz/berner-ober...</td>\n      <td>Camping Hobby 3</td>\n      <td>3800 Unterseen-Interlaken (BE)</td>\n      <td>NaN</td>\n      <td>4</td>\n      <td>11</td>\n      <td>80.0</td>\n      <td>01.04.2024 − 04.10.2024</td>\n      <td>NaN</td>\n      <td>NaN</td>\n      <td>...</td>\n      <td>1</td>\n      <td>0</td>\n      <td>0</td>\n      <td>0</td>\n      <td>0</td>\n      <td>0</td>\n      <td>0</td>\n      <td>0</td>\n      <td>0</td>\n      <td>0</td>\n    </tr>\n    <tr>\n      <th>375</th>\n      <td>https://camping.ch/de/campingplatz/tessin/meri...</td>\n      <td>Camping Monte San Giorgio</td>\n      <td>6866 Meride (TI)</td>\n      <td>NaN</td>\n      <td>4</td>\n      <td>8</td>\n      <td>64.0</td>\n      <td>19.04.2024 − 29.09.2024</td>\n      <td>NaN</td>\n      <td>NaN</td>\n      <td>...</td>\n      <td>0</td>\n      <td>0</td>\n      <td>0</td>\n      <td>0</td>\n      <td>0</td>\n      <td>1</td>\n      <td>0</td>\n      <td>0</td>\n      <td>0</td>\n      <td>0</td>\n    </tr>\n    <tr>\n      <th>376</th>\n      <td>https://camping.ch/de/campingplatz/freiburg-ne...</td>\n      <td>Nouvelle Plage</td>\n      <td>1470 Estavayer-Le-Lac (FR)</td>\n      <td>NaN</td>\n      <td>3</td>\n      <td>3</td>\n      <td>60.0</td>\n      <td>25.03.2024 − 20.10.2024</td>\n      <td>NaN</td>\n      <td>NaN</td>\n      <td>...</td>\n      <td>0</td>\n      <td>1</td>\n      <td>0</td>\n      <td>0</td>\n      <td>0</td>\n      <td>0</td>\n      <td>0</td>\n      <td>0</td>\n      <td>0</td>\n      <td>0</td>\n    </tr>\n  </tbody>\n</table>\n<p>377 rows × 64 columns</p>\n</div>"
     },
     "execution_count": 120,
     "metadata": {},
     "output_type": "execute_result"
    }
   ],
   "source": [
    "df_camping"
   ],
   "metadata": {
    "collapsed": false
   }
  },
  {
   "cell_type": "markdown",
   "source": [
    "## Zusammenfassung der Attribute/Faktoren\n",
    "z.B. Gastronomieangebot ist vorhanden, wenn es entweder ein Restaurant oder ein Take Away gibt."
   ],
   "metadata": {
    "collapsed": false
   }
  },
  {
   "cell_type": "code",
   "execution_count": 121,
   "outputs": [],
   "source": [
    "# washing\n",
    "# Summe bilden und wenn nicht null, dann eins\n",
    "def calculate_result(row):\n",
    "    total = row['washing machine'] + row['laundry dryer / tumble dryer']\n",
    "    return 0 if total == 0 else 1\n",
    "\n",
    "# Ergebnis in neue Spalte speichern\n",
    "df_camping['washing and dryer'] = df_camping.apply(calculate_result, axis=1)"
   ],
   "metadata": {
    "collapsed": false
   }
  },
  {
   "cell_type": "code",
   "execution_count": 122,
   "outputs": [],
   "source": [
    "# Restaurants, Bars\n",
    "# Summe bilden und wenn nicht null, dann eins\n",
    "def calculate_result(row):\n",
    "    total = row['restaurant'] + row['take away']\n",
    "    return 0 if total == 0 else 1\n",
    "\n",
    "# Ergebnis in neue Spalte speichern\n",
    "df_camping['gastronomy'] = df_camping.apply(calculate_result, axis=1)"
   ],
   "metadata": {
    "collapsed": false
   }
  },
  {
   "cell_type": "code",
   "execution_count": 123,
   "outputs": [],
   "source": [
    "# shopping\n",
    "# Summe bilden und wenn nicht null, dann eins\n",
    "def calculate_result(row):\n",
    "    total = row['shop with limited range'] + row['kiosk'] + row['shopping centre'] + row['shop with rich range']\n",
    "    return 0 if total == 0 else 1\n",
    "\n",
    "# Ergebnis in neue Spalte speichern\n",
    "df_camping['shop'] = df_camping.apply(calculate_result, axis=1)"
   ],
   "metadata": {
    "collapsed": false
   }
  },
  {
   "cell_type": "code",
   "execution_count": 124,
   "outputs": [],
   "source": [
    "# water side\n",
    "# Summe bilden und wenn nicht null, dann eins\n",
    "def calculate_result(row):\n",
    "    total = row['lake with sandy beach'] + row['lake with stony beach'] + row['river']\n",
    "    return 0 if total == 0 else 1\n",
    "\n",
    "# Ergebnis in neue Spalte speichern\n",
    "df_camping['camping by the water'] = df_camping.apply(calculate_result, axis=1)"
   ],
   "metadata": {
    "collapsed": false
   }
  },
  {
   "cell_type": "code",
   "execution_count": 125,
   "outputs": [],
   "source": [
    "# membership\n",
    "# Summe aller Mitgliedschaften werden zusammengezählt\n",
    "def calculate_result(row):\n",
    "    total = row['VSC membership'] + row['TCS membership'] + row['SCCV membership']\n",
    "    return total\n",
    "\n",
    "# Ergebnis in neue Spalte speichern\n",
    "df_camping['memberships'] = df_camping.apply(calculate_result, axis=1)"
   ],
   "metadata": {
    "collapsed": false
   }
  },
  {
   "cell_type": "code",
   "execution_count": 126,
   "outputs": [
    {
     "data": {
      "text/plain": "                                                   url  \\\n0    https://camping.ch/de/campingplatz/graubuenden...   \n1    https://camping.ch/de/campingplatz/ostschweiz/...   \n2    https://camping.ch/de/campingplatz/freiburg-ne...   \n3    https://camping.ch/de/campingplatz/graubuenden...   \n4    https://camping.ch/de/campingplatz/wallis/evol...   \n..                                                 ...   \n372  https://camping.ch/de/campingplatz/berner-ober...   \n373  https://camping.ch/de/campingplatz/wallis/fies...   \n374  https://camping.ch/de/campingplatz/berner-ober...   \n375  https://camping.ch/de/campingplatz/tessin/meri...   \n376  https://camping.ch/de/campingplatz/freiburg-ne...   \n\n                            name                        locality  \\\n0                          Islas               7477 Filisur (GR)   \n1    Stellplatz Allmend Rheintal            9450 Altstätten (SG)   \n2            Camping de la Forêt                1642 Sorens (FR)   \n3                  Sur En / Sent         7554 Sur En / Sent (GR)   \n4                        Evolène               1983 Evolène (VS)   \n..                           ...                             ...   \n372                 Alpencamping             3860 Meiringen (BE)   \n373                    Eggishorn                3984 Fiesch (VS)   \n374              Camping Hobby 3  3800 Unterseen-Interlaken (BE)   \n375    Camping Monte San Giorgio                6866 Meride (TI)   \n376               Nouvelle Plage      1470 Estavayer-Le-Lac (FR)   \n\n                 website  star category  activities  tourist pitches  \\\n0    www.campingislas.ch              3           3             50.0   \n1                    NaN              0           7            150.0   \n2                    NaN              4           4             50.0   \n3                    NaN              4           4            120.0   \n4                    NaN              3           1             65.0   \n..                   ...            ...         ...              ...   \n372  www.alpencamping.ch              4          11             34.0   \n373                  NaN              4           6            127.0   \n374                  NaN              4          11             80.0   \n375                  NaN              4           8             64.0   \n376                  NaN              3           3             60.0   \n\n            open (seasons 1) open (seasons 2) open (seasons 3)  ...  \\\n0    01.04.2024 − 31.10.2024              NaN              NaN  ...   \n1    01.01.2024 − 31.12.2024              NaN              NaN  ...   \n2    15.04.2024 − 15.10.2024              NaN              NaN  ...   \n3    01.01.2024 − 31.12.2024              NaN              NaN  ...   \n4    15.05.2024 − 15.10.2024              NaN              NaN  ...   \n..                       ...              ...              ...  ...   \n372  01.01.2024 − 31.12.2024              NaN              NaN  ...   \n373  01.01.2024 − 31.12.2024              NaN              NaN  ...   \n374  01.04.2024 − 04.10.2024              NaN              NaN  ...   \n375  19.04.2024 − 29.09.2024              NaN              NaN  ...   \n376  25.03.2024 − 20.10.2024              NaN              NaN  ...   \n\n    region_tessin region_waadt-genfersee region_wallis  region_zentralschweiz  \\\n0               0                      0             0                      0   \n1               0                      0             0                      0   \n2               0                      0             0                      0   \n3               0                      0             0                      0   \n4               0                      0             1                      0   \n..            ...                    ...           ...                    ...   \n372             0                      0             0                      0   \n373             0                      0             1                      0   \n374             0                      0             0                      0   \n375             1                      0             0                      0   \n376             0                      0             0                      0   \n\n     region_zuerich  washing and dryer  gastronomy  shop  \\\n0                 0                  1           0     0   \n1                 0                  0           0     0   \n2                 0                  1           1     1   \n3                 0                  1           0     0   \n4                 0                  1           0     0   \n..              ...                ...         ...   ...   \n372               0                  1           1     1   \n373               0                  1           1     1   \n374               0                  1           0     1   \n375               0                  1           0     0   \n376               0                  1           0     0   \n\n     camping by the water  memberships  \n0                       0            2  \n1                       0            0  \n2                       0            1  \n3                       1            1  \n4                       0            0  \n..                    ...          ...  \n372                     1            1  \n373                     1            1  \n374                     1            1  \n375                     1            2  \n376                     1            0  \n\n[377 rows x 69 columns]",
      "text/html": "<div>\n<style scoped>\n    .dataframe tbody tr th:only-of-type {\n        vertical-align: middle;\n    }\n\n    .dataframe tbody tr th {\n        vertical-align: top;\n    }\n\n    .dataframe thead th {\n        text-align: right;\n    }\n</style>\n<table border=\"1\" class=\"dataframe\">\n  <thead>\n    <tr style=\"text-align: right;\">\n      <th></th>\n      <th>url</th>\n      <th>name</th>\n      <th>locality</th>\n      <th>website</th>\n      <th>star category</th>\n      <th>activities</th>\n      <th>tourist pitches</th>\n      <th>open (seasons 1)</th>\n      <th>open (seasons 2)</th>\n      <th>open (seasons 3)</th>\n      <th>...</th>\n      <th>region_tessin</th>\n      <th>region_waadt-genfersee</th>\n      <th>region_wallis</th>\n      <th>region_zentralschweiz</th>\n      <th>region_zuerich</th>\n      <th>washing and dryer</th>\n      <th>gastronomy</th>\n      <th>shop</th>\n      <th>camping by the water</th>\n      <th>memberships</th>\n    </tr>\n  </thead>\n  <tbody>\n    <tr>\n      <th>0</th>\n      <td>https://camping.ch/de/campingplatz/graubuenden...</td>\n      <td>Islas</td>\n      <td>7477 Filisur (GR)</td>\n      <td>www.campingislas.ch</td>\n      <td>3</td>\n      <td>3</td>\n      <td>50.0</td>\n      <td>01.04.2024 − 31.10.2024</td>\n      <td>NaN</td>\n      <td>NaN</td>\n      <td>...</td>\n      <td>0</td>\n      <td>0</td>\n      <td>0</td>\n      <td>0</td>\n      <td>0</td>\n      <td>1</td>\n      <td>0</td>\n      <td>0</td>\n      <td>0</td>\n      <td>2</td>\n    </tr>\n    <tr>\n      <th>1</th>\n      <td>https://camping.ch/de/campingplatz/ostschweiz/...</td>\n      <td>Stellplatz Allmend Rheintal</td>\n      <td>9450 Altstätten (SG)</td>\n      <td>NaN</td>\n      <td>0</td>\n      <td>7</td>\n      <td>150.0</td>\n      <td>01.01.2024 − 31.12.2024</td>\n      <td>NaN</td>\n      <td>NaN</td>\n      <td>...</td>\n      <td>0</td>\n      <td>0</td>\n      <td>0</td>\n      <td>0</td>\n      <td>0</td>\n      <td>0</td>\n      <td>0</td>\n      <td>0</td>\n      <td>0</td>\n      <td>0</td>\n    </tr>\n    <tr>\n      <th>2</th>\n      <td>https://camping.ch/de/campingplatz/freiburg-ne...</td>\n      <td>Camping de la Forêt</td>\n      <td>1642 Sorens (FR)</td>\n      <td>NaN</td>\n      <td>4</td>\n      <td>4</td>\n      <td>50.0</td>\n      <td>15.04.2024 − 15.10.2024</td>\n      <td>NaN</td>\n      <td>NaN</td>\n      <td>...</td>\n      <td>0</td>\n      <td>0</td>\n      <td>0</td>\n      <td>0</td>\n      <td>0</td>\n      <td>1</td>\n      <td>1</td>\n      <td>1</td>\n      <td>0</td>\n      <td>1</td>\n    </tr>\n    <tr>\n      <th>3</th>\n      <td>https://camping.ch/de/campingplatz/graubuenden...</td>\n      <td>Sur En / Sent</td>\n      <td>7554 Sur En / Sent (GR)</td>\n      <td>NaN</td>\n      <td>4</td>\n      <td>4</td>\n      <td>120.0</td>\n      <td>01.01.2024 − 31.12.2024</td>\n      <td>NaN</td>\n      <td>NaN</td>\n      <td>...</td>\n      <td>0</td>\n      <td>0</td>\n      <td>0</td>\n      <td>0</td>\n      <td>0</td>\n      <td>1</td>\n      <td>0</td>\n      <td>0</td>\n      <td>1</td>\n      <td>1</td>\n    </tr>\n    <tr>\n      <th>4</th>\n      <td>https://camping.ch/de/campingplatz/wallis/evol...</td>\n      <td>Evolène</td>\n      <td>1983 Evolène (VS)</td>\n      <td>NaN</td>\n      <td>3</td>\n      <td>1</td>\n      <td>65.0</td>\n      <td>15.05.2024 − 15.10.2024</td>\n      <td>NaN</td>\n      <td>NaN</td>\n      <td>...</td>\n      <td>0</td>\n      <td>0</td>\n      <td>1</td>\n      <td>0</td>\n      <td>0</td>\n      <td>1</td>\n      <td>0</td>\n      <td>0</td>\n      <td>0</td>\n      <td>0</td>\n    </tr>\n    <tr>\n      <th>...</th>\n      <td>...</td>\n      <td>...</td>\n      <td>...</td>\n      <td>...</td>\n      <td>...</td>\n      <td>...</td>\n      <td>...</td>\n      <td>...</td>\n      <td>...</td>\n      <td>...</td>\n      <td>...</td>\n      <td>...</td>\n      <td>...</td>\n      <td>...</td>\n      <td>...</td>\n      <td>...</td>\n      <td>...</td>\n      <td>...</td>\n      <td>...</td>\n      <td>...</td>\n      <td>...</td>\n    </tr>\n    <tr>\n      <th>372</th>\n      <td>https://camping.ch/de/campingplatz/berner-ober...</td>\n      <td>Alpencamping</td>\n      <td>3860 Meiringen (BE)</td>\n      <td>www.alpencamping.ch</td>\n      <td>4</td>\n      <td>11</td>\n      <td>34.0</td>\n      <td>01.01.2024 − 31.12.2024</td>\n      <td>NaN</td>\n      <td>NaN</td>\n      <td>...</td>\n      <td>0</td>\n      <td>0</td>\n      <td>0</td>\n      <td>0</td>\n      <td>0</td>\n      <td>1</td>\n      <td>1</td>\n      <td>1</td>\n      <td>1</td>\n      <td>1</td>\n    </tr>\n    <tr>\n      <th>373</th>\n      <td>https://camping.ch/de/campingplatz/wallis/fies...</td>\n      <td>Eggishorn</td>\n      <td>3984 Fiesch (VS)</td>\n      <td>NaN</td>\n      <td>4</td>\n      <td>6</td>\n      <td>127.0</td>\n      <td>01.01.2024 − 31.12.2024</td>\n      <td>NaN</td>\n      <td>NaN</td>\n      <td>...</td>\n      <td>0</td>\n      <td>0</td>\n      <td>1</td>\n      <td>0</td>\n      <td>0</td>\n      <td>1</td>\n      <td>1</td>\n      <td>1</td>\n      <td>1</td>\n      <td>1</td>\n    </tr>\n    <tr>\n      <th>374</th>\n      <td>https://camping.ch/de/campingplatz/berner-ober...</td>\n      <td>Camping Hobby 3</td>\n      <td>3800 Unterseen-Interlaken (BE)</td>\n      <td>NaN</td>\n      <td>4</td>\n      <td>11</td>\n      <td>80.0</td>\n      <td>01.04.2024 − 04.10.2024</td>\n      <td>NaN</td>\n      <td>NaN</td>\n      <td>...</td>\n      <td>0</td>\n      <td>0</td>\n      <td>0</td>\n      <td>0</td>\n      <td>0</td>\n      <td>1</td>\n      <td>0</td>\n      <td>1</td>\n      <td>1</td>\n      <td>1</td>\n    </tr>\n    <tr>\n      <th>375</th>\n      <td>https://camping.ch/de/campingplatz/tessin/meri...</td>\n      <td>Camping Monte San Giorgio</td>\n      <td>6866 Meride (TI)</td>\n      <td>NaN</td>\n      <td>4</td>\n      <td>8</td>\n      <td>64.0</td>\n      <td>19.04.2024 − 29.09.2024</td>\n      <td>NaN</td>\n      <td>NaN</td>\n      <td>...</td>\n      <td>1</td>\n      <td>0</td>\n      <td>0</td>\n      <td>0</td>\n      <td>0</td>\n      <td>1</td>\n      <td>0</td>\n      <td>0</td>\n      <td>1</td>\n      <td>2</td>\n    </tr>\n    <tr>\n      <th>376</th>\n      <td>https://camping.ch/de/campingplatz/freiburg-ne...</td>\n      <td>Nouvelle Plage</td>\n      <td>1470 Estavayer-Le-Lac (FR)</td>\n      <td>NaN</td>\n      <td>3</td>\n      <td>3</td>\n      <td>60.0</td>\n      <td>25.03.2024 − 20.10.2024</td>\n      <td>NaN</td>\n      <td>NaN</td>\n      <td>...</td>\n      <td>0</td>\n      <td>0</td>\n      <td>0</td>\n      <td>0</td>\n      <td>0</td>\n      <td>1</td>\n      <td>0</td>\n      <td>0</td>\n      <td>1</td>\n      <td>0</td>\n    </tr>\n  </tbody>\n</table>\n<p>377 rows × 69 columns</p>\n</div>"
     },
     "execution_count": 126,
     "metadata": {},
     "output_type": "execute_result"
    }
   ],
   "source": [
    "df_camping"
   ],
   "metadata": {
    "collapsed": false
   }
  },
  {
   "cell_type": "code",
   "execution_count": 127,
   "outputs": [
    {
     "data": {
      "text/plain": "url                     object\nname                    object\nlocality                object\nwebsite                 object\nstar category            int64\n                         ...  \nwashing and dryer        int64\ngastronomy               int64\nshop                     int64\ncamping by the water     int64\nmemberships              int64\nLength: 69, dtype: object"
     },
     "execution_count": 127,
     "metadata": {},
     "output_type": "execute_result"
    }
   ],
   "source": [
    "df_camping.dtypes"
   ],
   "metadata": {
    "collapsed": false
   }
  },
  {
   "cell_type": "markdown",
   "source": [
    "# Manuelle Daten (Preis)\n",
    "## Import"
   ],
   "metadata": {
    "collapsed": false
   }
  },
  {
   "cell_type": "code",
   "execution_count": 128,
   "outputs": [
    {
     "data": {
      "text/plain": "                                                   url  \\\n0    https://camping.ch/de/campingplatz/graubuenden...   \n1    https://camping.ch/de/campingplatz/graubuenden...   \n2    https://camping.ch/de/campingplatz/graubuenden...   \n3    https://camping.ch/de/campingplatz/graubuenden...   \n4    https://camping.ch/de/campingplatz/graubuenden...   \n..                                                 ...   \n826  https://camping.ch/de/campingplatz/berner-mite...   \n827  https://camping.ch/de/campingplatz/berner-mite...   \n828  https://camping.ch/de/campingplatz/berner-mite...   \n829  https://camping.ch/de/campingplatz/berner-mite...   \n830  https://camping.ch/de/campingplatz/berner-mite...   \n\n                                            Preisseite   Latitude  Longitude  \\\n0    https://camping-lenzerheide.ch/de/camping-grav...  46.722760   9.555440   \n1    https://camping-lenzerheide.ch/de/camping-grav...  46.722760   9.555440   \n2    https://camping-lenzerheide.ch/de/camping-grav...  46.722760   9.555440   \n3    https://camping-lenzerheide.ch/de/camping-grav...  46.722760   9.555440   \n4    https://camping-lenzerheide.ch/de/camping-st-c...  46.698692   9.558404   \n..                                                 ...        ...        ...   \n826  https://www.camping-lindenhof.ch/de/tarife-inf...  47.093373   7.210469   \n827  https://www.camping-lindenhof.ch/de/tarife-inf...  47.093373   7.210469   \n828                    https://seeland-camp.ch/preise/  47.162189   7.346157   \n829                    https://seeland-camp.ch/preise/  47.162189   7.346157   \n830  https://camping.ch/de/campingplatz/berner-mite...  46.785982   7.403469   \n\n     pitch on the shore  other accommodation  small pitch (<80 m2)  \\\n0                   0.0                  1.0                     1   \n1                   0.0                  1.0                     0   \n2                   0.0                  1.0                     1   \n3                   0.0                  1.0                     0   \n4                   0.0                  1.0                     1   \n..                  ...                  ...                   ...   \n826                 0.0                  0.0                     1   \n827                 0.0                  0.0                     0   \n828                 0.0                  0.0                     1   \n829                 0.0                  0.0                     1   \n830                 0.0                  0.0                     1   \n\n     medium pitch  (~100 m2)  large pitch  (>110 m2)  main season  low season  \\\n0                          0                       0            1           0   \n1                          1                       0            1           0   \n2                          0                       0            0           1   \n3                          1                       0            0           1   \n4                          0                       0            1           0   \n..                       ...                     ...          ...         ...   \n826                        0                       0            1           1   \n827                        1                       0            1           1   \n828                        0                       0            0           1   \n829                        0                       0            1           0   \n830                        0                       0            1           1   \n\n     total_price  \n0           38.0  \n1           43.0  \n2           40.0  \n3           45.0  \n4           37.0  \n..           ...  \n826         31.2  \n827         37.2  \n828         26.7  \n829         28.7  \n830         30.5  \n\n[831 rows x 12 columns]",
      "text/html": "<div>\n<style scoped>\n    .dataframe tbody tr th:only-of-type {\n        vertical-align: middle;\n    }\n\n    .dataframe tbody tr th {\n        vertical-align: top;\n    }\n\n    .dataframe thead th {\n        text-align: right;\n    }\n</style>\n<table border=\"1\" class=\"dataframe\">\n  <thead>\n    <tr style=\"text-align: right;\">\n      <th></th>\n      <th>url</th>\n      <th>Preisseite</th>\n      <th>Latitude</th>\n      <th>Longitude</th>\n      <th>pitch on the shore</th>\n      <th>other accommodation</th>\n      <th>small pitch (&lt;80 m2)</th>\n      <th>medium pitch  (~100 m2)</th>\n      <th>large pitch  (&gt;110 m2)</th>\n      <th>main season</th>\n      <th>low season</th>\n      <th>total_price</th>\n    </tr>\n  </thead>\n  <tbody>\n    <tr>\n      <th>0</th>\n      <td>https://camping.ch/de/campingplatz/graubuenden...</td>\n      <td>https://camping-lenzerheide.ch/de/camping-grav...</td>\n      <td>46.722760</td>\n      <td>9.555440</td>\n      <td>0.0</td>\n      <td>1.0</td>\n      <td>1</td>\n      <td>0</td>\n      <td>0</td>\n      <td>1</td>\n      <td>0</td>\n      <td>38.0</td>\n    </tr>\n    <tr>\n      <th>1</th>\n      <td>https://camping.ch/de/campingplatz/graubuenden...</td>\n      <td>https://camping-lenzerheide.ch/de/camping-grav...</td>\n      <td>46.722760</td>\n      <td>9.555440</td>\n      <td>0.0</td>\n      <td>1.0</td>\n      <td>0</td>\n      <td>1</td>\n      <td>0</td>\n      <td>1</td>\n      <td>0</td>\n      <td>43.0</td>\n    </tr>\n    <tr>\n      <th>2</th>\n      <td>https://camping.ch/de/campingplatz/graubuenden...</td>\n      <td>https://camping-lenzerheide.ch/de/camping-grav...</td>\n      <td>46.722760</td>\n      <td>9.555440</td>\n      <td>0.0</td>\n      <td>1.0</td>\n      <td>1</td>\n      <td>0</td>\n      <td>0</td>\n      <td>0</td>\n      <td>1</td>\n      <td>40.0</td>\n    </tr>\n    <tr>\n      <th>3</th>\n      <td>https://camping.ch/de/campingplatz/graubuenden...</td>\n      <td>https://camping-lenzerheide.ch/de/camping-grav...</td>\n      <td>46.722760</td>\n      <td>9.555440</td>\n      <td>0.0</td>\n      <td>1.0</td>\n      <td>0</td>\n      <td>1</td>\n      <td>0</td>\n      <td>0</td>\n      <td>1</td>\n      <td>45.0</td>\n    </tr>\n    <tr>\n      <th>4</th>\n      <td>https://camping.ch/de/campingplatz/graubuenden...</td>\n      <td>https://camping-lenzerheide.ch/de/camping-st-c...</td>\n      <td>46.698692</td>\n      <td>9.558404</td>\n      <td>0.0</td>\n      <td>1.0</td>\n      <td>1</td>\n      <td>0</td>\n      <td>0</td>\n      <td>1</td>\n      <td>0</td>\n      <td>37.0</td>\n    </tr>\n    <tr>\n      <th>...</th>\n      <td>...</td>\n      <td>...</td>\n      <td>...</td>\n      <td>...</td>\n      <td>...</td>\n      <td>...</td>\n      <td>...</td>\n      <td>...</td>\n      <td>...</td>\n      <td>...</td>\n      <td>...</td>\n      <td>...</td>\n    </tr>\n    <tr>\n      <th>826</th>\n      <td>https://camping.ch/de/campingplatz/berner-mite...</td>\n      <td>https://www.camping-lindenhof.ch/de/tarife-inf...</td>\n      <td>47.093373</td>\n      <td>7.210469</td>\n      <td>0.0</td>\n      <td>0.0</td>\n      <td>1</td>\n      <td>0</td>\n      <td>0</td>\n      <td>1</td>\n      <td>1</td>\n      <td>31.2</td>\n    </tr>\n    <tr>\n      <th>827</th>\n      <td>https://camping.ch/de/campingplatz/berner-mite...</td>\n      <td>https://www.camping-lindenhof.ch/de/tarife-inf...</td>\n      <td>47.093373</td>\n      <td>7.210469</td>\n      <td>0.0</td>\n      <td>0.0</td>\n      <td>0</td>\n      <td>1</td>\n      <td>0</td>\n      <td>1</td>\n      <td>1</td>\n      <td>37.2</td>\n    </tr>\n    <tr>\n      <th>828</th>\n      <td>https://camping.ch/de/campingplatz/berner-mite...</td>\n      <td>https://seeland-camp.ch/preise/</td>\n      <td>47.162189</td>\n      <td>7.346157</td>\n      <td>0.0</td>\n      <td>0.0</td>\n      <td>1</td>\n      <td>0</td>\n      <td>0</td>\n      <td>0</td>\n      <td>1</td>\n      <td>26.7</td>\n    </tr>\n    <tr>\n      <th>829</th>\n      <td>https://camping.ch/de/campingplatz/berner-mite...</td>\n      <td>https://seeland-camp.ch/preise/</td>\n      <td>47.162189</td>\n      <td>7.346157</td>\n      <td>0.0</td>\n      <td>0.0</td>\n      <td>1</td>\n      <td>0</td>\n      <td>0</td>\n      <td>1</td>\n      <td>0</td>\n      <td>28.7</td>\n    </tr>\n    <tr>\n      <th>830</th>\n      <td>https://camping.ch/de/campingplatz/berner-mite...</td>\n      <td>https://camping.ch/de/campingplatz/berner-mite...</td>\n      <td>46.785982</td>\n      <td>7.403469</td>\n      <td>0.0</td>\n      <td>0.0</td>\n      <td>1</td>\n      <td>0</td>\n      <td>0</td>\n      <td>1</td>\n      <td>1</td>\n      <td>30.5</td>\n    </tr>\n  </tbody>\n</table>\n<p>831 rows × 12 columns</p>\n</div>"
     },
     "execution_count": 128,
     "metadata": {},
     "output_type": "execute_result"
    }
   ],
   "source": [
    "df_price = pd.read_csv('rohdaten_preis.csv', encoding='utf-8', sep=';')\n",
    "df_price"
   ],
   "metadata": {
    "collapsed": false
   }
  },
  {
   "cell_type": "markdown",
   "source": [
    "### Leere Zeilen löschen"
   ],
   "metadata": {
    "collapsed": false
   }
  },
  {
   "cell_type": "code",
   "execution_count": 129,
   "outputs": [
    {
     "data": {
      "text/plain": "831"
     },
     "execution_count": 129,
     "metadata": {},
     "output_type": "execute_result"
    }
   ],
   "source": [
    "len(df_price)"
   ],
   "metadata": {
    "collapsed": false
   }
  },
  {
   "cell_type": "code",
   "execution_count": 130,
   "outputs": [],
   "source": [
    "# alle Zeilen, welche keinen Preis hinterlegt haben, werden gelöscht\n",
    "df_price = df_price[df_price['total_price'] != 0]"
   ],
   "metadata": {
    "collapsed": false
   }
  },
  {
   "cell_type": "code",
   "execution_count": 131,
   "outputs": [
    {
     "data": {
      "text/plain": "806"
     },
     "execution_count": 131,
     "metadata": {},
     "output_type": "execute_result"
    }
   ],
   "source": [
    "len(df_price)"
   ],
   "metadata": {
    "collapsed": false
   }
  },
  {
   "cell_type": "markdown",
   "source": [
    "## Format prüfen"
   ],
   "metadata": {
    "collapsed": false
   }
  },
  {
   "cell_type": "code",
   "execution_count": 132,
   "outputs": [
    {
     "data": {
      "text/plain": "url                         object\nPreisseite                  object\nLatitude                   float64\nLongitude                  float64\npitch on the shore         float64\nother accommodation        float64\nsmall pitch (<80 m2)         int64\nmedium pitch  (~100 m2)      int64\nlarge pitch  (>110 m2)       int64\nmain season                  int64\nlow season                   int64\ntotal_price                float64\ndtype: object"
     },
     "execution_count": 132,
     "metadata": {},
     "output_type": "execute_result"
    }
   ],
   "source": [
    "df_price.dtypes"
   ],
   "metadata": {
    "collapsed": false
   }
  },
  {
   "cell_type": "code",
   "execution_count": 133,
   "outputs": [
    {
     "name": "stderr",
     "output_type": "stream",
     "text": [
      "C:\\Users\\sarak\\AppData\\Local\\Temp\\ipykernel_17468\\849041600.py:1: SettingWithCopyWarning: \n",
      "A value is trying to be set on a copy of a slice from a DataFrame.\n",
      "Try using .loc[row_indexer,col_indexer] = value instead\n",
      "\n",
      "See the caveats in the documentation: https://pandas.pydata.org/pandas-docs/stable/user_guide/indexing.html#returning-a-view-versus-a-copy\n",
      "  df_price['pitch on the shore'] = df_price['pitch on the shore'].astype(int)\n",
      "C:\\Users\\sarak\\AppData\\Local\\Temp\\ipykernel_17468\\849041600.py:2: SettingWithCopyWarning: \n",
      "A value is trying to be set on a copy of a slice from a DataFrame.\n",
      "Try using .loc[row_indexer,col_indexer] = value instead\n",
      "\n",
      "See the caveats in the documentation: https://pandas.pydata.org/pandas-docs/stable/user_guide/indexing.html#returning-a-view-versus-a-copy\n",
      "  df_price['other accommodation'] = df_price['other accommodation'].astype(int)\n"
     ]
    },
    {
     "data": {
      "text/plain": "url                         object\nPreisseite                  object\nLatitude                   float64\nLongitude                  float64\npitch on the shore           int32\nother accommodation          int32\nsmall pitch (<80 m2)         int64\nmedium pitch  (~100 m2)      int64\nlarge pitch  (>110 m2)       int64\nmain season                  int64\nlow season                   int64\ntotal_price                float64\ndtype: object"
     },
     "execution_count": 133,
     "metadata": {},
     "output_type": "execute_result"
    }
   ],
   "source": [
    "df_price['pitch on the shore'] = df_price['pitch on the shore'].astype(int)\n",
    "df_price['other accommodation'] = df_price['other accommodation'].astype(int)\n",
    "df_price.dtypes"
   ],
   "metadata": {
    "collapsed": false
   }
  },
  {
   "cell_type": "markdown",
   "source": [
    "# Zusammenführen der Tabellen"
   ],
   "metadata": {
    "collapsed": false
   }
  },
  {
   "cell_type": "code",
   "execution_count": 134,
   "outputs": [],
   "source": [
    "# Basisliste ist manuell erstellte Liste (df_price)\n",
    "df_camping_all  = pd.merge(df_price, df_camping, on='url', how='left')"
   ],
   "metadata": {
    "collapsed": false
   }
  },
  {
   "cell_type": "code",
   "execution_count": 135,
   "outputs": [
    {
     "data": {
      "text/plain": "                                                   url  \\\n0    https://camping.ch/de/campingplatz/graubuenden...   \n1    https://camping.ch/de/campingplatz/graubuenden...   \n2    https://camping.ch/de/campingplatz/graubuenden...   \n3    https://camping.ch/de/campingplatz/graubuenden...   \n4    https://camping.ch/de/campingplatz/graubuenden...   \n..                                                 ...   \n801  https://camping.ch/de/campingplatz/berner-mite...   \n802  https://camping.ch/de/campingplatz/berner-mite...   \n803  https://camping.ch/de/campingplatz/berner-mite...   \n804  https://camping.ch/de/campingplatz/berner-mite...   \n805  https://camping.ch/de/campingplatz/berner-mite...   \n\n                                            Preisseite   Latitude  Longitude  \\\n0    https://camping-lenzerheide.ch/de/camping-grav...  46.722760   9.555440   \n1    https://camping-lenzerheide.ch/de/camping-grav...  46.722760   9.555440   \n2    https://camping-lenzerheide.ch/de/camping-grav...  46.722760   9.555440   \n3    https://camping-lenzerheide.ch/de/camping-grav...  46.722760   9.555440   \n4    https://camping-lenzerheide.ch/de/camping-st-c...  46.698692   9.558404   \n..                                                 ...        ...        ...   \n801  https://www.camping-lindenhof.ch/de/tarife-inf...  47.093373   7.210469   \n802  https://www.camping-lindenhof.ch/de/tarife-inf...  47.093373   7.210469   \n803                    https://seeland-camp.ch/preise/  47.162189   7.346157   \n804                    https://seeland-camp.ch/preise/  47.162189   7.346157   \n805  https://camping.ch/de/campingplatz/berner-mite...  46.785982   7.403469   \n\n     pitch on the shore  other accommodation  small pitch (<80 m2)  \\\n0                     0                    1                     1   \n1                     0                    1                     0   \n2                     0                    1                     1   \n3                     0                    1                     0   \n4                     0                    1                     1   \n..                  ...                  ...                   ...   \n801                   0                    0                     1   \n802                   0                    0                     0   \n803                   0                    0                     1   \n804                   0                    0                     1   \n805                   0                    0                     1   \n\n     medium pitch  (~100 m2)  large pitch  (>110 m2)  main season  ...  \\\n0                          0                       0            1  ...   \n1                          1                       0            1  ...   \n2                          0                       0            0  ...   \n3                          1                       0            0  ...   \n4                          0                       0            1  ...   \n..                       ...                     ...          ...  ...   \n801                        0                       0            1  ...   \n802                        1                       0            1  ...   \n803                        0                       0            0  ...   \n804                        0                       0            1  ...   \n805                        0                       0            1  ...   \n\n     region_tessin  region_waadt-genfersee region_wallis  \\\n0                0                       0             0   \n1                0                       0             0   \n2                0                       0             0   \n3                0                       0             0   \n4                0                       0             0   \n..             ...                     ...           ...   \n801              0                       0             0   \n802              0                       0             0   \n803              0                       0             0   \n804              0                       0             0   \n805              0                       0             0   \n\n    region_zentralschweiz region_zuerich  washing and dryer  gastronomy  shop  \\\n0                       0              0                  1           0     0   \n1                       0              0                  1           0     0   \n2                       0              0                  1           0     0   \n3                       0              0                  1           0     0   \n4                       0              0                  1           1     0   \n..                    ...            ...                ...         ...   ...   \n801                     0              0                  1           0     0   \n802                     0              0                  1           0     0   \n803                     0              0                  1           0     0   \n804                     0              0                  1           0     0   \n805                     0              0                  1           0     0   \n\n    camping by the water memberships  \n0                      1           1  \n1                      1           1  \n2                      1           1  \n3                      1           1  \n4                      0           1  \n..                   ...         ...  \n801                    1           0  \n802                    1           0  \n803                    0           1  \n804                    0           1  \n805                    1           2  \n\n[806 rows x 80 columns]",
      "text/html": "<div>\n<style scoped>\n    .dataframe tbody tr th:only-of-type {\n        vertical-align: middle;\n    }\n\n    .dataframe tbody tr th {\n        vertical-align: top;\n    }\n\n    .dataframe thead th {\n        text-align: right;\n    }\n</style>\n<table border=\"1\" class=\"dataframe\">\n  <thead>\n    <tr style=\"text-align: right;\">\n      <th></th>\n      <th>url</th>\n      <th>Preisseite</th>\n      <th>Latitude</th>\n      <th>Longitude</th>\n      <th>pitch on the shore</th>\n      <th>other accommodation</th>\n      <th>small pitch (&lt;80 m2)</th>\n      <th>medium pitch  (~100 m2)</th>\n      <th>large pitch  (&gt;110 m2)</th>\n      <th>main season</th>\n      <th>...</th>\n      <th>region_tessin</th>\n      <th>region_waadt-genfersee</th>\n      <th>region_wallis</th>\n      <th>region_zentralschweiz</th>\n      <th>region_zuerich</th>\n      <th>washing and dryer</th>\n      <th>gastronomy</th>\n      <th>shop</th>\n      <th>camping by the water</th>\n      <th>memberships</th>\n    </tr>\n  </thead>\n  <tbody>\n    <tr>\n      <th>0</th>\n      <td>https://camping.ch/de/campingplatz/graubuenden...</td>\n      <td>https://camping-lenzerheide.ch/de/camping-grav...</td>\n      <td>46.722760</td>\n      <td>9.555440</td>\n      <td>0</td>\n      <td>1</td>\n      <td>1</td>\n      <td>0</td>\n      <td>0</td>\n      <td>1</td>\n      <td>...</td>\n      <td>0</td>\n      <td>0</td>\n      <td>0</td>\n      <td>0</td>\n      <td>0</td>\n      <td>1</td>\n      <td>0</td>\n      <td>0</td>\n      <td>1</td>\n      <td>1</td>\n    </tr>\n    <tr>\n      <th>1</th>\n      <td>https://camping.ch/de/campingplatz/graubuenden...</td>\n      <td>https://camping-lenzerheide.ch/de/camping-grav...</td>\n      <td>46.722760</td>\n      <td>9.555440</td>\n      <td>0</td>\n      <td>1</td>\n      <td>0</td>\n      <td>1</td>\n      <td>0</td>\n      <td>1</td>\n      <td>...</td>\n      <td>0</td>\n      <td>0</td>\n      <td>0</td>\n      <td>0</td>\n      <td>0</td>\n      <td>1</td>\n      <td>0</td>\n      <td>0</td>\n      <td>1</td>\n      <td>1</td>\n    </tr>\n    <tr>\n      <th>2</th>\n      <td>https://camping.ch/de/campingplatz/graubuenden...</td>\n      <td>https://camping-lenzerheide.ch/de/camping-grav...</td>\n      <td>46.722760</td>\n      <td>9.555440</td>\n      <td>0</td>\n      <td>1</td>\n      <td>1</td>\n      <td>0</td>\n      <td>0</td>\n      <td>0</td>\n      <td>...</td>\n      <td>0</td>\n      <td>0</td>\n      <td>0</td>\n      <td>0</td>\n      <td>0</td>\n      <td>1</td>\n      <td>0</td>\n      <td>0</td>\n      <td>1</td>\n      <td>1</td>\n    </tr>\n    <tr>\n      <th>3</th>\n      <td>https://camping.ch/de/campingplatz/graubuenden...</td>\n      <td>https://camping-lenzerheide.ch/de/camping-grav...</td>\n      <td>46.722760</td>\n      <td>9.555440</td>\n      <td>0</td>\n      <td>1</td>\n      <td>0</td>\n      <td>1</td>\n      <td>0</td>\n      <td>0</td>\n      <td>...</td>\n      <td>0</td>\n      <td>0</td>\n      <td>0</td>\n      <td>0</td>\n      <td>0</td>\n      <td>1</td>\n      <td>0</td>\n      <td>0</td>\n      <td>1</td>\n      <td>1</td>\n    </tr>\n    <tr>\n      <th>4</th>\n      <td>https://camping.ch/de/campingplatz/graubuenden...</td>\n      <td>https://camping-lenzerheide.ch/de/camping-st-c...</td>\n      <td>46.698692</td>\n      <td>9.558404</td>\n      <td>0</td>\n      <td>1</td>\n      <td>1</td>\n      <td>0</td>\n      <td>0</td>\n      <td>1</td>\n      <td>...</td>\n      <td>0</td>\n      <td>0</td>\n      <td>0</td>\n      <td>0</td>\n      <td>0</td>\n      <td>1</td>\n      <td>1</td>\n      <td>0</td>\n      <td>0</td>\n      <td>1</td>\n    </tr>\n    <tr>\n      <th>...</th>\n      <td>...</td>\n      <td>...</td>\n      <td>...</td>\n      <td>...</td>\n      <td>...</td>\n      <td>...</td>\n      <td>...</td>\n      <td>...</td>\n      <td>...</td>\n      <td>...</td>\n      <td>...</td>\n      <td>...</td>\n      <td>...</td>\n      <td>...</td>\n      <td>...</td>\n      <td>...</td>\n      <td>...</td>\n      <td>...</td>\n      <td>...</td>\n      <td>...</td>\n      <td>...</td>\n    </tr>\n    <tr>\n      <th>801</th>\n      <td>https://camping.ch/de/campingplatz/berner-mite...</td>\n      <td>https://www.camping-lindenhof.ch/de/tarife-inf...</td>\n      <td>47.093373</td>\n      <td>7.210469</td>\n      <td>0</td>\n      <td>0</td>\n      <td>1</td>\n      <td>0</td>\n      <td>0</td>\n      <td>1</td>\n      <td>...</td>\n      <td>0</td>\n      <td>0</td>\n      <td>0</td>\n      <td>0</td>\n      <td>0</td>\n      <td>1</td>\n      <td>0</td>\n      <td>0</td>\n      <td>1</td>\n      <td>0</td>\n    </tr>\n    <tr>\n      <th>802</th>\n      <td>https://camping.ch/de/campingplatz/berner-mite...</td>\n      <td>https://www.camping-lindenhof.ch/de/tarife-inf...</td>\n      <td>47.093373</td>\n      <td>7.210469</td>\n      <td>0</td>\n      <td>0</td>\n      <td>0</td>\n      <td>1</td>\n      <td>0</td>\n      <td>1</td>\n      <td>...</td>\n      <td>0</td>\n      <td>0</td>\n      <td>0</td>\n      <td>0</td>\n      <td>0</td>\n      <td>1</td>\n      <td>0</td>\n      <td>0</td>\n      <td>1</td>\n      <td>0</td>\n    </tr>\n    <tr>\n      <th>803</th>\n      <td>https://camping.ch/de/campingplatz/berner-mite...</td>\n      <td>https://seeland-camp.ch/preise/</td>\n      <td>47.162189</td>\n      <td>7.346157</td>\n      <td>0</td>\n      <td>0</td>\n      <td>1</td>\n      <td>0</td>\n      <td>0</td>\n      <td>0</td>\n      <td>...</td>\n      <td>0</td>\n      <td>0</td>\n      <td>0</td>\n      <td>0</td>\n      <td>0</td>\n      <td>1</td>\n      <td>0</td>\n      <td>0</td>\n      <td>0</td>\n      <td>1</td>\n    </tr>\n    <tr>\n      <th>804</th>\n      <td>https://camping.ch/de/campingplatz/berner-mite...</td>\n      <td>https://seeland-camp.ch/preise/</td>\n      <td>47.162189</td>\n      <td>7.346157</td>\n      <td>0</td>\n      <td>0</td>\n      <td>1</td>\n      <td>0</td>\n      <td>0</td>\n      <td>1</td>\n      <td>...</td>\n      <td>0</td>\n      <td>0</td>\n      <td>0</td>\n      <td>0</td>\n      <td>0</td>\n      <td>1</td>\n      <td>0</td>\n      <td>0</td>\n      <td>0</td>\n      <td>1</td>\n    </tr>\n    <tr>\n      <th>805</th>\n      <td>https://camping.ch/de/campingplatz/berner-mite...</td>\n      <td>https://camping.ch/de/campingplatz/berner-mite...</td>\n      <td>46.785982</td>\n      <td>7.403469</td>\n      <td>0</td>\n      <td>0</td>\n      <td>1</td>\n      <td>0</td>\n      <td>0</td>\n      <td>1</td>\n      <td>...</td>\n      <td>0</td>\n      <td>0</td>\n      <td>0</td>\n      <td>0</td>\n      <td>0</td>\n      <td>1</td>\n      <td>0</td>\n      <td>0</td>\n      <td>1</td>\n      <td>2</td>\n    </tr>\n  </tbody>\n</table>\n<p>806 rows × 80 columns</p>\n</div>"
     },
     "execution_count": 135,
     "metadata": {},
     "output_type": "execute_result"
    }
   ],
   "source": [
    "df_camping_all"
   ],
   "metadata": {
    "collapsed": false
   }
  },
  {
   "cell_type": "code",
   "execution_count": 136,
   "outputs": [
    {
     "data": {
      "text/plain": "806"
     },
     "execution_count": 136,
     "metadata": {},
     "output_type": "execute_result"
    }
   ],
   "source": [
    "len(df_camping_all)"
   ],
   "metadata": {
    "collapsed": false
   }
  },
  {
   "cell_type": "code",
   "execution_count": 137,
   "outputs": [],
   "source": [
    "# Bearbeitete Daten als CSV speichern\n",
    "df_camping_all.to_csv('df_camping_all.csv', encoding='utf-8', index=False)"
   ],
   "metadata": {
    "collapsed": false
   }
  },
  {
   "cell_type": "code",
   "execution_count": 138,
   "outputs": [
    {
     "name": "stdout",
     "output_type": "stream",
     "text": [
      "<class 'pandas.core.frame.DataFrame'>\n",
      "RangeIndex: 806 entries, 0 to 805\n",
      "Data columns (total 80 columns):\n",
      " #   Column                           Non-Null Count  Dtype  \n",
      "---  ------                           --------------  -----  \n",
      " 0   url                              806 non-null    object \n",
      " 1   Preisseite                       806 non-null    object \n",
      " 2   Latitude                         806 non-null    float64\n",
      " 3   Longitude                        806 non-null    float64\n",
      " 4   pitch on the shore               806 non-null    int32  \n",
      " 5   other accommodation              806 non-null    int32  \n",
      " 6   small pitch (<80 m2)             806 non-null    int64  \n",
      " 7   medium pitch  (~100 m2)          806 non-null    int64  \n",
      " 8   large pitch  (>110 m2)           806 non-null    int64  \n",
      " 9   main season                      806 non-null    int64  \n",
      " 10  low season                       806 non-null    int64  \n",
      " 11  total_price                      806 non-null    float64\n",
      " 12  name                             806 non-null    object \n",
      " 13  locality                         806 non-null    object \n",
      " 14  website                          204 non-null    object \n",
      " 15  star category                    806 non-null    int64  \n",
      " 16  activities                       806 non-null    int64  \n",
      " 17  tourist pitches                  806 non-null    float64\n",
      " 18  open (seasons 1)                 806 non-null    object \n",
      " 19  open (seasons 2)                 98 non-null     object \n",
      " 20  open (seasons 3)                 68 non-null     object \n",
      " 21  open (seasons 4)                 6 non-null      object \n",
      " 22  open (seasons 5)                 2 non-null      object \n",
      " 23  open (seasons 6)                 2 non-null      object \n",
      " 24  open (seasons 7)                 0 non-null      float64\n",
      " 25  sport field                      806 non-null    int64  \n",
      " 26  golf                             806 non-null    int64  \n",
      " 27  tennis                           806 non-null    int64  \n",
      " 28  indoor swimming pool             806 non-null    int64  \n",
      " 29  unheated pool                    806 non-null    int64  \n",
      " 30  bathing facilities               806 non-null    int64  \n",
      " 31  baby pool                        806 non-null    int64  \n",
      " 32  boat rental                      806 non-null    int64  \n",
      " 33  bike rental                      806 non-null    int64  \n",
      " 34  entertainment                    806 non-null    int64  \n",
      " 35  playground                       806 non-null    int64  \n",
      " 36  disco                            806 non-null    int64  \n",
      " 37  wifi                             806 non-null    int64  \n",
      " 38  lounge                           806 non-null    int64  \n",
      " 39  info corner                      806 non-null    int64  \n",
      " 40  easy access for disabled people  806 non-null    int64  \n",
      " 41  animals allowed                  806 non-null    int64  \n",
      " 42  kitchen                          806 non-null    int64  \n",
      " 43  BBQ area                         806 non-null    int64  \n",
      " 44  restaurant                       806 non-null    int64  \n",
      " 45  take away                        806 non-null    int64  \n",
      " 46  shop with limited range          806 non-null    int64  \n",
      " 47  kiosk                            806 non-null    int64  \n",
      " 48  shopping centre                  806 non-null    int64  \n",
      " 49  shop with rich range             806 non-null    int64  \n",
      " 50  washing machine                  806 non-null    int64  \n",
      " 51  laundry dryer / tumble dryer     806 non-null    int64  \n",
      " 52  hiking                           806 non-null    int64  \n",
      " 53  lake with sandy beach            806 non-null    int64  \n",
      " 54  lake with stony beach            806 non-null    int64  \n",
      " 55  river                            806 non-null    int64  \n",
      " 56  train station                    806 non-null    int64  \n",
      " 57  bus                              806 non-null    int64  \n",
      " 58  VSC membership                   806 non-null    int64  \n",
      " 59  TCS membership                   806 non-null    int64  \n",
      " 60  SCCV membership                  806 non-null    int64  \n",
      " 61  open[day]                        806 non-null    int64  \n",
      " 62  open[%]                          806 non-null    float64\n",
      " 63  region                           806 non-null    object \n",
      " 64  region_berner-mitelland          806 non-null    int32  \n",
      " 65  region_berner-oberland           806 non-null    int32  \n",
      " 66  region_freiburg-neuenburg-jura   806 non-null    int32  \n",
      " 67  region_graubuenden               806 non-null    int32  \n",
      " 68  region_nordwestschweiz           806 non-null    int32  \n",
      " 69  region_ostschweiz                806 non-null    int32  \n",
      " 70  region_tessin                    806 non-null    int32  \n",
      " 71  region_waadt-genfersee           806 non-null    int32  \n",
      " 72  region_wallis                    806 non-null    int32  \n",
      " 73  region_zentralschweiz            806 non-null    int32  \n",
      " 74  region_zuerich                   806 non-null    int32  \n",
      " 75  washing and dryer                806 non-null    int64  \n",
      " 76  gastronomy                       806 non-null    int64  \n",
      " 77  shop                             806 non-null    int64  \n",
      " 78  camping by the water             806 non-null    int64  \n",
      " 79  memberships                      806 non-null    int64  \n",
      "dtypes: float64(6), int32(13), int64(49), object(12)\n",
      "memory usage: 462.9+ KB\n"
     ]
    }
   ],
   "source": [
    "df_camping_all.info()"
   ],
   "metadata": {
    "collapsed": false
   }
  },
  {
   "cell_type": "markdown",
   "source": [
    "### Aufbau verkürzter Tabelle"
   ],
   "metadata": {
    "collapsed": false
   }
  },
  {
   "cell_type": "code",
   "execution_count": 147,
   "outputs": [],
   "source": [
    "df_camping_clean =df_camping_all[['name', 'locality', 'Latitude', 'Longitude',\n",
    "\n",
    "                              'tourist pitches', 'other accommodation', 'small pitch (<80 m2)', 'medium pitch  (~100 m2)', 'large pitch  (>110 m2)', 'pitch on the shore', 'easy access for disabled people', 'animals allowed','washing and dryer', 'lounge',\n",
    "\n",
    "                              'kitchen', 'BBQ area','gastronomy', 'shop',\n",
    "\n",
    "                              'indoor swimming pool', 'unheated pool', 'bathing facilities', 'baby pool', 'sport field', 'golf', 'tennis', 'disco', 'wifi', 'playground', 'entertainment', 'boat rental', 'bike rental',\n",
    "\n",
    "                              'open[%]', 'total_price', 'info corner',\n",
    "\n",
    "                              'star category', 'memberships',\n",
    "\n",
    "                              'region', 'region_berner-mitelland','region_berner-oberland','region_freiburg-neuenburg-jura','region_graubuenden','region_nordwestschweiz','region_ostschweiz','region_tessin','region_waadt-genfersee','region_wallis','region_zentralschweiz','region_zuerich', 'main season', 'low season',\n",
    "\n",
    "                              'hiking', 'camping by the water', 'activities',\n",
    "\n",
    "                             'train station', 'bus',\n",
    "]]\n",
    "\n",
    "# Bearbeitete Daten als CSV speichern\n",
    "df_camping_clean.to_csv('camping_clean.csv', encoding='utf-8', index=False)"
   ],
   "metadata": {
    "collapsed": false
   }
  },
  {
   "cell_type": "code",
   "execution_count": 148,
   "outputs": [
    {
     "data": {
      "text/plain": "                         name                       locality   Latitude  \\\n0              Camping Gravas          7078 Lenzerheide (GR)  46.722760   \n1              Camping Gravas          7078 Lenzerheide (GR)  46.722760   \n2              Camping Gravas          7078 Lenzerheide (GR)  46.722760   \n3              Camping Gravas          7078 Lenzerheide (GR)  46.722760   \n4         Camping St. Cassian  7083 Lenz b. Lenzerheide (GR)  46.698692   \n..                        ...                            ...        ...   \n801                 Lindenhof    ch-2572 Sutz-Lattrigen (BE)  47.093373   \n802                 Lindenhof    ch-2572 Sutz-Lattrigen (BE)  47.093373   \n803              Seeland Camp           2554 Meinisberg (BE)  47.162189   \n804              Seeland Camp           2554 Meinisberg (BE)  47.162189   \n805  Camping Rüschegg-Heubach     3154 Rüschegg-Heubach (BE)  46.785982   \n\n     Longitude  tourist pitches  other accommodation  small pitch (<80 m2)  \\\n0     9.555440             35.0                    1                     1   \n1     9.555440             35.0                    1                     0   \n2     9.555440             35.0                    1                     1   \n3     9.555440             35.0                    1                     0   \n4     9.558404             70.0                    1                     1   \n..         ...              ...                  ...                   ...   \n801   7.210469             50.0                    0                     1   \n802   7.210469             50.0                    0                     0   \n803   7.346157             25.0                    0                     1   \n804   7.346157             25.0                    0                     1   \n805   7.403469             20.0                    0                     1   \n\n     medium pitch  (~100 m2)  large pitch  (>110 m2)  pitch on the shore  ...  \\\n0                          0                       0                   0  ...   \n1                          1                       0                   0  ...   \n2                          0                       0                   0  ...   \n3                          1                       0                   0  ...   \n4                          0                       0                   0  ...   \n..                       ...                     ...                 ...  ...   \n801                        0                       0                   0  ...   \n802                        1                       0                   0  ...   \n803                        0                       0                   0  ...   \n804                        0                       0                   0  ...   \n805                        0                       0                   0  ...   \n\n     region_wallis  region_zentralschweiz  region_zuerich  main season  \\\n0                0                      0               0            1   \n1                0                      0               0            1   \n2                0                      0               0            0   \n3                0                      0               0            0   \n4                0                      0               0            1   \n..             ...                    ...             ...          ...   \n801              0                      0               0            1   \n802              0                      0               0            1   \n803              0                      0               0            0   \n804              0                      0               0            1   \n805              0                      0               0            1   \n\n     low season  hiking  camping by the water  activities  train station  bus  \n0             0       1                     1           8              0    1  \n1             0       1                     1           8              0    1  \n2             1       1                     1           8              0    1  \n3             1       1                     1           8              0    1  \n4             0       1                     0           7              1    1  \n..          ...     ...                   ...         ...            ...  ...  \n801           1       0                     1           7              0    0  \n802           1       0                     1           7              0    0  \n803           1       0                     0           5              1    1  \n804           0       0                     0           5              1    1  \n805           1       1                     1           0              0    1  \n\n[806 rows x 55 columns]",
      "text/html": "<div>\n<style scoped>\n    .dataframe tbody tr th:only-of-type {\n        vertical-align: middle;\n    }\n\n    .dataframe tbody tr th {\n        vertical-align: top;\n    }\n\n    .dataframe thead th {\n        text-align: right;\n    }\n</style>\n<table border=\"1\" class=\"dataframe\">\n  <thead>\n    <tr style=\"text-align: right;\">\n      <th></th>\n      <th>name</th>\n      <th>locality</th>\n      <th>Latitude</th>\n      <th>Longitude</th>\n      <th>tourist pitches</th>\n      <th>other accommodation</th>\n      <th>small pitch (&lt;80 m2)</th>\n      <th>medium pitch  (~100 m2)</th>\n      <th>large pitch  (&gt;110 m2)</th>\n      <th>pitch on the shore</th>\n      <th>...</th>\n      <th>region_wallis</th>\n      <th>region_zentralschweiz</th>\n      <th>region_zuerich</th>\n      <th>main season</th>\n      <th>low season</th>\n      <th>hiking</th>\n      <th>camping by the water</th>\n      <th>activities</th>\n      <th>train station</th>\n      <th>bus</th>\n    </tr>\n  </thead>\n  <tbody>\n    <tr>\n      <th>0</th>\n      <td>Camping Gravas</td>\n      <td>7078 Lenzerheide (GR)</td>\n      <td>46.722760</td>\n      <td>9.555440</td>\n      <td>35.0</td>\n      <td>1</td>\n      <td>1</td>\n      <td>0</td>\n      <td>0</td>\n      <td>0</td>\n      <td>...</td>\n      <td>0</td>\n      <td>0</td>\n      <td>0</td>\n      <td>1</td>\n      <td>0</td>\n      <td>1</td>\n      <td>1</td>\n      <td>8</td>\n      <td>0</td>\n      <td>1</td>\n    </tr>\n    <tr>\n      <th>1</th>\n      <td>Camping Gravas</td>\n      <td>7078 Lenzerheide (GR)</td>\n      <td>46.722760</td>\n      <td>9.555440</td>\n      <td>35.0</td>\n      <td>1</td>\n      <td>0</td>\n      <td>1</td>\n      <td>0</td>\n      <td>0</td>\n      <td>...</td>\n      <td>0</td>\n      <td>0</td>\n      <td>0</td>\n      <td>1</td>\n      <td>0</td>\n      <td>1</td>\n      <td>1</td>\n      <td>8</td>\n      <td>0</td>\n      <td>1</td>\n    </tr>\n    <tr>\n      <th>2</th>\n      <td>Camping Gravas</td>\n      <td>7078 Lenzerheide (GR)</td>\n      <td>46.722760</td>\n      <td>9.555440</td>\n      <td>35.0</td>\n      <td>1</td>\n      <td>1</td>\n      <td>0</td>\n      <td>0</td>\n      <td>0</td>\n      <td>...</td>\n      <td>0</td>\n      <td>0</td>\n      <td>0</td>\n      <td>0</td>\n      <td>1</td>\n      <td>1</td>\n      <td>1</td>\n      <td>8</td>\n      <td>0</td>\n      <td>1</td>\n    </tr>\n    <tr>\n      <th>3</th>\n      <td>Camping Gravas</td>\n      <td>7078 Lenzerheide (GR)</td>\n      <td>46.722760</td>\n      <td>9.555440</td>\n      <td>35.0</td>\n      <td>1</td>\n      <td>0</td>\n      <td>1</td>\n      <td>0</td>\n      <td>0</td>\n      <td>...</td>\n      <td>0</td>\n      <td>0</td>\n      <td>0</td>\n      <td>0</td>\n      <td>1</td>\n      <td>1</td>\n      <td>1</td>\n      <td>8</td>\n      <td>0</td>\n      <td>1</td>\n    </tr>\n    <tr>\n      <th>4</th>\n      <td>Camping St. Cassian</td>\n      <td>7083 Lenz b. Lenzerheide (GR)</td>\n      <td>46.698692</td>\n      <td>9.558404</td>\n      <td>70.0</td>\n      <td>1</td>\n      <td>1</td>\n      <td>0</td>\n      <td>0</td>\n      <td>0</td>\n      <td>...</td>\n      <td>0</td>\n      <td>0</td>\n      <td>0</td>\n      <td>1</td>\n      <td>0</td>\n      <td>1</td>\n      <td>0</td>\n      <td>7</td>\n      <td>1</td>\n      <td>1</td>\n    </tr>\n    <tr>\n      <th>...</th>\n      <td>...</td>\n      <td>...</td>\n      <td>...</td>\n      <td>...</td>\n      <td>...</td>\n      <td>...</td>\n      <td>...</td>\n      <td>...</td>\n      <td>...</td>\n      <td>...</td>\n      <td>...</td>\n      <td>...</td>\n      <td>...</td>\n      <td>...</td>\n      <td>...</td>\n      <td>...</td>\n      <td>...</td>\n      <td>...</td>\n      <td>...</td>\n      <td>...</td>\n      <td>...</td>\n    </tr>\n    <tr>\n      <th>801</th>\n      <td>Lindenhof</td>\n      <td>ch-2572 Sutz-Lattrigen (BE)</td>\n      <td>47.093373</td>\n      <td>7.210469</td>\n      <td>50.0</td>\n      <td>0</td>\n      <td>1</td>\n      <td>0</td>\n      <td>0</td>\n      <td>0</td>\n      <td>...</td>\n      <td>0</td>\n      <td>0</td>\n      <td>0</td>\n      <td>1</td>\n      <td>1</td>\n      <td>0</td>\n      <td>1</td>\n      <td>7</td>\n      <td>0</td>\n      <td>0</td>\n    </tr>\n    <tr>\n      <th>802</th>\n      <td>Lindenhof</td>\n      <td>ch-2572 Sutz-Lattrigen (BE)</td>\n      <td>47.093373</td>\n      <td>7.210469</td>\n      <td>50.0</td>\n      <td>0</td>\n      <td>0</td>\n      <td>1</td>\n      <td>0</td>\n      <td>0</td>\n      <td>...</td>\n      <td>0</td>\n      <td>0</td>\n      <td>0</td>\n      <td>1</td>\n      <td>1</td>\n      <td>0</td>\n      <td>1</td>\n      <td>7</td>\n      <td>0</td>\n      <td>0</td>\n    </tr>\n    <tr>\n      <th>803</th>\n      <td>Seeland Camp</td>\n      <td>2554 Meinisberg (BE)</td>\n      <td>47.162189</td>\n      <td>7.346157</td>\n      <td>25.0</td>\n      <td>0</td>\n      <td>1</td>\n      <td>0</td>\n      <td>0</td>\n      <td>0</td>\n      <td>...</td>\n      <td>0</td>\n      <td>0</td>\n      <td>0</td>\n      <td>0</td>\n      <td>1</td>\n      <td>0</td>\n      <td>0</td>\n      <td>5</td>\n      <td>1</td>\n      <td>1</td>\n    </tr>\n    <tr>\n      <th>804</th>\n      <td>Seeland Camp</td>\n      <td>2554 Meinisberg (BE)</td>\n      <td>47.162189</td>\n      <td>7.346157</td>\n      <td>25.0</td>\n      <td>0</td>\n      <td>1</td>\n      <td>0</td>\n      <td>0</td>\n      <td>0</td>\n      <td>...</td>\n      <td>0</td>\n      <td>0</td>\n      <td>0</td>\n      <td>1</td>\n      <td>0</td>\n      <td>0</td>\n      <td>0</td>\n      <td>5</td>\n      <td>1</td>\n      <td>1</td>\n    </tr>\n    <tr>\n      <th>805</th>\n      <td>Camping Rüschegg-Heubach</td>\n      <td>3154 Rüschegg-Heubach (BE)</td>\n      <td>46.785982</td>\n      <td>7.403469</td>\n      <td>20.0</td>\n      <td>0</td>\n      <td>1</td>\n      <td>0</td>\n      <td>0</td>\n      <td>0</td>\n      <td>...</td>\n      <td>0</td>\n      <td>0</td>\n      <td>0</td>\n      <td>1</td>\n      <td>1</td>\n      <td>1</td>\n      <td>1</td>\n      <td>0</td>\n      <td>0</td>\n      <td>1</td>\n    </tr>\n  </tbody>\n</table>\n<p>806 rows × 55 columns</p>\n</div>"
     },
     "execution_count": 148,
     "metadata": {},
     "output_type": "execute_result"
    }
   ],
   "source": [
    "df_camping_clean"
   ],
   "metadata": {
    "collapsed": false
   }
  },
  {
   "cell_type": "code",
   "execution_count": null,
   "outputs": [],
   "source": [],
   "metadata": {
    "collapsed": false
   }
  }
 ],
 "metadata": {
  "kernelspec": {
   "display_name": "Python 3",
   "language": "python",
   "name": "python3"
  },
  "language_info": {
   "codemirror_mode": {
    "name": "ipython",
    "version": 2
   },
   "file_extension": ".py",
   "mimetype": "text/x-python",
   "name": "python",
   "nbconvert_exporter": "python",
   "pygments_lexer": "ipython2",
   "version": "2.7.6"
  }
 },
 "nbformat": 4,
 "nbformat_minor": 0
}
